{
  "cells": [
    {
      "cell_type": "markdown",
      "metadata": {
        "id": "view-in-github",
        "colab_type": "text"
      },
      "source": [
        "<a href=\"https://colab.research.google.com/github/Skan90/PythonData/blob/main/Python_Data_Science_Numpy.ipynb\" target=\"_parent\"><img src=\"https://colab.research.google.com/assets/colab-badge.svg\" alt=\"Open In Colab\"/></a>"
      ]
    },
    {
      "cell_type": "markdown",
      "metadata": {
        "id": "do3kUOLbltjE"
      },
      "source": [
        "# <font color=green> PYTHON PARA DATA SCIENCE - NUMPY\n",
        "---"
      ]
    },
    {
      "cell_type": "markdown",
      "metadata": {
        "id": "umSz9TLxltjG"
      },
      "source": [
        "# <font color=green> 1. INTRODUÇÃO AO PYTHON\n",
        "---"
      ]
    },
    {
      "cell_type": "markdown",
      "metadata": {
        "id": "gSnX12-sltjH"
      },
      "source": [
        "# 1.1 Introdução"
      ]
    },
    {
      "cell_type": "markdown",
      "metadata": {
        "id": "SRG_k55kltjI"
      },
      "source": [
        "> Python é uma linguagem de programação de alto nível com suporte a múltiplos paradigmas de programação. É um projeto *open source* e desde seu surgimento, em 1991, vem se tornando uma das linguagens de programação interpretadas mais populares. \n",
        ">\n",
        "> Nos últimos anos Python desenvolveu uma comunidade ativa de processamento científico e análise de dados e vem se destacando como uma das linguagens mais relevantes quando o assunto é ciência de dados e machine learning, tanto no ambiente acadêmico como também no mercado."
      ]
    },
    {
      "cell_type": "markdown",
      "metadata": {
        "id": "2oZuKvWkltjJ"
      },
      "source": [
        "# 1.2 Instalação e ambiente de desenvolvimento"
      ]
    },
    {
      "cell_type": "markdown",
      "metadata": {
        "id": "v4P8bMEIltjK"
      },
      "source": [
        "### Instalação Local\n",
        "\n",
        "### https://www.python.org/downloads/\n",
        "### ou\n",
        "### https://www.anaconda.com/distribution/"
      ]
    },
    {
      "cell_type": "markdown",
      "metadata": {
        "id": "FZtu5tjrltjL"
      },
      "source": [
        "### Google Colaboratory\n",
        "\n",
        "### https://colab.research.google.com"
      ]
    },
    {
      "cell_type": "markdown",
      "metadata": {
        "id": "C6vbfq8DltjM"
      },
      "source": [
        "### Verificando versão"
      ]
    },
    {
      "cell_type": "code",
      "execution_count": 1,
      "metadata": {
        "colab": {
          "base_uri": "https://localhost:8080/"
        },
        "id": "jeuAt-4NltjM",
        "outputId": "15bc54cc-d96f-4601-87f8-f2478264d163"
      },
      "outputs": [
        {
          "output_type": "stream",
          "name": "stdout",
          "text": [
            "Python 3.7.13\n"
          ]
        }
      ],
      "source": [
        "!python --version"
      ]
    },
    {
      "cell_type": "markdown",
      "metadata": {
        "id": "v86aEyR2ltjR"
      },
      "source": [
        "# 1.3 Trabalhando com arrays Numpy"
      ]
    },
    {
      "cell_type": "code",
      "execution_count": 2,
      "metadata": {
        "id": "6FEhElzNltjR"
      },
      "outputs": [],
      "source": [
        "import numpy as np"
      ]
    },
    {
      "cell_type": "code",
      "execution_count": 3,
      "metadata": {
        "id": "qjL5wPLKltjU"
      },
      "outputs": [],
      "source": [
        "km = np.loadtxt('carros-km.txt')"
      ]
    },
    {
      "cell_type": "code",
      "execution_count": 4,
      "metadata": {
        "id": "OFaxgUptltjW",
        "scrolled": true,
        "colab": {
          "base_uri": "https://localhost:8080/"
        },
        "outputId": "3cf6d947-cb56-4adc-d967-c4f82a6af5cd"
      },
      "outputs": [
        {
          "output_type": "execute_result",
          "data": {
            "text/plain": [
              "array([4.44100e+04, 5.71200e+03, 3.71230e+04, 0.00000e+00, 2.57570e+04,\n",
              "       1.07280e+04, 0.00000e+00, 7.75990e+04, 9.91970e+04, 3.79780e+04,\n",
              "       1.28590e+04, 8.05200e+03, 8.97730e+04, 0.00000e+00, 4.14570e+04,\n",
              "       1.15607e+05, 4.64490e+04, 0.00000e+00, 3.70860e+04, 1.51730e+04,\n",
              "       1.01193e+05, 0.00000e+00, 9.80790e+04, 1.02959e+05, 0.00000e+00,\n",
              "       0.00000e+00, 5.79500e+03, 0.00000e+00, 5.88480e+04, 9.43810e+04,\n",
              "       3.01630e+04, 5.33320e+04, 1.77200e+04, 3.38080e+04, 9.06840e+04,\n",
              "       4.39750e+04, 0.00000e+00, 0.00000e+00, 5.52600e+03, 0.00000e+00,\n",
              "       9.34150e+04, 4.07620e+04, 0.00000e+00, 8.63020e+04, 0.00000e+00,\n",
              "       9.75500e+03, 6.99450e+04, 2.39500e+03, 0.00000e+00, 8.03490e+04,\n",
              "       8.55540e+04, 5.04960e+04, 6.77160e+04, 9.39470e+04, 3.53450e+04,\n",
              "       8.10070e+04, 1.19513e+05, 0.00000e+00, 0.00000e+00, 0.00000e+00,\n",
              "       0.00000e+00, 0.00000e+00, 1.18895e+05, 4.85090e+04, 1.00912e+05,\n",
              "       9.56490e+04, 0.00000e+00, 9.04950e+04, 0.00000e+00, 2.91320e+04,\n",
              "       2.38020e+04, 8.49920e+04, 5.43950e+04, 2.67310e+04, 4.43290e+04,\n",
              "       1.18236e+05, 1.13808e+05, 6.10000e+02, 0.00000e+00, 0.00000e+00,\n",
              "       1.28870e+04, 7.96070e+04, 9.09240e+04, 4.27330e+04, 0.00000e+00,\n",
              "       0.00000e+00, 1.17714e+05, 1.13885e+05, 0.00000e+00, 3.05110e+04,\n",
              "       7.48670e+04, 1.19760e+05, 8.35600e+03, 6.42470e+04, 8.86610e+04,\n",
              "       4.53900e+03, 1.10116e+05, 3.32150e+04, 9.20010e+04, 0.00000e+00,\n",
              "       8.17080e+04, 7.06410e+04, 0.00000e+00, 9.12770e+04, 2.65440e+04,\n",
              "       5.25960e+04, 4.75030e+04, 8.90560e+04, 2.88340e+04, 1.10564e+05,\n",
              "       5.66380e+04, 1.73570e+04, 7.40150e+04, 1.51960e+04, 0.00000e+00,\n",
              "       1.08210e+04, 0.00000e+00, 0.00000e+00, 9.59500e+03, 9.90520e+04,\n",
              "       5.23890e+04, 1.19945e+05, 9.60050e+04, 3.16390e+04, 0.00000e+00,\n",
              "       8.01870e+04, 0.00000e+00, 5.82120e+04, 6.16720e+04, 3.20170e+04,\n",
              "       0.00000e+00, 5.69440e+04, 0.00000e+00, 8.65190e+04, 4.82100e+03,\n",
              "       1.01025e+05, 3.07050e+04, 0.00000e+00, 3.25550e+04, 1.03389e+05,\n",
              "       0.00000e+00, 5.52890e+04, 0.00000e+00, 0.00000e+00, 1.15930e+05,\n",
              "       6.64370e+04, 9.68000e+04, 1.42370e+04, 1.98960e+04, 1.13045e+05,\n",
              "       1.14942e+05, 3.17300e+03, 8.36110e+04, 2.53560e+04, 8.86340e+04,\n",
              "       2.31400e+03, 2.62700e+03, 5.20340e+04, 0.00000e+00, 0.00000e+00,\n",
              "       7.95770e+04, 1.08201e+05, 7.64530e+04, 5.76830e+04, 9.66100e+04,\n",
              "       1.09001e+05, 2.62120e+04, 4.59710e+04, 4.91820e+04, 4.99070e+04,\n",
              "       3.86200e+04, 6.09960e+04, 7.39140e+04, 1.07392e+05, 9.14600e+03,\n",
              "       0.00000e+00, 1.79240e+04, 0.00000e+00, 1.16949e+05, 2.04760e+04,\n",
              "       5.28040e+04, 8.84900e+03, 9.17240e+04, 3.20560e+04, 7.48860e+04,\n",
              "       0.00000e+00, 0.00000e+00, 5.21890e+04, 8.35590e+04, 0.00000e+00,\n",
              "       2.03280e+04, 0.00000e+00, 7.55770e+04, 3.36590e+04, 1.04341e+05,\n",
              "       2.55100e+04, 1.89650e+04, 8.71610e+04, 6.65200e+03, 5.57380e+04,\n",
              "       0.00000e+00, 0.00000e+00, 0.00000e+00, 6.43200e+04, 0.00000e+00,\n",
              "       6.86780e+04, 7.16970e+04, 0.00000e+00, 3.47830e+04, 3.37720e+04,\n",
              "       8.51270e+04, 1.36060e+04, 3.56470e+04, 9.51280e+04, 1.40460e+04,\n",
              "       4.11940e+04, 0.00000e+00, 9.61000e+04, 1.03900e+05, 4.38140e+04,\n",
              "       2.46380e+04, 0.00000e+00, 1.10966e+05, 1.59870e+04, 5.33690e+04,\n",
              "       1.00770e+04, 7.15440e+04, 1.07000e+02, 8.39400e+03, 4.14980e+04,\n",
              "       1.16002e+05, 1.00858e+05, 6.74750e+04, 8.49700e+03, 4.42000e+03,\n",
              "       0.00000e+00, 5.85370e+04, 0.00000e+00, 0.00000e+00, 1.12016e+05,\n",
              "       9.18400e+04, 1.12787e+05, 0.00000e+00, 0.00000e+00, 9.29300e+03,\n",
              "       0.00000e+00, 5.50830e+04, 4.87960e+04, 0.00000e+00, 8.96850e+04,\n",
              "       8.53840e+04, 9.81080e+04, 7.12800e+04, 2.75050e+04, 2.99810e+04,\n",
              "       5.26370e+04, 7.68500e+03, 5.01880e+04])"
            ]
          },
          "metadata": {},
          "execution_count": 4
        }
      ],
      "source": [
        "km"
      ]
    },
    {
      "cell_type": "code",
      "execution_count": 5,
      "metadata": {
        "id": "FXjYowRDltjZ"
      },
      "outputs": [],
      "source": [
        "anos = np.loadtxt('carros-anos.txt', dtype = int)"
      ]
    },
    {
      "cell_type": "markdown",
      "source": [
        "[Documentação - numpy.**loadtxt**](https://numpy.org/doc/stable/reference/generated/numpy.loadtxt.html?highlight=loadtxt#numpy.loadtxt)\n",
        "\n",
        "numpy.loadtxt(fname, dtype=<class 'float'>, comments='#', delimiter=None, converters=None, skiprows=0, usecols=None, unpack=False, ndmin=0, encoding='bytes', max_rows=None, *, quotechar=None, like=None)\n",
        " [FONTE](https://github.com/numpy/numpy/blob/v1.23.0/numpy/lib/npyio.py#L1061-L1306)"
      ],
      "metadata": {
        "id": "E3xaKU2ROF0o"
      }
    },
    {
      "cell_type": "code",
      "execution_count": 6,
      "metadata": {
        "id": "f_d2Ya-vltjb",
        "colab": {
          "base_uri": "https://localhost:8080/"
        },
        "outputId": "84c4361f-887c-4260-e893-8109bab8c352"
      },
      "outputs": [
        {
          "output_type": "execute_result",
          "data": {
            "text/plain": [
              "array([2003, 1991, 1990, 2019, 2006, 2012, 2019, 2009, 2010, 2011, 2002,\n",
              "       2007, 2001, 2019, 2009, 2016, 2012, 2019, 2016, 2017, 2002, 2019,\n",
              "       1994, 1991, 2019, 2019, 2016, 2019, 2002, 1991, 1997, 1995, 2018,\n",
              "       1991, 2014, 1995, 2019, 2019, 2009, 2019, 2013, 2003, 2019, 2002,\n",
              "       2019, 2002, 2004, 2001, 2019, 2003, 2009, 2006, 2000, 2006, 2010,\n",
              "       1994, 2007, 2019, 2019, 2019, 2019, 2019, 2017, 2011, 2001, 1996,\n",
              "       2019, 1994, 2019, 2007, 1994, 2007, 1997, 2006, 2013, 1994, 2008,\n",
              "       2008, 2019, 2019, 1999, 2007, 1993, 1995, 2019, 2019, 2016, 2011,\n",
              "       2019, 2002, 2013, 2017, 2016, 2008, 2018, 2003, 2003, 2004, 2010,\n",
              "       2019, 2006, 2001, 2019, 2015, 2018, 2017, 1992, 2001, 1993, 1995,\n",
              "       2003, 2014, 2008, 2013, 2019, 2017, 2019, 2019, 2006, 2015, 2007,\n",
              "       2005, 2017, 1998, 2019, 1999, 2019, 2009, 2003, 1994, 2019, 1994,\n",
              "       2019, 2015, 1996, 1997, 1993, 2019, 1992, 1995, 2019, 1990, 2019,\n",
              "       2019, 1991, 1990, 2012, 2007, 2013, 2000, 2002, 1996, 1996, 2015,\n",
              "       1993, 2013, 2013, 2009, 2019, 2019, 2002, 1997, 1998, 2004, 1996,\n",
              "       2015, 2016, 2005, 1999, 1995, 1993, 2004, 2013, 1998, 2018, 2019,\n",
              "       2018, 2019, 1990, 2009, 1990, 2006, 2002, 1991, 1992, 2019, 2019,\n",
              "       2005, 2010, 2019, 2016, 2019, 2010, 1994, 2001, 2014, 1996, 1993,\n",
              "       1993, 2001, 2019, 2019, 2019, 2007, 2019, 2016, 2014, 2019, 2015,\n",
              "       2015, 1996, 2002, 2005, 1995, 1999, 2005, 2019, 1997, 1990, 2001,\n",
              "       2013, 2019, 2017, 2011, 2005, 2007, 1993, 1991, 1991, 1997, 2000,\n",
              "       2007, 2006, 2015, 2008, 2019, 1996, 2019, 2019, 2014, 2004, 2008,\n",
              "       2019, 2019, 2012, 2019, 1996, 2011, 2019, 2010, 2007, 1994, 2007,\n",
              "       2014, 1991, 2002, 1996, 1992])"
            ]
          },
          "metadata": {},
          "execution_count": 6
        }
      ],
      "source": [
        "anos"
      ]
    },
    {
      "cell_type": "code",
      "execution_count": 7,
      "metadata": {
        "id": "hxLZatdeltje"
      },
      "outputs": [],
      "source": [
        "km_media = km / (2022 - anos)"
      ]
    },
    {
      "cell_type": "code",
      "execution_count": 8,
      "metadata": {
        "id": "GLsHBNakltjg",
        "colab": {
          "base_uri": "https://localhost:8080/"
        },
        "outputId": "4f51dad7-57bf-4b2a-d5bc-de1fe7f7f63c"
      },
      "outputs": [
        {
          "output_type": "execute_result",
          "data": {
            "text/plain": [
              "array([2.33736842e+03, 1.84258065e+02, 1.16009375e+03, 0.00000000e+00,\n",
              "       1.60981250e+03, 1.07280000e+03, 0.00000000e+00, 5.96915385e+03,\n",
              "       8.26641667e+03, 3.45254545e+03, 6.42950000e+02, 5.36800000e+02,\n",
              "       4.27490476e+03, 0.00000000e+00, 3.18900000e+03, 1.92678333e+04,\n",
              "       4.64490000e+03, 0.00000000e+00, 6.18100000e+03, 3.03460000e+03,\n",
              "       5.05965000e+03, 0.00000000e+00, 3.50282143e+03, 3.32125806e+03,\n",
              "       0.00000000e+00, 0.00000000e+00, 9.65833333e+02, 0.00000000e+00,\n",
              "       2.94240000e+03, 3.04454839e+03, 1.20652000e+03, 1.97525926e+03,\n",
              "       4.43000000e+03, 1.09058065e+03, 1.13355000e+04, 1.62870370e+03,\n",
              "       0.00000000e+00, 0.00000000e+00, 4.25076923e+02, 0.00000000e+00,\n",
              "       1.03794444e+04, 2.14536842e+03, 0.00000000e+00, 4.31510000e+03,\n",
              "       0.00000000e+00, 4.87750000e+02, 3.88583333e+03, 1.14047619e+02,\n",
              "       0.00000000e+00, 4.22889474e+03, 6.58107692e+03, 3.15600000e+03,\n",
              "       3.07800000e+03, 5.87168750e+03, 2.94541667e+03, 2.89310714e+03,\n",
              "       7.96753333e+03, 0.00000000e+00, 0.00000000e+00, 0.00000000e+00,\n",
              "       0.00000000e+00, 0.00000000e+00, 2.37790000e+04, 4.40990909e+03,\n",
              "       4.80533333e+03, 3.67880769e+03, 0.00000000e+00, 3.23196429e+03,\n",
              "       0.00000000e+00, 1.94213333e+03, 8.50071429e+02, 5.66613333e+03,\n",
              "       2.17580000e+03, 1.67068750e+03, 4.92544444e+03, 4.22271429e+03,\n",
              "       8.12914286e+03, 4.35714286e+01, 0.00000000e+00, 0.00000000e+00,\n",
              "       5.60304348e+02, 5.30713333e+03, 3.13531034e+03, 1.58270370e+03,\n",
              "       0.00000000e+00, 0.00000000e+00, 1.96190000e+04, 1.03531818e+04,\n",
              "       0.00000000e+00, 1.52555000e+03, 8.31855556e+03, 2.39520000e+04,\n",
              "       1.39266667e+03, 4.58907143e+03, 2.21652500e+04, 2.38894737e+02,\n",
              "       5.79557895e+03, 1.84527778e+03, 7.66675000e+03, 0.00000000e+00,\n",
              "       5.10675000e+03, 3.36385714e+03, 0.00000000e+00, 1.30395714e+04,\n",
              "       6.63600000e+03, 1.05192000e+04, 1.58343333e+03, 4.24076190e+03,\n",
              "       9.94275862e+02, 4.09496296e+03, 2.98094737e+03, 2.16962500e+03,\n",
              "       5.28678571e+03, 1.68844444e+03, 0.00000000e+00, 2.16420000e+03,\n",
              "       0.00000000e+00, 0.00000000e+00, 5.99687500e+02, 1.41502857e+04,\n",
              "       3.49260000e+03, 7.05558824e+03, 1.92010000e+04, 1.31829167e+03,\n",
              "       0.00000000e+00, 3.48639130e+03, 0.00000000e+00, 4.47784615e+03,\n",
              "       3.24589474e+03, 1.14346429e+03, 0.00000000e+00, 2.03371429e+03,\n",
              "       0.00000000e+00, 1.23598571e+04, 1.85423077e+02, 4.04100000e+03,\n",
              "       1.05879310e+03, 0.00000000e+00, 1.08516667e+03, 3.82922222e+03,\n",
              "       0.00000000e+00, 1.72778125e+03, 0.00000000e+00, 0.00000000e+00,\n",
              "       3.73967742e+03, 2.07615625e+03, 9.68000000e+03, 9.49133333e+02,\n",
              "       2.21066667e+03, 5.13840909e+03, 5.74710000e+03, 1.22038462e+02,\n",
              "       3.21580769e+03, 3.62228571e+03, 3.05634483e+03, 2.57111111e+02,\n",
              "       2.91888889e+02, 4.00261538e+03, 0.00000000e+00, 0.00000000e+00,\n",
              "       3.97885000e+03, 4.32804000e+03, 3.18554167e+03, 3.20461111e+03,\n",
              "       3.71576923e+03, 1.55715714e+04, 4.36866667e+03, 2.70417647e+03,\n",
              "       2.13834783e+03, 1.84840741e+03, 1.33172414e+03, 3.38866667e+03,\n",
              "       8.21266667e+03, 4.47466667e+03, 2.28650000e+03, 0.00000000e+00,\n",
              "       4.48100000e+03, 0.00000000e+00, 3.65465625e+03, 1.57507692e+03,\n",
              "       1.65012500e+03, 5.53062500e+02, 4.58620000e+03, 1.03406452e+03,\n",
              "       2.49620000e+03, 0.00000000e+00, 0.00000000e+00, 3.06994118e+03,\n",
              "       6.96325000e+03, 0.00000000e+00, 3.38800000e+03, 0.00000000e+00,\n",
              "       6.29808333e+03, 1.20210714e+03, 4.96861905e+03, 3.18875000e+03,\n",
              "       7.29423077e+02, 3.00555172e+03, 2.29379310e+02, 2.65419048e+03,\n",
              "       0.00000000e+00, 0.00000000e+00, 0.00000000e+00, 4.28800000e+03,\n",
              "       0.00000000e+00, 1.14463333e+04, 8.96212500e+03, 0.00000000e+00,\n",
              "       4.96900000e+03, 4.82457143e+03, 3.27411538e+03, 6.80300000e+02,\n",
              "       2.09688235e+03, 3.52325926e+03, 6.10695652e+02, 2.42317647e+03,\n",
              "       0.00000000e+00, 3.84400000e+03, 3.24687500e+03, 2.08638095e+03,\n",
              "       2.73755556e+03, 0.00000000e+00, 2.21932000e+04, 1.45336364e+03,\n",
              "       3.13935294e+03, 6.71800000e+02, 2.46703448e+03, 3.45161290e+00,\n",
              "       2.70774194e+02, 1.65992000e+03, 5.27281818e+03, 6.72386667e+03,\n",
              "       4.21718750e+03, 1.21385714e+03, 3.15714286e+02, 0.00000000e+00,\n",
              "       2.25142308e+03, 0.00000000e+00, 0.00000000e+00, 1.40020000e+04,\n",
              "       5.10222222e+03, 8.05621429e+03, 0.00000000e+00, 0.00000000e+00,\n",
              "       9.29300000e+02, 0.00000000e+00, 2.11857692e+03, 4.43600000e+03,\n",
              "       0.00000000e+00, 7.47375000e+03, 5.69226667e+03, 3.50385714e+03,\n",
              "       4.75200000e+03, 3.43812500e+03, 9.67129032e+02, 2.63185000e+03,\n",
              "       2.95576923e+02, 1.67293333e+03])"
            ]
          },
          "metadata": {},
          "execution_count": 8
        }
      ],
      "source": [
        "km_media"
      ]
    },
    {
      "cell_type": "code",
      "execution_count": 9,
      "metadata": {
        "colab": {
          "base_uri": "https://localhost:8080/"
        },
        "id": "oSSYu6nhltji",
        "outputId": "a5ba1e5e-529b-4528-94c9-2d659e74f937"
      },
      "outputs": [
        {
          "output_type": "execute_result",
          "data": {
            "text/plain": [
              "numpy.ndarray"
            ]
          },
          "metadata": {},
          "execution_count": 9
        }
      ],
      "source": [
        "type(km_media)"
      ]
    },
    {
      "cell_type": "code",
      "execution_count": 9,
      "metadata": {
        "id": "D6qMoutGltjk"
      },
      "outputs": [],
      "source": [
        ""
      ]
    },
    {
      "cell_type": "code",
      "execution_count": 9,
      "metadata": {
        "id": "XIBz0Vowltjn"
      },
      "outputs": [],
      "source": [
        ""
      ]
    },
    {
      "cell_type": "code",
      "execution_count": 9,
      "metadata": {
        "id": "u8_CU3F4ltjq"
      },
      "outputs": [],
      "source": [
        ""
      ]
    },
    {
      "cell_type": "markdown",
      "metadata": {
        "id": "wMdUsAq4ltjs"
      },
      "source": [
        "### Obtendo a quilometragem média por ano"
      ]
    },
    {
      "cell_type": "code",
      "execution_count": 9,
      "metadata": {
        "id": "cD2M3s3Fltjt"
      },
      "outputs": [],
      "source": [
        ""
      ]
    },
    {
      "cell_type": "code",
      "execution_count": 9,
      "metadata": {
        "id": "65IyPzKKltjv"
      },
      "outputs": [],
      "source": [
        ""
      ]
    },
    {
      "cell_type": "code",
      "execution_count": 9,
      "metadata": {
        "id": "Z0JCmAWvltjy"
      },
      "outputs": [],
      "source": [
        ""
      ]
    },
    {
      "cell_type": "markdown",
      "metadata": {
        "id": "KdG5NmmGltj0"
      },
      "source": [
        "# <font color=green> 2. CARACTERÍSTICAS BÁSICAS DA LINGUAGEM\n",
        "---"
      ]
    },
    {
      "cell_type": "markdown",
      "metadata": {
        "id": "X1K5kisFltj1"
      },
      "source": [
        "# 2.1 Operações matemáticas\n",
        "\n",
        "### Operadores aritméticos: $+$, $-$, $*$, $/$, $**$, $\\%$, $//$"
      ]
    },
    {
      "cell_type": "markdown",
      "metadata": {
        "id": "8YCDVpbYltj1"
      },
      "source": [
        "### Adição ($+$)"
      ]
    },
    {
      "cell_type": "code",
      "execution_count": 10,
      "metadata": {
        "colab": {
          "base_uri": "https://localhost:8080/"
        },
        "id": "h6DsMqhaltj2",
        "outputId": "cb557f4d-a5b7-48eb-b8e4-bb6c69c6f7c0"
      },
      "outputs": [
        {
          "output_type": "execute_result",
          "data": {
            "text/plain": [
              "4"
            ]
          },
          "metadata": {},
          "execution_count": 10
        }
      ],
      "source": [
        "2 + 2"
      ]
    },
    {
      "cell_type": "markdown",
      "metadata": {
        "id": "WeJG-WJBltj8"
      },
      "source": [
        "### Subtração ($-$)"
      ]
    },
    {
      "cell_type": "code",
      "execution_count": 11,
      "metadata": {
        "colab": {
          "base_uri": "https://localhost:8080/"
        },
        "id": "zoB7_OcRltj9",
        "outputId": "0b05a304-ad31-4d3d-efcd-3dc25a7a3b13"
      },
      "outputs": [
        {
          "output_type": "execute_result",
          "data": {
            "text/plain": [
              "2"
            ]
          },
          "metadata": {},
          "execution_count": 11
        }
      ],
      "source": [
        "3 - 1"
      ]
    },
    {
      "cell_type": "markdown",
      "metadata": {
        "id": "zuv8N7fjltkC"
      },
      "source": [
        "### Multiplicação ($*$)"
      ]
    },
    {
      "cell_type": "code",
      "execution_count": 12,
      "metadata": {
        "colab": {
          "base_uri": "https://localhost:8080/"
        },
        "id": "TAWG7xSTltkD",
        "outputId": "7b25fb0b-0591-477b-8c61-fd05aaee3494"
      },
      "outputs": [
        {
          "output_type": "execute_result",
          "data": {
            "text/plain": [
              "6"
            ]
          },
          "metadata": {},
          "execution_count": 12
        }
      ],
      "source": [
        "2 * 3"
      ]
    },
    {
      "cell_type": "markdown",
      "metadata": {
        "id": "dMp7BsnwltkF"
      },
      "source": [
        "### Divisão ($/$) e ($//$)\n",
        "A operação divisão sempre retorna um número de ponto flutuante"
      ]
    },
    {
      "cell_type": "code",
      "execution_count": 13,
      "metadata": {
        "colab": {
          "base_uri": "https://localhost:8080/"
        },
        "id": "DD5kx3H3ltkF",
        "outputId": "e9a18b7d-2d68-4e2b-fc2d-1df6f2c88903"
      },
      "outputs": [
        {
          "output_type": "execute_result",
          "data": {
            "text/plain": [
              "3.3333333333333335"
            ]
          },
          "metadata": {},
          "execution_count": 13
        }
      ],
      "source": [
        "10 / 3"
      ]
    },
    {
      "cell_type": "code",
      "execution_count": 14,
      "metadata": {
        "colab": {
          "base_uri": "https://localhost:8080/"
        },
        "id": "ji0CYH3UltkI",
        "outputId": "3a5acae6-4d3d-49e7-e098-3b3144e7274a"
      },
      "outputs": [
        {
          "output_type": "execute_result",
          "data": {
            "text/plain": [
              "0"
            ]
          },
          "metadata": {},
          "execution_count": 14
        }
      ],
      "source": [
        "3//10"
      ]
    },
    {
      "cell_type": "markdown",
      "metadata": {
        "id": "3DSO7TcvltkL"
      },
      "source": [
        "### Exponenciação ($**$)"
      ]
    },
    {
      "cell_type": "code",
      "execution_count": 15,
      "metadata": {
        "colab": {
          "base_uri": "https://localhost:8080/"
        },
        "id": "tBKvl2TWltkM",
        "outputId": "d3062361-2f4a-4716-ba28-9efef4d61d2f"
      },
      "outputs": [
        {
          "output_type": "execute_result",
          "data": {
            "text/plain": [
              "8"
            ]
          },
          "metadata": {},
          "execution_count": 15
        }
      ],
      "source": [
        "2**3"
      ]
    },
    {
      "cell_type": "markdown",
      "metadata": {
        "id": "MhD56p-9ltkQ"
      },
      "source": [
        "### Resto da divisão ($\\%$)"
      ]
    },
    {
      "cell_type": "code",
      "execution_count": 16,
      "metadata": {
        "colab": {
          "base_uri": "https://localhost:8080/"
        },
        "id": "bfa7phO6ltkR",
        "outputId": "bacea1ed-b9ea-42f0-fceb-a514948ec022"
      },
      "outputs": [
        {
          "output_type": "execute_result",
          "data": {
            "text/plain": [
              "0"
            ]
          },
          "metadata": {},
          "execution_count": 16
        }
      ],
      "source": [
        "10 % 2"
      ]
    },
    {
      "cell_type": "code",
      "execution_count": 17,
      "metadata": {
        "colab": {
          "base_uri": "https://localhost:8080/"
        },
        "id": "khIEx6olltkT",
        "outputId": "69a4f91c-9e78-464b-d5ae-dc6ef678e561"
      },
      "outputs": [
        {
          "output_type": "execute_result",
          "data": {
            "text/plain": [
              "0"
            ]
          },
          "metadata": {},
          "execution_count": 17
        }
      ],
      "source": [
        "10 % 5"
      ]
    },
    {
      "cell_type": "markdown",
      "metadata": {
        "id": "8pVVp5fsltkV"
      },
      "source": [
        "### Expressões matemáticas"
      ]
    },
    {
      "cell_type": "code",
      "execution_count": 18,
      "metadata": {
        "colab": {
          "base_uri": "https://localhost:8080/"
        },
        "id": "jlQTk4gNltkW",
        "outputId": "fdcab41a-7f60-42d7-970c-b8a94f9624bb"
      },
      "outputs": [
        {
          "output_type": "execute_result",
          "data": {
            "text/plain": [
              "16"
            ]
          },
          "metadata": {},
          "execution_count": 18
        }
      ],
      "source": [
        "5 * 2 + 3 * 2"
      ]
    },
    {
      "cell_type": "code",
      "execution_count": 19,
      "metadata": {
        "colab": {
          "base_uri": "https://localhost:8080/"
        },
        "id": "kkCb6Crgltka",
        "outputId": "ce5409de-5a3d-447a-82e8-9ebb98b4afca"
      },
      "outputs": [
        {
          "output_type": "execute_result",
          "data": {
            "text/plain": [
              "170"
            ]
          },
          "metadata": {},
          "execution_count": 19
        }
      ],
      "source": [
        "(15 * 2) + (20 * 7)"
      ]
    },
    {
      "cell_type": "code",
      "execution_count": 20,
      "metadata": {
        "colab": {
          "base_uri": "https://localhost:8080/"
        },
        "id": "UD12tlgAltkd",
        "outputId": "68304b9e-7284-4329-e4bb-e3c0884e9fde"
      },
      "outputs": [
        {
          "output_type": "execute_result",
          "data": {
            "text/plain": [
              "2310"
            ]
          },
          "metadata": {},
          "execution_count": 20
        }
      ],
      "source": [
        "(15 * (2 + 20) * 7)"
      ]
    },
    {
      "cell_type": "markdown",
      "metadata": {
        "id": "a5tKQ5Beltkf"
      },
      "source": [
        "### A variável _\n",
        "\n",
        "No modo interativo, o último resultado impresso é atribuído à variável _"
      ]
    },
    {
      "cell_type": "code",
      "execution_count": 21,
      "metadata": {
        "colab": {
          "base_uri": "https://localhost:8080/"
        },
        "id": "VkHEx516ltkg",
        "outputId": "75ad9207-7106-4b96-f452-cfcaf326696e"
      },
      "outputs": [
        {
          "output_type": "execute_result",
          "data": {
            "text/plain": [
              "10"
            ]
          },
          "metadata": {},
          "execution_count": 21
        }
      ],
      "source": [
        "5 * 2"
      ]
    },
    {
      "cell_type": "code",
      "execution_count": 22,
      "metadata": {
        "colab": {
          "base_uri": "https://localhost:8080/"
        },
        "id": "dFShsobXltki",
        "outputId": "bc147f8c-a01f-4dc3-9dfd-122e3f766683"
      },
      "outputs": [
        {
          "output_type": "execute_result",
          "data": {
            "text/plain": [
              "16"
            ]
          },
          "metadata": {},
          "execution_count": 22
        }
      ],
      "source": [
        "_ + 3 * 2"
      ]
    },
    {
      "cell_type": "code",
      "execution_count": 23,
      "metadata": {
        "colab": {
          "base_uri": "https://localhost:8080/"
        },
        "id": "hJIpR3KUltkk",
        "outputId": "823dec90-85ca-4c65-a134-66b3ce07f938"
      },
      "outputs": [
        {
          "output_type": "execute_result",
          "data": {
            "text/plain": [
              "8.0"
            ]
          },
          "metadata": {},
          "execution_count": 23
        }
      ],
      "source": [
        "_ / 2"
      ]
    },
    {
      "cell_type": "markdown",
      "metadata": {
        "id": "MUrQAf6Mltkm"
      },
      "source": [
        "# 2.2 Variáveis "
      ]
    },
    {
      "cell_type": "markdown",
      "metadata": {
        "id": "qaVLKIeultkn"
      },
      "source": [
        "### Nomes de variáveis\n",
        "\n",
        "- Nomes de variáveis pode começar com letras (a - z, A - Z) ou o caractere *underscore* (_):\n",
        "\n",
        "    > Altura\n",
        "    >\n",
        "    > _peso\n",
        "    \n",
        "- O restante do nome pode conter letras, números e o caractere \"_\":\n",
        "\n",
        "    > nome_da_variavel\n",
        "    >\n",
        "    > _valor\n",
        "    >\n",
        "    > dia_28_11_\n",
        "    \n",
        "\n",
        "- O nomes são *case sensitive*:\n",
        "\n",
        "    > Nome_Da_Variável diferente nome_da_variavel diferente NOME_DA_VARIAVEL\n",
        "    \n",
        "### <font color=red>Observações:\n",
        "- Existem algumas palavras reservadas da linguagem que não podem ser utilizadas como nomes de variável:\n",
        "\n",
        "| |Lista de palavras <br>reservadas em Python| |\n",
        "|:-------------:|:------------:|:-------------:|\n",
        "| and           | as           | not           | \n",
        "| assert        | finally      | or            | \n",
        "| break         | for          | pass          | \n",
        "| class         | from         | nonlocal      | \n",
        "| continue      | global       | raise         | \n",
        "| def           | if           | return        | \n",
        "| del           | import       | try           | \n",
        "| elif          | in           | while         | \n",
        "| else          | is           | with          | \n",
        "| except        | lambda       | yield         | \n",
        "| False         | True         | None          | "
      ]
    },
    {
      "cell_type": "markdown",
      "metadata": {
        "id": "3frWjfAtltkn"
      },
      "source": [
        "### Declaração de variáveis\n",
        "\n",
        "### Operadores de atribuição: $=$, $+=$, $-=$, $*=$, $/=$, $**=$, $\\%=$, $//=$"
      ]
    },
    {
      "cell_type": "code",
      "execution_count": 24,
      "metadata": {
        "id": "7VIcrXNHltko"
      },
      "outputs": [],
      "source": [
        "ano_atual = 2022\n",
        "ano_fabricacao = 2002\n",
        "km_total = 74410.0"
      ]
    },
    {
      "cell_type": "code",
      "execution_count": 25,
      "metadata": {
        "colab": {
          "base_uri": "https://localhost:8080/"
        },
        "id": "atVoqp6bltkq",
        "outputId": "8e8c6dba-7f00-4c46-f822-d8f34a1a897c"
      },
      "outputs": [
        {
          "output_type": "execute_result",
          "data": {
            "text/plain": [
              "2022"
            ]
          },
          "metadata": {},
          "execution_count": 25
        }
      ],
      "source": [
        "ano_atual"
      ]
    },
    {
      "cell_type": "code",
      "execution_count": 26,
      "metadata": {
        "colab": {
          "base_uri": "https://localhost:8080/"
        },
        "id": "_t82qXrOltkt",
        "outputId": "3c601c48-a1f8-49cc-be67-43cbd70a152a"
      },
      "outputs": [
        {
          "output_type": "execute_result",
          "data": {
            "text/plain": [
              "2002"
            ]
          },
          "metadata": {},
          "execution_count": 26
        }
      ],
      "source": [
        "ano_fabricacao"
      ]
    },
    {
      "cell_type": "code",
      "execution_count": 27,
      "metadata": {
        "colab": {
          "base_uri": "https://localhost:8080/"
        },
        "id": "1anwuDHiltkv",
        "outputId": "769e3be9-e297-4fe1-b4e1-a5d06691a762"
      },
      "outputs": [
        {
          "output_type": "execute_result",
          "data": {
            "text/plain": [
              "74410.0"
            ]
          },
          "metadata": {},
          "execution_count": 27
        }
      ],
      "source": [
        "km_total"
      ]
    },
    {
      "cell_type": "markdown",
      "metadata": {
        "id": "gCBkfq_8ltky"
      },
      "source": [
        "# $$km_{média} = \\frac {km_{total}}{(Ano_{atual} - Ano_{fabricação})}$$"
      ]
    },
    {
      "cell_type": "markdown",
      "metadata": {
        "id": "zswWS4hNltky"
      },
      "source": [
        "### Operações com variáveis"
      ]
    },
    {
      "cell_type": "code",
      "execution_count": 28,
      "metadata": {
        "colab": {
          "base_uri": "https://localhost:8080/"
        },
        "id": "HxxU0rnfltkz",
        "outputId": "d8dad0aa-4ae8-4c22-db32-aabb6b93553c"
      },
      "outputs": [
        {
          "output_type": "execute_result",
          "data": {
            "text/plain": [
              "3720.5"
            ]
          },
          "metadata": {},
          "execution_count": 28
        }
      ],
      "source": [
        "km_media = km_total / (ano_atual - ano_fabricacao)\n",
        "km_media"
      ]
    },
    {
      "cell_type": "code",
      "execution_count": 29,
      "metadata": {
        "colab": {
          "base_uri": "https://localhost:8080/"
        },
        "id": "_2Qhb32jltk1",
        "outputId": "e587caf6-0f7a-4d50-ce0d-0d2e2a20afd2"
      },
      "outputs": [
        {
          "output_type": "execute_result",
          "data": {
            "text/plain": [
              "1102.5"
            ]
          },
          "metadata": {},
          "execution_count": 29
        }
      ],
      "source": [
        "ano_atual = 2022\n",
        "ano_fabricacao = 2018\n",
        "km_total = 4410.0\n",
        "km_media = km_total / (ano_atual - ano_fabricacao)\n",
        "km_media"
      ]
    },
    {
      "cell_type": "code",
      "execution_count": 30,
      "metadata": {
        "colab": {
          "base_uri": "https://localhost:8080/"
        },
        "id": "nCJzA7dyltk3",
        "outputId": "764675d0-b083-45f4-b980-f2d91acc4c85"
      },
      "outputs": [
        {
          "output_type": "execute_result",
          "data": {
            "text/plain": [
              "5512.5"
            ]
          },
          "metadata": {},
          "execution_count": 30
        }
      ],
      "source": [
        "ano_atual = 2022\n",
        "ano_fabricacao = 2018\n",
        "km_total = 4410.0\n",
        "km_media = km_total / (ano_atual - ano_fabricacao)\n",
        "\n",
        "# km_total = km_total + km_media\n",
        "km_total += km_media\n",
        "km_total"
      ]
    },
    {
      "cell_type": "code",
      "execution_count": 30,
      "metadata": {
        "id": "ifRwQ0vEltk9"
      },
      "outputs": [],
      "source": [
        ""
      ]
    },
    {
      "cell_type": "markdown",
      "metadata": {
        "id": "fDBrHWSBltlB"
      },
      "source": [
        "### Conclusão:\n",
        "```\n",
        "\"valor = valor + 1\" é equivalente a \"valor += 1\"\n",
        "```"
      ]
    },
    {
      "cell_type": "markdown",
      "metadata": {
        "id": "uVAyJbmAltlC"
      },
      "source": [
        "### Declaração múltipla"
      ]
    },
    {
      "cell_type": "code",
      "execution_count": 31,
      "metadata": {
        "colab": {
          "base_uri": "https://localhost:8080/"
        },
        "id": "oMWEzjPOltlC",
        "outputId": "3180dfd4-951c-43ce-c55c-5f5853e77d60"
      },
      "outputs": [
        {
          "output_type": "execute_result",
          "data": {
            "text/plain": [
              "1102.5"
            ]
          },
          "metadata": {},
          "execution_count": 31
        }
      ],
      "source": [
        "ano_atual, ano_fabricacao, km_total= 2022, 2018, 4410.0\n",
        "km_media = km_total / (ano_atual - ano_fabricacao)\n",
        "km_media"
      ]
    },
    {
      "cell_type": "code",
      "execution_count": 31,
      "metadata": {
        "id": "9ZKlHkLultlE"
      },
      "outputs": [],
      "source": [
        ""
      ]
    },
    {
      "cell_type": "code",
      "execution_count": 31,
      "metadata": {
        "id": "-mcMuW9nltlG"
      },
      "outputs": [],
      "source": [
        ""
      ]
    },
    {
      "cell_type": "code",
      "execution_count": 31,
      "metadata": {
        "id": "WFFavLIvltlL"
      },
      "outputs": [],
      "source": [
        ""
      ]
    },
    {
      "cell_type": "code",
      "execution_count": 31,
      "metadata": {
        "id": "iFawOJe6ltlO"
      },
      "outputs": [],
      "source": [
        ""
      ]
    },
    {
      "cell_type": "markdown",
      "metadata": {
        "id": "uoRXMeRDltlQ"
      },
      "source": [
        "# 2.3 Tipos de dados"
      ]
    },
    {
      "cell_type": "markdown",
      "metadata": {
        "id": "sW_G6EjWltlQ"
      },
      "source": [
        "Os tipos de dados especificam como números e caracteres serão armazenados e manipulados dentro de um programa. Os tipos de dados básicos do Python são:\n",
        "\n",
        "1. **Números**\n",
        "    1. ***int*** - Inteiros\n",
        "    - ***float*** - Ponto flutuante\n",
        "- **Booleanos** - Assume os valores True ou False. Essencial quando começarmos a trabalhar com declarações condicionais\n",
        "- ***Strings*** - Sequência de um ou mais caracteres que pode incluir letras, números e outros tipos de caracteres. Representa um texto.\n",
        "- **None** - Representa a ausência de valor"
      ]
    },
    {
      "cell_type": "markdown",
      "metadata": {
        "id": "-HRRxQOtltlQ"
      },
      "source": [
        "### Números"
      ]
    },
    {
      "cell_type": "code",
      "execution_count": 32,
      "metadata": {
        "id": "5PKIcIuUltlR"
      },
      "outputs": [],
      "source": [
        "ano_atual = 2022"
      ]
    },
    {
      "cell_type": "code",
      "execution_count": 33,
      "metadata": {
        "colab": {
          "base_uri": "https://localhost:8080/"
        },
        "id": "G32Yd1g0ltlT",
        "outputId": "886a487c-8780-47ce-9f14-75a2beade98f"
      },
      "outputs": [
        {
          "output_type": "execute_result",
          "data": {
            "text/plain": [
              "int"
            ]
          },
          "metadata": {},
          "execution_count": 33
        }
      ],
      "source": [
        "type(ano_atual)"
      ]
    },
    {
      "cell_type": "code",
      "execution_count": 34,
      "metadata": {
        "id": "b9_v__dEltlV"
      },
      "outputs": [],
      "source": [
        "km_total = 1111111.8"
      ]
    },
    {
      "cell_type": "code",
      "execution_count": 35,
      "metadata": {
        "colab": {
          "base_uri": "https://localhost:8080/"
        },
        "id": "A0nySb3LltlZ",
        "outputId": "da633805-4f02-4ef8-c915-112383c7676f"
      },
      "outputs": [
        {
          "output_type": "execute_result",
          "data": {
            "text/plain": [
              "float"
            ]
          },
          "metadata": {},
          "execution_count": 35
        }
      ],
      "source": [
        "type(km_total)"
      ]
    },
    {
      "cell_type": "markdown",
      "metadata": {
        "id": "7X9iheAnltld"
      },
      "source": [
        "### Booleanos"
      ]
    },
    {
      "cell_type": "code",
      "execution_count": 36,
      "metadata": {
        "id": "liUYdchPltle"
      },
      "outputs": [],
      "source": [
        "zero_km = True"
      ]
    },
    {
      "cell_type": "code",
      "execution_count": 37,
      "metadata": {
        "colab": {
          "base_uri": "https://localhost:8080/"
        },
        "id": "oZIQAghaltlh",
        "outputId": "1dac7323-c739-4acc-d8d1-e6c3eceaac7c"
      },
      "outputs": [
        {
          "output_type": "execute_result",
          "data": {
            "text/plain": [
              "bool"
            ]
          },
          "metadata": {},
          "execution_count": 37
        }
      ],
      "source": [
        "type(zero_km)"
      ]
    },
    {
      "cell_type": "code",
      "execution_count": 38,
      "metadata": {
        "id": "XCAYApe3ltlj"
      },
      "outputs": [],
      "source": [
        "zero_km = False"
      ]
    },
    {
      "cell_type": "code",
      "execution_count": 39,
      "metadata": {
        "colab": {
          "base_uri": "https://localhost:8080/"
        },
        "id": "mJ0nGEV7ltll",
        "outputId": "afcb90bf-1ddd-40a9-9771-09251812b096"
      },
      "outputs": [
        {
          "output_type": "execute_result",
          "data": {
            "text/plain": [
              "bool"
            ]
          },
          "metadata": {},
          "execution_count": 39
        }
      ],
      "source": [
        "type(zero_km)"
      ]
    },
    {
      "cell_type": "markdown",
      "metadata": {
        "id": "Ipjq4eiSltlp"
      },
      "source": [
        "### Strings"
      ]
    },
    {
      "cell_type": "code",
      "execution_count": 40,
      "metadata": {
        "colab": {
          "base_uri": "https://localhost:8080/",
          "height": 35
        },
        "id": "OeW_GQzOltlr",
        "outputId": "57328ff3-f6eb-4ff3-e954-3b3775f1379e"
      },
      "outputs": [
        {
          "output_type": "execute_result",
          "data": {
            "text/plain": [
              "'Gol Mil'"
            ],
            "application/vnd.google.colaboratory.intrinsic+json": {
              "type": "string"
            }
          },
          "metadata": {},
          "execution_count": 40
        }
      ],
      "source": [
        "nome = 'Gol Mil'\n",
        "nome"
      ]
    },
    {
      "cell_type": "code",
      "execution_count": 41,
      "metadata": {
        "colab": {
          "base_uri": "https://localhost:8080/",
          "height": 35
        },
        "id": "xF1Bi-Rkltlu",
        "outputId": "dbf77610-a756-4909-a760-9b5e729178b9"
      },
      "outputs": [
        {
          "output_type": "execute_result",
          "data": {
            "text/plain": [
              "'Gol Mil Branco'"
            ],
            "application/vnd.google.colaboratory.intrinsic+json": {
              "type": "string"
            }
          },
          "metadata": {},
          "execution_count": 41
        }
      ],
      "source": [
        "nome = \"Gol Mil Branco\"\n",
        "nome"
      ]
    },
    {
      "cell_type": "code",
      "execution_count": 42,
      "metadata": {
        "colab": {
          "base_uri": "https://localhost:8080/",
          "height": 35
        },
        "id": "QlobSFUtltlw",
        "outputId": "1c5ebf9c-2cff-491e-9ac4-eda0a562868c"
      },
      "outputs": [
        {
          "output_type": "execute_result",
          "data": {
            "text/plain": [
              "\"Gol Mil 'Branco'\""
            ],
            "application/vnd.google.colaboratory.intrinsic+json": {
              "type": "string"
            }
          },
          "metadata": {},
          "execution_count": 42
        }
      ],
      "source": [
        "nome = \"Gol Mil 'Branco'\"\n",
        "nome"
      ]
    },
    {
      "cell_type": "code",
      "execution_count": 43,
      "metadata": {
        "colab": {
          "base_uri": "https://localhost:8080/",
          "height": 35
        },
        "id": "8LBWzzfbltly",
        "outputId": "0310335f-5c2b-4377-f5cf-5f815d0a6ae8"
      },
      "outputs": [
        {
          "output_type": "execute_result",
          "data": {
            "text/plain": [
              "'Gol \"Mil\"'"
            ],
            "application/vnd.google.colaboratory.intrinsic+json": {
              "type": "string"
            }
          },
          "metadata": {},
          "execution_count": 43
        }
      ],
      "source": [
        "nome = 'Gol \"Mil\"'\n",
        "nome"
      ]
    },
    {
      "cell_type": "code",
      "execution_count": 44,
      "metadata": {
        "colab": {
          "base_uri": "https://localhost:8080/",
          "height": 35
        },
        "id": "ycEhoxtUltl0",
        "outputId": "23e4a8b6-4ae4-40e4-ca74-9b856943a7df"
      },
      "outputs": [
        {
          "output_type": "execute_result",
          "data": {
            "text/plain": [
              "'\\n  Nome\\n  Idade\\n  Nota\\n'"
            ],
            "application/vnd.google.colaboratory.intrinsic+json": {
              "type": "string"
            }
          },
          "metadata": {},
          "execution_count": 44
        }
      ],
      "source": [
        "carro = '''\n",
        "  Nome\n",
        "  Idade\n",
        "  Nota\n",
        "'''\n",
        "carro"
      ]
    },
    {
      "cell_type": "code",
      "execution_count": 45,
      "metadata": {
        "colab": {
          "base_uri": "https://localhost:8080/"
        },
        "id": "bjZQzpuUltl2",
        "outputId": "e257ee71-49f3-4d47-c80a-8c748f2683f7"
      },
      "outputs": [
        {
          "output_type": "execute_result",
          "data": {
            "text/plain": [
              "str"
            ]
          },
          "metadata": {},
          "execution_count": 45
        }
      ],
      "source": [
        "type(carro)"
      ]
    },
    {
      "cell_type": "markdown",
      "metadata": {
        "id": "w6bJU-R9ltl5"
      },
      "source": [
        "### None"
      ]
    },
    {
      "cell_type": "code",
      "execution_count": 46,
      "metadata": {
        "id": "RgeVhXGxltl5"
      },
      "outputs": [],
      "source": [
        "quilometragem = None\n",
        "quilometragem"
      ]
    },
    {
      "cell_type": "code",
      "execution_count": 47,
      "metadata": {
        "colab": {
          "base_uri": "https://localhost:8080/"
        },
        "id": "MJI6PKS6ltl8",
        "outputId": "7815ad0a-77c0-41e4-f90f-a0240a7c79e2"
      },
      "outputs": [
        {
          "output_type": "execute_result",
          "data": {
            "text/plain": [
              "NoneType"
            ]
          },
          "metadata": {},
          "execution_count": 47
        }
      ],
      "source": [
        "type(quilometragem)"
      ]
    },
    {
      "cell_type": "markdown",
      "metadata": {
        "id": "_ilupwV-ltl-"
      },
      "source": [
        "# 2.4 Conversão de tipos"
      ]
    },
    {
      "cell_type": "code",
      "execution_count": 48,
      "metadata": {
        "id": "D5hq5Qbvltl-"
      },
      "outputs": [],
      "source": [
        "a = 15\n",
        "b = 10\n",
        "c = 'Python é '\n",
        "d = 'legal!'"
      ]
    },
    {
      "cell_type": "code",
      "execution_count": 48,
      "metadata": {
        "id": "aJ0vi8_Nltl_"
      },
      "outputs": [],
      "source": [
        ""
      ]
    },
    {
      "cell_type": "code",
      "execution_count": 48,
      "metadata": {
        "id": "29FVH7p7ltmB"
      },
      "outputs": [],
      "source": [
        ""
      ]
    },
    {
      "cell_type": "code",
      "execution_count": 48,
      "metadata": {
        "id": "NGseTO2SltmC"
      },
      "outputs": [],
      "source": [
        ""
      ]
    },
    {
      "cell_type": "code",
      "execution_count": 48,
      "metadata": {
        "id": "yaSBhwNWltmE"
      },
      "outputs": [],
      "source": [
        ""
      ]
    },
    {
      "cell_type": "code",
      "execution_count": 48,
      "metadata": {
        "id": "5zMXVwLHltmF"
      },
      "outputs": [],
      "source": [
        ""
      ]
    },
    {
      "cell_type": "code",
      "execution_count": 48,
      "metadata": {
        "id": "JJrqKRZFltmJ"
      },
      "outputs": [],
      "source": [
        ""
      ]
    },
    {
      "cell_type": "code",
      "execution_count": 48,
      "metadata": {
        "id": "hWEIttpgltmM"
      },
      "outputs": [],
      "source": [
        ""
      ]
    },
    {
      "cell_type": "markdown",
      "metadata": {
        "id": "dByigpENltmO"
      },
      "source": [
        "### Conversões de tipo\n",
        "\n",
        "Funções int(), float(), str()"
      ]
    },
    {
      "cell_type": "code",
      "execution_count": 49,
      "metadata": {
        "colab": {
          "base_uri": "https://localhost:8080/",
          "height": 35
        },
        "id": "MtecvWlsltmP",
        "outputId": "8e7a2e0b-f9cd-431f-a65d-2246927f3371"
      },
      "outputs": [
        {
          "output_type": "execute_result",
          "data": {
            "text/plain": [
              "'15'"
            ],
            "application/vnd.google.colaboratory.intrinsic+json": {
              "type": "string"
            }
          },
          "metadata": {},
          "execution_count": 49
        }
      ],
      "source": [
        "str(a)"
      ]
    },
    {
      "cell_type": "code",
      "execution_count": 50,
      "metadata": {
        "colab": {
          "base_uri": "https://localhost:8080/"
        },
        "id": "S1NuIhDVltmS",
        "outputId": "56faaf90-ef83-4cd8-9f53-abe59060c6c8"
      },
      "outputs": [
        {
          "output_type": "execute_result",
          "data": {
            "text/plain": [
              "str"
            ]
          },
          "metadata": {},
          "execution_count": 50
        }
      ],
      "source": [
        "type(str(a))"
      ]
    },
    {
      "cell_type": "code",
      "execution_count": 51,
      "metadata": {
        "colab": {
          "base_uri": "https://localhost:8080/",
          "height": 35
        },
        "id": "3kCUD1X-ltmT",
        "outputId": "79ed0c94-1448-4dda-8f08-ae1b4e0a646e"
      },
      "outputs": [
        {
          "output_type": "execute_result",
          "data": {
            "text/plain": [
              "'Python é 10'"
            ],
            "application/vnd.google.colaboratory.intrinsic+json": {
              "type": "string"
            }
          },
          "metadata": {},
          "execution_count": 51
        }
      ],
      "source": [
        "c + str(b)"
      ]
    },
    {
      "cell_type": "code",
      "execution_count": 52,
      "metadata": {
        "id": "TTjSEVRaltmU"
      },
      "outputs": [],
      "source": [
        "var = 3.1415"
      ]
    },
    {
      "cell_type": "code",
      "execution_count": 53,
      "metadata": {
        "colab": {
          "base_uri": "https://localhost:8080/"
        },
        "id": "P1P1bXaYltmV",
        "outputId": "897d7d57-c43c-4e2e-ace8-65eb77d68727"
      },
      "outputs": [
        {
          "output_type": "execute_result",
          "data": {
            "text/plain": [
              "3"
            ]
          },
          "metadata": {},
          "execution_count": 53
        }
      ],
      "source": [
        "int(var)"
      ]
    },
    {
      "cell_type": "code",
      "execution_count": 54,
      "metadata": {
        "id": "F_8Cn0aAltmW"
      },
      "outputs": [],
      "source": [
        "var = 3.99"
      ]
    },
    {
      "cell_type": "code",
      "execution_count": 55,
      "metadata": {
        "colab": {
          "base_uri": "https://localhost:8080/"
        },
        "id": "_KA6MUgmltmY",
        "outputId": "33e07877-a168-48bc-a3f5-21b793bcc4e8"
      },
      "outputs": [
        {
          "output_type": "execute_result",
          "data": {
            "text/plain": [
              "3"
            ]
          },
          "metadata": {},
          "execution_count": 55
        }
      ],
      "source": [
        "int(var)"
      ]
    },
    {
      "cell_type": "markdown",
      "metadata": {
        "id": "gGpflJMYltmd"
      },
      "source": [
        "# 2.5 Indentação, comentários e formatação de *strings*"
      ]
    },
    {
      "cell_type": "markdown",
      "metadata": {
        "id": "XbijUgqVltmw"
      },
      "source": [
        "### Indentação\n",
        "\n",
        "Na linguagem Python os programas são estruturados por meio de indentação. Em qualquer linguagem de programação a prática da indentação é bastante útil, facilitando a leitura e também a manutenção do código. Em Python a indentação não é somente uma questão de organização e estilo, mas sim um requisito da linguagem."
      ]
    },
    {
      "cell_type": "code",
      "execution_count": 56,
      "metadata": {
        "colab": {
          "base_uri": "https://localhost:8080/"
        },
        "id": "DqXANnyultmw",
        "outputId": "5965fd92-335f-4e24-adcf-db1834ac2074"
      },
      "outputs": [
        {
          "output_type": "stream",
          "name": "stdout",
          "text": [
            "Verdadeiro\n"
          ]
        }
      ],
      "source": [
        "ano_atual = 2019\n",
        "ano_fabricacao = 2019\n",
        "\n",
        "if (ano_atual == ano_fabricacao):\n",
        "    print('Verdadeiro')\n",
        "else:\n",
        "    print('Falso')"
      ]
    },
    {
      "cell_type": "markdown",
      "metadata": {
        "id": "dNBfv7x7ltmy"
      },
      "source": [
        "### Comentários\n",
        "\n",
        "Comentários são extremamente importantes em um programa. Consiste em um texto que descreve o que o programa ou uma parte específica do programa está fazendo. Os comentários são ignorados pelo interpretador Python. \n",
        "\n",
        "Podemos ter comentários de uma única linha ou de múltiplas linhas."
      ]
    },
    {
      "cell_type": "code",
      "execution_count": 57,
      "metadata": {
        "colab": {
          "base_uri": "https://localhost:8080/"
        },
        "id": "GN3DfwiRltmy",
        "outputId": "ca697af6-6c47-4eb2-b279-2b0ac9c73efb"
      },
      "outputs": [
        {
          "output_type": "execute_result",
          "data": {
            "text/plain": [
              "2019"
            ]
          },
          "metadata": {},
          "execution_count": 57
        }
      ],
      "source": [
        "# Isto é um comentário\n",
        "ano_atual = 2019\n",
        "ano_atual"
      ]
    },
    {
      "cell_type": "code",
      "execution_count": 58,
      "metadata": {
        "colab": {
          "base_uri": "https://localhost:8080/"
        },
        "id": "PICBiohFltm2",
        "outputId": "6058967a-0eb1-471b-8644-6bddb7310e04"
      },
      "outputs": [
        {
          "output_type": "execute_result",
          "data": {
            "text/plain": [
              "2019"
            ]
          },
          "metadata": {},
          "execution_count": 58
        }
      ],
      "source": [
        "# Isto\n",
        "# é um \n",
        "# comentário\n",
        "ano_atual = 2019\n",
        "ano_atual"
      ]
    },
    {
      "cell_type": "code",
      "execution_count": 59,
      "metadata": {
        "colab": {
          "base_uri": "https://localhost:8080/"
        },
        "id": "PTkJ4Vjultm4",
        "outputId": "4648fbbd-7ddd-40cd-b704-fb03a0b1666b"
      },
      "outputs": [
        {
          "output_type": "execute_result",
          "data": {
            "text/plain": [
              "2019"
            ]
          },
          "metadata": {},
          "execution_count": 59
        }
      ],
      "source": [
        "'''Isto é um\n",
        "comentário'''\n",
        "ano_atual = 2019\n",
        "ano_atual"
      ]
    },
    {
      "cell_type": "code",
      "execution_count": 60,
      "metadata": {
        "colab": {
          "base_uri": "https://localhost:8080/"
        },
        "id": "SYEGdALxltm5",
        "outputId": "38fd2b9d-7811-4e7f-e7b6-250a59901e5c"
      },
      "outputs": [
        {
          "output_type": "stream",
          "name": "stdout",
          "text": [
            "Verdadeiro\n"
          ]
        }
      ],
      "source": [
        "# Definindo variáveis\n",
        "ano_atual = 2019\n",
        "ano_fabricacao = 2019\n",
        "\n",
        "'''\n",
        "Estrutura condicional que vamos \n",
        "aprender na próxima aula\n",
        "'''\n",
        "if (ano_atual == ano_fabricacao):   # Testando se condição é verdadeira\n",
        "    print('Verdadeiro')\n",
        "else:                               # Testando se condição é falsa\n",
        "    print('Falso')"
      ]
    },
    {
      "cell_type": "markdown",
      "metadata": {
        "id": "8--bcJ01ltm8"
      },
      "source": [
        "### Formatação de *strings*"
      ]
    },
    {
      "cell_type": "markdown",
      "metadata": {
        "id": "8lSC0XEDltm-"
      },
      "source": [
        "## *str % valor*\n",
        "https://docs.python.org/3.6/library/stdtypes.html#old-string-formatting"
      ]
    },
    {
      "cell_type": "code",
      "execution_count": 60,
      "metadata": {
        "id": "aqqBQJ8kltm_"
      },
      "outputs": [],
      "source": [
        ""
      ]
    },
    {
      "cell_type": "code",
      "execution_count": 60,
      "metadata": {
        "id": "EFK1y92vltnA"
      },
      "outputs": [],
      "source": [
        ""
      ]
    },
    {
      "cell_type": "code",
      "execution_count": 60,
      "metadata": {
        "id": "3Y-V_AVDltnD"
      },
      "outputs": [],
      "source": [
        ""
      ]
    },
    {
      "cell_type": "code",
      "execution_count": 60,
      "metadata": {
        "id": "pr4wrDaSltnE"
      },
      "outputs": [],
      "source": [
        ""
      ]
    },
    {
      "cell_type": "code",
      "execution_count": 60,
      "metadata": {
        "id": "iQVGzKNvltnF"
      },
      "outputs": [],
      "source": [
        ""
      ]
    },
    {
      "cell_type": "markdown",
      "metadata": {
        "id": "CMovhJZ_ltnG"
      },
      "source": [
        "## *str.format()*\n",
        "\n",
        "https://docs.python.org/3.6/library/stdtypes.html#str.format"
      ]
    },
    {
      "cell_type": "code",
      "execution_count": 61,
      "metadata": {
        "colab": {
          "base_uri": "https://localhost:8080/"
        },
        "id": "N12xmMehltnG",
        "outputId": "a6283f6b-bbcc-4b5e-ee1d-33cd606c8a6d"
      },
      "outputs": [
        {
          "output_type": "stream",
          "name": "stdout",
          "text": [
            "Olá, Rafael!\n"
          ]
        }
      ],
      "source": [
        "print('Olá, {}!' .format('Rafael'))"
      ]
    },
    {
      "cell_type": "code",
      "execution_count": 62,
      "metadata": {
        "colab": {
          "base_uri": "https://localhost:8080/"
        },
        "id": "mRBmU9G1ltnJ",
        "outputId": "5f27b9ce-a5fe-4faf-f3db-da3dd5d64f44"
      },
      "outputs": [
        {
          "output_type": "stream",
          "name": "stdout",
          "text": [
            "Olá, Rafael! Este é seu acesso de número 32.\n"
          ]
        }
      ],
      "source": [
        "print('Olá, {}! Este é seu acesso de número {}.' .format('Rafael', 32))"
      ]
    },
    {
      "cell_type": "code",
      "execution_count": 63,
      "metadata": {
        "colab": {
          "base_uri": "https://localhost:8080/"
        },
        "id": "wpqEsTwnltnL",
        "outputId": "a1ed58e9-f99b-43be-c3cb-cf98e8611576"
      },
      "outputs": [
        {
          "output_type": "stream",
          "name": "stdout",
          "text": [
            "Olá, Rafael! Este é seu acesso de número 32.\n"
          ]
        }
      ],
      "source": [
        "print('Olá, {nome}! Este é seu acesso de número {acessos}.' .format(nome = 'Rafael', acessos = 32))"
      ]
    },
    {
      "cell_type": "markdown",
      "metadata": {
        "id": "V-wPNUN9ltnN"
      },
      "source": [
        "## *f-Strings*\n",
        "\n",
        "https://docs.python.org/3.6/reference/lexical_analysis.html#f-strings"
      ]
    },
    {
      "cell_type": "code",
      "execution_count": 64,
      "metadata": {
        "id": "7Fq_WPv0ltnO"
      },
      "outputs": [],
      "source": [
        "nome = 'Rafael'\n",
        "acessos = 32"
      ]
    },
    {
      "cell_type": "code",
      "execution_count": 65,
      "metadata": {
        "colab": {
          "base_uri": "https://localhost:8080/"
        },
        "id": "bE3qbd6WltnR",
        "outputId": "d07b781a-40c5-4456-c498-c2981e16a479"
      },
      "outputs": [
        {
          "output_type": "stream",
          "name": "stdout",
          "text": [
            "Olá, Rafael! Este é seu acesso de número 32.\n"
          ]
        }
      ],
      "source": [
        "print(f'Olá, {nome}! Este é seu acesso de número {acessos}.')"
      ]
    },
    {
      "cell_type": "markdown",
      "metadata": {
        "id": "_IZuNE48ltnS"
      },
      "source": [
        "# <font color=green> 3. TRABALHANDO COM LISTAS\n",
        "---"
      ]
    },
    {
      "cell_type": "markdown",
      "metadata": {
        "id": "zhS89xysltnS"
      },
      "source": [
        "# 3.1 Criando listas\n",
        "\n",
        "Listas são sequências **mutáveis** que são utilizadas para armazenar coleções de itens, geralmente homogêneos. Podem ser construídas de várias formas:\n",
        "```\n",
        "- Utilizando um par de colchetes: [ ], [ 1 ]\n",
        "- Utilizando um par de colchetes com itens separados por vírgulas: [ 1, 2, 3 ]\n",
        "```"
      ]
    },
    {
      "cell_type": "code",
      "execution_count": 66,
      "metadata": {
        "id": "aE4UWF10ltnS",
        "colab": {
          "base_uri": "https://localhost:8080/"
        },
        "outputId": "08aacbf0-8efb-4372-a2f9-14bc1953659b"
      },
      "outputs": [
        {
          "output_type": "execute_result",
          "data": {
            "text/plain": [
              "['Rodas de liga',\n",
              " 'Travas elétricas',\n",
              " 'Piloto automático',\n",
              " 'Bancos de couro',\n",
              " 'Ar condicionado',\n",
              " 'Sensor de estacionamento',\n",
              " 'Sensor crepuscular',\n",
              " 'Sensor de chuva']"
            ]
          },
          "metadata": {},
          "execution_count": 66
        }
      ],
      "source": [
        "Acessorios = ['Rodas de liga', 'Travas elétricas', 'Piloto automático', 'Bancos de couro', 'Ar condicionado', 'Sensor de estacionamento', 'Sensor crepuscular', 'Sensor de chuva']\n",
        "Acessorios"
      ]
    },
    {
      "cell_type": "markdown",
      "metadata": {
        "id": "Mmlkh5TVltnT"
      },
      "source": [
        "### Lista com tipos de dados variados"
      ]
    },
    {
      "cell_type": "code",
      "execution_count": 67,
      "metadata": {
        "id": "Mfpu7NoJltnT"
      },
      "outputs": [],
      "source": [
        "Carro_1 = ['Jetta Variant', 'Motor 4.0 Turbo', 2003, 44410.0, False, ['Rodas de liga', 'Travas elétricas', 'Piloto automático'], 88078.64]\n",
        "Carro_2 = ['Passat', 'Motor Diesel', 1991, 5712.0, False, ['Central multimídia', 'Teto panorâmico', 'Freios ABS'], 106161.94]"
      ]
    },
    {
      "cell_type": "code",
      "execution_count": 68,
      "metadata": {
        "id": "EJSJFJjKltnV",
        "colab": {
          "base_uri": "https://localhost:8080/"
        },
        "outputId": "f9797ec4-525e-46b2-98fb-e0c32199786f"
      },
      "outputs": [
        {
          "output_type": "execute_result",
          "data": {
            "text/plain": [
              "['Jetta Variant',\n",
              " 'Motor 4.0 Turbo',\n",
              " 2003,\n",
              " 44410.0,\n",
              " False,\n",
              " ['Rodas de liga', 'Travas elétricas', 'Piloto automático'],\n",
              " 88078.64]"
            ]
          },
          "metadata": {},
          "execution_count": 68
        }
      ],
      "source": [
        "Carro_1"
      ]
    },
    {
      "cell_type": "code",
      "execution_count": 68,
      "metadata": {
        "id": "7MMG7L8VltnX"
      },
      "outputs": [],
      "source": [
        ""
      ]
    },
    {
      "cell_type": "code",
      "execution_count": 69,
      "metadata": {
        "id": "7E8erLgZltnZ",
        "colab": {
          "base_uri": "https://localhost:8080/"
        },
        "outputId": "63f9d98d-bd77-44ce-9ec9-e70958f607ff"
      },
      "outputs": [
        {
          "output_type": "execute_result",
          "data": {
            "text/plain": [
              "['Passat',\n",
              " 'Motor Diesel',\n",
              " 1991,\n",
              " 5712.0,\n",
              " False,\n",
              " ['Central multimídia', 'Teto panorâmico', 'Freios ABS'],\n",
              " 106161.94]"
            ]
          },
          "metadata": {},
          "execution_count": 69
        }
      ],
      "source": [
        "Carro_2"
      ]
    },
    {
      "cell_type": "code",
      "source": [
        "Carros = [Carro_1, Carro_2]\n",
        "Carros"
      ],
      "metadata": {
        "colab": {
          "base_uri": "https://localhost:8080/"
        },
        "id": "8QxDL5Nt2K9S",
        "outputId": "3fc30e76-171d-44af-9137-92c2dd7583d1"
      },
      "execution_count": 70,
      "outputs": [
        {
          "output_type": "execute_result",
          "data": {
            "text/plain": [
              "[['Jetta Variant',\n",
              "  'Motor 4.0 Turbo',\n",
              "  2003,\n",
              "  44410.0,\n",
              "  False,\n",
              "  ['Rodas de liga', 'Travas elétricas', 'Piloto automático'],\n",
              "  88078.64],\n",
              " ['Passat',\n",
              "  'Motor Diesel',\n",
              "  1991,\n",
              "  5712.0,\n",
              "  False,\n",
              "  ['Central multimídia', 'Teto panorâmico', 'Freios ABS'],\n",
              "  106161.94]]"
            ]
          },
          "metadata": {},
          "execution_count": 70
        }
      ]
    },
    {
      "cell_type": "markdown",
      "metadata": {
        "id": "5yMXJ0xdltna"
      },
      "source": [
        "# 3.2 Operações com listas\n",
        "\n",
        "https://docs.python.org/3.6/library/stdtypes.html#common-sequence-operations"
      ]
    },
    {
      "cell_type": "markdown",
      "metadata": {
        "id": "YSorJOGlltna"
      },
      "source": [
        "## *x in A*\n",
        "\n",
        "Retorna **True** se um elemento da lista *A* for igual a *x*."
      ]
    },
    {
      "cell_type": "code",
      "execution_count": 71,
      "metadata": {
        "id": "GgSP_nlHltnb",
        "colab": {
          "base_uri": "https://localhost:8080/"
        },
        "outputId": "92f2b3aa-3d23-4c9f-bdb7-11f8cdd9eed4"
      },
      "outputs": [
        {
          "output_type": "execute_result",
          "data": {
            "text/plain": [
              "True"
            ]
          },
          "metadata": {},
          "execution_count": 71
        }
      ],
      "source": [
        "'Rodas de liga' in Acessorios"
      ]
    },
    {
      "cell_type": "code",
      "execution_count": 72,
      "metadata": {
        "id": "_JyyHPmWltnd",
        "colab": {
          "base_uri": "https://localhost:8080/"
        },
        "outputId": "d73fe2d9-8e70-44e0-97ab-d278f585c654"
      },
      "outputs": [
        {
          "output_type": "execute_result",
          "data": {
            "text/plain": [
              "False"
            ]
          },
          "metadata": {},
          "execution_count": 72
        }
      ],
      "source": [
        "'4 x 4' in Acessorios"
      ]
    },
    {
      "cell_type": "code",
      "execution_count": 73,
      "metadata": {
        "id": "tebg9gAyltne",
        "colab": {
          "base_uri": "https://localhost:8080/"
        },
        "outputId": "b9d62bcf-a38e-43d6-a8d2-d2e13ff4e546"
      },
      "outputs": [
        {
          "output_type": "execute_result",
          "data": {
            "text/plain": [
              "False"
            ]
          },
          "metadata": {},
          "execution_count": 73
        }
      ],
      "source": [
        "'Rodas de liga' not in Acessorios"
      ]
    },
    {
      "cell_type": "code",
      "execution_count": 74,
      "metadata": {
        "id": "W_1PKJYsltnf",
        "colab": {
          "base_uri": "https://localhost:8080/"
        },
        "outputId": "47eecc7f-7299-40c7-ac4e-c429e62e1848"
      },
      "outputs": [
        {
          "output_type": "execute_result",
          "data": {
            "text/plain": [
              "True"
            ]
          },
          "metadata": {},
          "execution_count": 74
        }
      ],
      "source": [
        "'4 x 4' not in Acessorios"
      ]
    },
    {
      "cell_type": "code",
      "execution_count": 74,
      "metadata": {
        "id": "1WNsBXFyltng"
      },
      "outputs": [],
      "source": [
        ""
      ]
    },
    {
      "cell_type": "markdown",
      "metadata": {
        "id": "RF6_rf90ltnh"
      },
      "source": [
        "## *A + B*\n",
        "\n",
        "Concatena as listas *A* e *B*."
      ]
    },
    {
      "cell_type": "code",
      "execution_count": 75,
      "metadata": {
        "id": "8lnzbYnRltnh"
      },
      "outputs": [],
      "source": [
        "A = ['Rodas de liga', 'Travas elétricas', 'Piloto automático', 'Bancos de couro']\n",
        "B = ['Ar condicionado', 'Sensor de estacionamento', 'Sensor crepuscular', 'Sensor de chuva']"
      ]
    },
    {
      "cell_type": "code",
      "execution_count": 76,
      "metadata": {
        "id": "SzbiHHF4ltni",
        "colab": {
          "base_uri": "https://localhost:8080/"
        },
        "outputId": "54b639cd-95b2-4ecc-d5f5-fa673a8d59f8"
      },
      "outputs": [
        {
          "output_type": "execute_result",
          "data": {
            "text/plain": [
              "['Rodas de liga', 'Travas elétricas', 'Piloto automático', 'Bancos de couro']"
            ]
          },
          "metadata": {},
          "execution_count": 76
        }
      ],
      "source": [
        "A"
      ]
    },
    {
      "cell_type": "code",
      "execution_count": 77,
      "metadata": {
        "id": "It5Cn5aXltni",
        "colab": {
          "base_uri": "https://localhost:8080/"
        },
        "outputId": "96e89db6-9b92-48e4-d1a4-a13f535f9e30"
      },
      "outputs": [
        {
          "output_type": "execute_result",
          "data": {
            "text/plain": [
              "['Ar condicionado',\n",
              " 'Sensor de estacionamento',\n",
              " 'Sensor crepuscular',\n",
              " 'Sensor de chuva']"
            ]
          },
          "metadata": {},
          "execution_count": 77
        }
      ],
      "source": [
        "B"
      ]
    },
    {
      "cell_type": "code",
      "execution_count": 78,
      "metadata": {
        "id": "l7gF4Ph5ltnj",
        "colab": {
          "base_uri": "https://localhost:8080/"
        },
        "outputId": "4815674f-0a16-4fcf-ef7c-ff62b750ecad"
      },
      "outputs": [
        {
          "output_type": "execute_result",
          "data": {
            "text/plain": [
              "['Rodas de liga',\n",
              " 'Travas elétricas',\n",
              " 'Piloto automático',\n",
              " 'Bancos de couro',\n",
              " 'Ar condicionado',\n",
              " 'Sensor de estacionamento',\n",
              " 'Sensor crepuscular',\n",
              " 'Sensor de chuva']"
            ]
          },
          "metadata": {},
          "execution_count": 78
        }
      ],
      "source": [
        "A + B"
      ]
    },
    {
      "cell_type": "code",
      "source": [
        "carro = [\n",
        "    'Jetta Variant', \n",
        "    'Motor 4.0 Turbo', \n",
        "    2003, \n",
        "    44410.0, \n",
        "    False, \n",
        "    ['Rodas de liga', 'Travas elétricas', 'Piloto automático'], \n",
        "    88078.64\n",
        "]\n",
        "'2003' in carro\n",
        "\n"
      ],
      "metadata": {
        "colab": {
          "base_uri": "https://localhost:8080/"
        },
        "id": "olQuSVc938Hv",
        "outputId": "da7b3071-74a7-464d-b587-ea2e731f619a"
      },
      "execution_count": 79,
      "outputs": [
        {
          "output_type": "execute_result",
          "data": {
            "text/plain": [
              "False"
            ]
          },
          "metadata": {},
          "execution_count": 79
        }
      ]
    },
    {
      "cell_type": "markdown",
      "metadata": {
        "id": "iTv5t7zAltnk"
      },
      "source": [
        "## *len(A)*\n",
        "\n",
        "Tamanho da lista A."
      ]
    },
    {
      "cell_type": "code",
      "execution_count": 80,
      "metadata": {
        "id": "dtbuCDSOltnk",
        "colab": {
          "base_uri": "https://localhost:8080/"
        },
        "outputId": "679f51fd-6928-4e64-a564-beaa036a4beb"
      },
      "outputs": [
        {
          "output_type": "execute_result",
          "data": {
            "text/plain": [
              "8"
            ]
          },
          "metadata": {},
          "execution_count": 80
        }
      ],
      "source": [
        "len(Acessorios)"
      ]
    },
    {
      "cell_type": "markdown",
      "metadata": {
        "id": "k7wWCbAmltnl"
      },
      "source": [
        "# 3.3 Seleções em listas"
      ]
    },
    {
      "cell_type": "markdown",
      "metadata": {
        "id": "uF3NmgUaltnl"
      },
      "source": [
        "## *A[ i ]*\n",
        "\n",
        "Retorna o i-ésimo item da lista *A*.\n",
        "\n",
        "<font color=red>**Observação:**</font> Listas têm indexação com origem no zero."
      ]
    },
    {
      "cell_type": "code",
      "execution_count": 81,
      "metadata": {
        "id": "f5ct7w1Wltnm",
        "colab": {
          "base_uri": "https://localhost:8080/"
        },
        "outputId": "d2e9cb04-1c0c-4dd3-e10b-ac84792af56f"
      },
      "outputs": [
        {
          "output_type": "execute_result",
          "data": {
            "text/plain": [
              "['Rodas de liga',\n",
              " 'Travas elétricas',\n",
              " 'Piloto automático',\n",
              " 'Bancos de couro',\n",
              " 'Ar condicionado',\n",
              " 'Sensor de estacionamento',\n",
              " 'Sensor crepuscular',\n",
              " 'Sensor de chuva']"
            ]
          },
          "metadata": {},
          "execution_count": 81
        }
      ],
      "source": [
        "Acessorios"
      ]
    },
    {
      "cell_type": "code",
      "execution_count": 82,
      "metadata": {
        "id": "-BLG7yifltnn",
        "colab": {
          "base_uri": "https://localhost:8080/",
          "height": 35
        },
        "outputId": "0e138d62-22ba-4d9a-84b2-92eee92f8fb0"
      },
      "outputs": [
        {
          "output_type": "execute_result",
          "data": {
            "text/plain": [
              "'Rodas de liga'"
            ],
            "application/vnd.google.colaboratory.intrinsic+json": {
              "type": "string"
            }
          },
          "metadata": {},
          "execution_count": 82
        }
      ],
      "source": [
        "Acessorios[0]"
      ]
    },
    {
      "cell_type": "code",
      "execution_count": 83,
      "metadata": {
        "id": "SoL6PIjJltno",
        "colab": {
          "base_uri": "https://localhost:8080/",
          "height": 35
        },
        "outputId": "33840a37-584d-4286-c3da-482b94f0a5ce"
      },
      "outputs": [
        {
          "output_type": "execute_result",
          "data": {
            "text/plain": [
              "'Travas elétricas'"
            ],
            "application/vnd.google.colaboratory.intrinsic+json": {
              "type": "string"
            }
          },
          "metadata": {},
          "execution_count": 83
        }
      ],
      "source": [
        "Acessorios[1]"
      ]
    },
    {
      "cell_type": "code",
      "execution_count": 84,
      "metadata": {
        "id": "pGMDc5FLltnq",
        "colab": {
          "base_uri": "https://localhost:8080/",
          "height": 35
        },
        "outputId": "efd976ce-a8b7-4725-ba5f-2683120118ed"
      },
      "outputs": [
        {
          "output_type": "execute_result",
          "data": {
            "text/plain": [
              "'Sensor de chuva'"
            ],
            "application/vnd.google.colaboratory.intrinsic+json": {
              "type": "string"
            }
          },
          "metadata": {},
          "execution_count": 84
        }
      ],
      "source": [
        "Acessorios[-1]"
      ]
    },
    {
      "cell_type": "code",
      "execution_count": 85,
      "metadata": {
        "id": "m3AaFe73ltnr",
        "colab": {
          "base_uri": "https://localhost:8080/"
        },
        "outputId": "af370c56-2670-47d4-f021-e135a59b7c84"
      },
      "outputs": [
        {
          "output_type": "execute_result",
          "data": {
            "text/plain": [
              "[['Jetta Variant',\n",
              "  'Motor 4.0 Turbo',\n",
              "  2003,\n",
              "  44410.0,\n",
              "  False,\n",
              "  ['Rodas de liga', 'Travas elétricas', 'Piloto automático'],\n",
              "  88078.64],\n",
              " ['Passat',\n",
              "  'Motor Diesel',\n",
              "  1991,\n",
              "  5712.0,\n",
              "  False,\n",
              "  ['Central multimídia', 'Teto panorâmico', 'Freios ABS'],\n",
              "  106161.94]]"
            ]
          },
          "metadata": {},
          "execution_count": 85
        }
      ],
      "source": [
        "Carros"
      ]
    },
    {
      "cell_type": "code",
      "execution_count": 86,
      "metadata": {
        "id": "AeDJviqoltns",
        "colab": {
          "base_uri": "https://localhost:8080/"
        },
        "outputId": "eddd7c99-a341-48f9-fcf8-23b12d1cebe5"
      },
      "outputs": [
        {
          "output_type": "execute_result",
          "data": {
            "text/plain": [
              "['Jetta Variant',\n",
              " 'Motor 4.0 Turbo',\n",
              " 2003,\n",
              " 44410.0,\n",
              " False,\n",
              " ['Rodas de liga', 'Travas elétricas', 'Piloto automático'],\n",
              " 88078.64]"
            ]
          },
          "metadata": {},
          "execution_count": 86
        }
      ],
      "source": [
        "Carros[0]"
      ]
    },
    {
      "cell_type": "code",
      "execution_count": 87,
      "metadata": {
        "id": "KdenG1BZltnt",
        "colab": {
          "base_uri": "https://localhost:8080/",
          "height": 35
        },
        "outputId": "ff33ff64-57b0-4a39-8980-e3d4caeaa8f0"
      },
      "outputs": [
        {
          "output_type": "execute_result",
          "data": {
            "text/plain": [
              "'Jetta Variant'"
            ],
            "application/vnd.google.colaboratory.intrinsic+json": {
              "type": "string"
            }
          },
          "metadata": {},
          "execution_count": 87
        }
      ],
      "source": [
        "Carros[0][0]"
      ]
    },
    {
      "cell_type": "code",
      "execution_count": 88,
      "metadata": {
        "id": "iOjsfrlFltnu",
        "colab": {
          "base_uri": "https://localhost:8080/"
        },
        "outputId": "624d91ec-fc3e-4191-bcb6-7b38f32cb210"
      },
      "outputs": [
        {
          "output_type": "execute_result",
          "data": {
            "text/plain": [
              "['Rodas de liga', 'Travas elétricas', 'Piloto automático']"
            ]
          },
          "metadata": {},
          "execution_count": 88
        }
      ],
      "source": [
        "Carros[0][-2]"
      ]
    },
    {
      "cell_type": "code",
      "execution_count": 89,
      "metadata": {
        "id": "6BrON70Zltnu",
        "colab": {
          "base_uri": "https://localhost:8080/",
          "height": 35
        },
        "outputId": "2309a66c-5efe-4bce-f799-b920ec2ec5ac"
      },
      "outputs": [
        {
          "output_type": "execute_result",
          "data": {
            "text/plain": [
              "'Travas elétricas'"
            ],
            "application/vnd.google.colaboratory.intrinsic+json": {
              "type": "string"
            }
          },
          "metadata": {},
          "execution_count": 89
        }
      ],
      "source": [
        "Carros[0][-2][1]"
      ]
    },
    {
      "cell_type": "markdown",
      "metadata": {
        "id": "9WgwxPIMltnv"
      },
      "source": [
        "## *A[ i : j ]*\n",
        "\n",
        "Recorta a lista *A* do índice i até o j. Neste fatiamento o elemento com índice i é **incluído** e o elemento com índice j **não é incluído** no resultado."
      ]
    },
    {
      "cell_type": "code",
      "execution_count": 90,
      "metadata": {
        "id": "bJzL2PMiltnv",
        "colab": {
          "base_uri": "https://localhost:8080/"
        },
        "outputId": "ce9c3cda-f160-47cd-c657-c35ff7414748"
      },
      "outputs": [
        {
          "output_type": "execute_result",
          "data": {
            "text/plain": [
              "['Rodas de liga',\n",
              " 'Travas elétricas',\n",
              " 'Piloto automático',\n",
              " 'Bancos de couro',\n",
              " 'Ar condicionado',\n",
              " 'Sensor de estacionamento',\n",
              " 'Sensor crepuscular',\n",
              " 'Sensor de chuva']"
            ]
          },
          "metadata": {},
          "execution_count": 90
        }
      ],
      "source": [
        "Acessorios"
      ]
    },
    {
      "cell_type": "code",
      "execution_count": 91,
      "metadata": {
        "id": "sFAlJ4u_ltnw",
        "colab": {
          "base_uri": "https://localhost:8080/"
        },
        "outputId": "064d6078-d8a4-4a14-f62e-0c694eb68866"
      },
      "outputs": [
        {
          "output_type": "execute_result",
          "data": {
            "text/plain": [
              "['Piloto automático',\n",
              " 'Bancos de couro',\n",
              " 'Ar condicionado',\n",
              " 'Sensor de estacionamento']"
            ]
          },
          "metadata": {},
          "execution_count": 91
        }
      ],
      "source": [
        "Acessorios[2:6]"
      ]
    },
    {
      "cell_type": "code",
      "execution_count": 92,
      "metadata": {
        "id": "dFdTBWa9ltnz",
        "colab": {
          "base_uri": "https://localhost:8080/"
        },
        "outputId": "b7c70a26-43c7-4567-cde9-13b90aa20aba"
      },
      "outputs": [
        {
          "output_type": "execute_result",
          "data": {
            "text/plain": [
              "['Piloto automático',\n",
              " 'Bancos de couro',\n",
              " 'Ar condicionado',\n",
              " 'Sensor de estacionamento',\n",
              " 'Sensor crepuscular',\n",
              " 'Sensor de chuva']"
            ]
          },
          "metadata": {},
          "execution_count": 92
        }
      ],
      "source": [
        "Acessorios[2:]"
      ]
    },
    {
      "cell_type": "code",
      "execution_count": 93,
      "metadata": {
        "id": "yxxB2-_Dltn0",
        "colab": {
          "base_uri": "https://localhost:8080/"
        },
        "outputId": "91d0fa33-b8d3-49c9-f296-e203f34ab0dd"
      },
      "outputs": [
        {
          "output_type": "execute_result",
          "data": {
            "text/plain": [
              "['Rodas de liga', 'Travas elétricas', 'Piloto automático']"
            ]
          },
          "metadata": {},
          "execution_count": 93
        }
      ],
      "source": [
        "Acessorios[:3]"
      ]
    },
    {
      "cell_type": "markdown",
      "metadata": {
        "id": "R-S-LCPGltn0"
      },
      "source": [
        "# 3.4 Métodos de listas\n",
        "\n",
        "https://docs.python.org/3.6/library/stdtypes.html#mutable-sequence-types"
      ]
    },
    {
      "cell_type": "markdown",
      "metadata": {
        "id": "j9s2OyyPltn1"
      },
      "source": [
        "## *A.sort()*\n",
        "\n",
        "Ordena a lista *A*."
      ]
    },
    {
      "cell_type": "code",
      "execution_count": 94,
      "metadata": {
        "id": "A2dJGhFsltn1",
        "colab": {
          "base_uri": "https://localhost:8080/"
        },
        "outputId": "bdeda6e4-93d4-46a6-dbcc-661303b3172e"
      },
      "outputs": [
        {
          "output_type": "execute_result",
          "data": {
            "text/plain": [
              "['Rodas de liga',\n",
              " 'Travas elétricas',\n",
              " 'Piloto automático',\n",
              " 'Bancos de couro',\n",
              " 'Ar condicionado',\n",
              " 'Sensor de estacionamento',\n",
              " 'Sensor crepuscular',\n",
              " 'Sensor de chuva']"
            ]
          },
          "metadata": {},
          "execution_count": 94
        }
      ],
      "source": [
        "Acessorios"
      ]
    },
    {
      "cell_type": "code",
      "execution_count": 95,
      "metadata": {
        "id": "VDWCHlTcltn2",
        "colab": {
          "base_uri": "https://localhost:8080/"
        },
        "outputId": "547ec7c2-f067-4e45-92a3-cad518238376"
      },
      "outputs": [
        {
          "output_type": "execute_result",
          "data": {
            "text/plain": [
              "['Ar condicionado',\n",
              " 'Bancos de couro',\n",
              " 'Piloto automático',\n",
              " 'Rodas de liga',\n",
              " 'Sensor crepuscular',\n",
              " 'Sensor de chuva',\n",
              " 'Sensor de estacionamento',\n",
              " 'Travas elétricas']"
            ]
          },
          "metadata": {},
          "execution_count": 95
        }
      ],
      "source": [
        "Acessorios.sort()\n",
        "Acessorios"
      ]
    },
    {
      "cell_type": "markdown",
      "metadata": {
        "id": "N9Spp7-xltn3"
      },
      "source": [
        "## *A.append(x)*\n",
        "\n",
        "Adiciona o elemnto *x* no final da lista *A*."
      ]
    },
    {
      "cell_type": "code",
      "execution_count": 96,
      "metadata": {
        "id": "l7I_U-sRltn4",
        "colab": {
          "base_uri": "https://localhost:8080/"
        },
        "outputId": "3802fe85-12da-4638-8cca-108616d66bb5"
      },
      "outputs": [
        {
          "output_type": "execute_result",
          "data": {
            "text/plain": [
              "['Ar condicionado',\n",
              " 'Bancos de couro',\n",
              " 'Piloto automático',\n",
              " 'Rodas de liga',\n",
              " 'Sensor crepuscular',\n",
              " 'Sensor de chuva',\n",
              " 'Sensor de estacionamento',\n",
              " 'Travas elétricas',\n",
              " '4 X 4']"
            ]
          },
          "metadata": {},
          "execution_count": 96
        }
      ],
      "source": [
        "Acessorios.append('4 X 4')\n",
        "Acessorios"
      ]
    },
    {
      "cell_type": "markdown",
      "metadata": {
        "id": "eiP3oACPltn6"
      },
      "source": [
        "## *A.pop(i)*\n",
        "\n",
        "Remove e retorna o elemento de índice i da lista *A*.\n",
        "\n",
        "<font color=red>**Observação:**</font> Por *default* o método *pop()* remove e retorna o último elemento de uma lista."
      ]
    },
    {
      "cell_type": "code",
      "execution_count": 97,
      "metadata": {
        "id": "BoCKa5Hqltn6",
        "colab": {
          "base_uri": "https://localhost:8080/",
          "height": 35
        },
        "outputId": "f53533c8-62ab-450a-cbdf-0311cb365b4a"
      },
      "outputs": [
        {
          "output_type": "execute_result",
          "data": {
            "text/plain": [
              "'4 X 4'"
            ],
            "application/vnd.google.colaboratory.intrinsic+json": {
              "type": "string"
            }
          },
          "metadata": {},
          "execution_count": 97
        }
      ],
      "source": [
        "Acessorios.pop()"
      ]
    },
    {
      "cell_type": "code",
      "execution_count": 98,
      "metadata": {
        "id": "GfGX1jw-ltn9",
        "colab": {
          "base_uri": "https://localhost:8080/"
        },
        "outputId": "609ce396-e862-47f2-f586-d9c8f1cbea81"
      },
      "outputs": [
        {
          "output_type": "execute_result",
          "data": {
            "text/plain": [
              "['Ar condicionado',\n",
              " 'Bancos de couro',\n",
              " 'Piloto automático',\n",
              " 'Rodas de liga',\n",
              " 'Sensor crepuscular',\n",
              " 'Sensor de chuva',\n",
              " 'Sensor de estacionamento',\n",
              " 'Travas elétricas']"
            ]
          },
          "metadata": {},
          "execution_count": 98
        }
      ],
      "source": [
        "Acessorios"
      ]
    },
    {
      "cell_type": "code",
      "execution_count": 98,
      "metadata": {
        "id": "tppe9tqbltn-"
      },
      "outputs": [],
      "source": [
        ""
      ]
    },
    {
      "cell_type": "code",
      "execution_count": 98,
      "metadata": {
        "id": "Ku6ZHTdJltn_"
      },
      "outputs": [],
      "source": [
        ""
      ]
    },
    {
      "cell_type": "markdown",
      "metadata": {
        "id": "NySIp62hltoC"
      },
      "source": [
        "## *A.copy()*\n",
        "\n",
        "Cria uma cópia da lista *A*.\n",
        "\n",
        "<font color=red>**Observação:**</font> O mesmo resultado pode ser obtido com o seguinte código: \n",
        "```\n",
        "A[:]\n",
        "```"
      ]
    },
    {
      "cell_type": "code",
      "execution_count": 99,
      "metadata": {
        "id": "yP9ODygcltoC",
        "colab": {
          "base_uri": "https://localhost:8080/"
        },
        "outputId": "dc59a6de-0e7d-40ca-bffa-cbfe5a266b39"
      },
      "outputs": [
        {
          "output_type": "execute_result",
          "data": {
            "text/plain": [
              "['Ar condicionado',\n",
              " 'Bancos de couro',\n",
              " 'Piloto automático',\n",
              " 'Rodas de liga',\n",
              " 'Sensor crepuscular',\n",
              " 'Sensor de chuva',\n",
              " 'Sensor de estacionamento',\n",
              " 'Travas elétricas']"
            ]
          },
          "metadata": {},
          "execution_count": 99
        }
      ],
      "source": [
        "Acessorios_2 = Acessorios\n",
        "Acessorios_2"
      ]
    },
    {
      "cell_type": "code",
      "execution_count": 100,
      "metadata": {
        "id": "W3eQdVWkltoF"
      },
      "outputs": [],
      "source": [
        "Acessorios_2 = Acessorios.copy()"
      ]
    },
    {
      "cell_type": "code",
      "execution_count": 101,
      "metadata": {
        "id": "OVbvjjmdltoG",
        "colab": {
          "base_uri": "https://localhost:8080/"
        },
        "outputId": "be5a0db0-8eaa-4ec4-f21f-886d434d91dc"
      },
      "outputs": [
        {
          "output_type": "execute_result",
          "data": {
            "text/plain": [
              "['Ar condicionado',\n",
              " 'Bancos de couro',\n",
              " 'Piloto automático',\n",
              " 'Rodas de liga',\n",
              " 'Sensor crepuscular',\n",
              " 'Sensor de chuva',\n",
              " 'Sensor de estacionamento',\n",
              " 'Travas elétricas']"
            ]
          },
          "metadata": {},
          "execution_count": 101
        }
      ],
      "source": [
        "Acessorios_2"
      ]
    },
    {
      "cell_type": "code",
      "execution_count": 102,
      "metadata": {
        "id": "P-MN1JfAltoH",
        "colab": {
          "base_uri": "https://localhost:8080/",
          "height": 35
        },
        "outputId": "379bac95-5524-4b0f-f044-085f699195f7"
      },
      "outputs": [
        {
          "output_type": "execute_result",
          "data": {
            "text/plain": [
              "'Travas elétricas'"
            ],
            "application/vnd.google.colaboratory.intrinsic+json": {
              "type": "string"
            }
          },
          "metadata": {},
          "execution_count": 102
        }
      ],
      "source": [
        "Acessorios_2.pop()"
      ]
    },
    {
      "cell_type": "code",
      "execution_count": 103,
      "metadata": {
        "id": "ZVQ38eqVltoJ",
        "colab": {
          "base_uri": "https://localhost:8080/"
        },
        "outputId": "64dfa5b4-be92-4508-ce74-62eb1c856cc3"
      },
      "outputs": [
        {
          "output_type": "execute_result",
          "data": {
            "text/plain": [
              "['Ar condicionado',\n",
              " 'Bancos de couro',\n",
              " 'Piloto automático',\n",
              " 'Rodas de liga',\n",
              " 'Sensor crepuscular',\n",
              " 'Sensor de chuva',\n",
              " 'Sensor de estacionamento',\n",
              " 'Travas elétricas']"
            ]
          },
          "metadata": {},
          "execution_count": 103
        }
      ],
      "source": [
        "Acessorios"
      ]
    },
    {
      "cell_type": "code",
      "execution_count": 104,
      "metadata": {
        "id": "bqPiw5wSltoM",
        "colab": {
          "base_uri": "https://localhost:8080/"
        },
        "outputId": "b9124174-023e-45e1-a054-22369bfb0479"
      },
      "outputs": [
        {
          "output_type": "execute_result",
          "data": {
            "text/plain": [
              "['Ar condicionado',\n",
              " 'Bancos de couro',\n",
              " 'Piloto automático',\n",
              " 'Rodas de liga',\n",
              " 'Sensor crepuscular',\n",
              " 'Sensor de chuva',\n",
              " 'Sensor de estacionamento']"
            ]
          },
          "metadata": {},
          "execution_count": 104
        }
      ],
      "source": [
        "Acessorios_2"
      ]
    },
    {
      "cell_type": "code",
      "execution_count": 104,
      "metadata": {
        "id": "Lo9WgzF6ltoP"
      },
      "outputs": [],
      "source": [
        ""
      ]
    },
    {
      "cell_type": "code",
      "execution_count": 104,
      "metadata": {
        "id": "r2LPHB34ltoQ"
      },
      "outputs": [],
      "source": [
        ""
      ]
    },
    {
      "cell_type": "code",
      "execution_count": 104,
      "metadata": {
        "id": "UQqUkO8YltoR"
      },
      "outputs": [],
      "source": [
        ""
      ]
    },
    {
      "cell_type": "code",
      "execution_count": 104,
      "metadata": {
        "id": "5hC4R-jNltoS"
      },
      "outputs": [],
      "source": [
        ""
      ]
    },
    {
      "cell_type": "markdown",
      "metadata": {
        "id": "8zMZNsg2ltoU"
      },
      "source": [
        "# <font color=green> 4. ESTRUTURAS DE REPETIÇÃO E CONDICIONAIS\n",
        "---"
      ]
    },
    {
      "cell_type": "markdown",
      "metadata": {
        "id": "gxUmCLyJltoU"
      },
      "source": [
        "# 4.1 Instrução *for*\n",
        "\n",
        "#### Formato padrão\n",
        "\n",
        "```\n",
        "for <variável> in <coleção>:\n",
        "    <instruções>\n",
        "```"
      ]
    },
    {
      "cell_type": "markdown",
      "metadata": {
        "id": "Irl5oa0altoU"
      },
      "source": [
        "### Loops com listas"
      ]
    },
    {
      "cell_type": "code",
      "execution_count": 105,
      "metadata": {
        "id": "E1LZ5n25ltoV",
        "colab": {
          "base_uri": "https://localhost:8080/"
        },
        "outputId": "5c8db100-8ffe-41ba-9153-f3fe51676404"
      },
      "outputs": [
        {
          "output_type": "execute_result",
          "data": {
            "text/plain": [
              "['Ar condicionado',\n",
              " 'Bancos de couro',\n",
              " 'Piloto automático',\n",
              " 'Rodas de liga',\n",
              " 'Sensor crepuscular',\n",
              " 'Sensor de chuva',\n",
              " 'Sensor de estacionamento',\n",
              " 'Travas elétricas']"
            ]
          },
          "metadata": {},
          "execution_count": 105
        }
      ],
      "source": [
        "Acessorios"
      ]
    },
    {
      "cell_type": "code",
      "execution_count": 106,
      "metadata": {
        "id": "Z459QqsFltoY",
        "colab": {
          "base_uri": "https://localhost:8080/"
        },
        "outputId": "a715e46f-cdf8-44da-8d46-46b915dc08e7"
      },
      "outputs": [
        {
          "output_type": "stream",
          "name": "stdout",
          "text": [
            "Ar condicionado\n",
            "Bancos de couro\n",
            "Piloto automático\n",
            "Rodas de liga\n",
            "Sensor crepuscular\n",
            "Sensor de chuva\n",
            "Sensor de estacionamento\n",
            "Travas elétricas\n"
          ]
        }
      ],
      "source": [
        "for item in Acessorios:\n",
        "  print(item)"
      ]
    },
    {
      "cell_type": "markdown",
      "metadata": {
        "id": "Gbztj9T4ltoZ"
      },
      "source": [
        "###  List comprehensions\n",
        "\n",
        "https://docs.python.org/3.6/tutorial/datastructures.html#list-comprehensions"
      ]
    },
    {
      "cell_type": "markdown",
      "metadata": {
        "id": "4Y8g0cSHjbof"
      },
      "source": [
        "*range()* -> https://docs.python.org/3.6/library/functions.html#func-range"
      ]
    },
    {
      "cell_type": "code",
      "execution_count": 107,
      "metadata": {
        "id": "xDo9TLdYltoZ",
        "colab": {
          "base_uri": "https://localhost:8080/"
        },
        "outputId": "b02d1f60-e82b-4641-f148-e3d702ef00d6"
      },
      "outputs": [
        {
          "output_type": "execute_result",
          "data": {
            "text/plain": [
              "range(0, 10)"
            ]
          },
          "metadata": {},
          "execution_count": 107
        }
      ],
      "source": [
        "range(10)"
      ]
    },
    {
      "cell_type": "code",
      "execution_count": 108,
      "metadata": {
        "id": "V12p_CQBltoc",
        "colab": {
          "base_uri": "https://localhost:8080/"
        },
        "outputId": "318f2673-6496-414a-d729-20cdb66bbcf9"
      },
      "outputs": [
        {
          "output_type": "execute_result",
          "data": {
            "text/plain": [
              "[0, 1, 2, 3, 4, 5, 6, 7, 8, 9]"
            ]
          },
          "metadata": {},
          "execution_count": 108
        }
      ],
      "source": [
        "list(range(10))"
      ]
    },
    {
      "cell_type": "code",
      "execution_count": 109,
      "metadata": {
        "id": "OOzHHRWHltof",
        "colab": {
          "base_uri": "https://localhost:8080/"
        },
        "outputId": "ade36c42-9a3a-407c-bd72-9be2cf15fe57"
      },
      "outputs": [
        {
          "output_type": "stream",
          "name": "stdout",
          "text": [
            "0\n",
            "1\n",
            "4\n",
            "9\n",
            "16\n",
            "25\n",
            "36\n",
            "49\n",
            "64\n",
            "81\n"
          ]
        }
      ],
      "source": [
        "for i in range(10):\n",
        "  print(i**2)"
      ]
    },
    {
      "cell_type": "code",
      "execution_count": 110,
      "metadata": {
        "id": "TKynwnxgltog",
        "colab": {
          "base_uri": "https://localhost:8080/"
        },
        "outputId": "46876686-0ca7-48c4-aeea-b2c30838c659"
      },
      "outputs": [
        {
          "output_type": "execute_result",
          "data": {
            "text/plain": [
              "[0, 1, 4, 9, 16, 25, 36, 49, 64, 81]"
            ]
          },
          "metadata": {},
          "execution_count": 110
        }
      ],
      "source": [
        "quadrado = []\n",
        "for i in range(10):\n",
        "  quadrado.append(i ** 2)\n",
        "\n",
        "quadrado"
      ]
    },
    {
      "cell_type": "code",
      "execution_count": 110,
      "metadata": {
        "id": "d77YH_dVltoh"
      },
      "outputs": [],
      "source": [
        ""
      ]
    },
    {
      "cell_type": "code",
      "execution_count": 111,
      "metadata": {
        "id": "3OmElLO2ltoi",
        "colab": {
          "base_uri": "https://localhost:8080/"
        },
        "outputId": "33317c8e-8001-49f7-8ec7-5c9622dca9be"
      },
      "outputs": [
        {
          "output_type": "execute_result",
          "data": {
            "text/plain": [
              "[0, 1, 4, 9, 16, 25, 36, 49, 64, 81]"
            ]
          },
          "metadata": {},
          "execution_count": 111
        }
      ],
      "source": [
        "[i ** 2 for i in range(10)]"
      ]
    },
    {
      "cell_type": "code",
      "execution_count": 111,
      "metadata": {
        "id": "HKUkvcDkltok"
      },
      "outputs": [],
      "source": [
        ""
      ]
    },
    {
      "cell_type": "markdown",
      "metadata": {
        "id": "AcAcaKFXltom"
      },
      "source": [
        "# 4.2 Loops aninhados"
      ]
    },
    {
      "cell_type": "code",
      "execution_count": 112,
      "metadata": {
        "id": "mjgJCo3dlton",
        "colab": {
          "base_uri": "https://localhost:8080/"
        },
        "outputId": "896ad10a-5559-4cbd-afd5-8fd07610fbd2"
      },
      "outputs": [
        {
          "output_type": "execute_result",
          "data": {
            "text/plain": [
              "[['Rodas de liga',\n",
              "  'Travas elétricas',\n",
              "  'Piloto automático',\n",
              "  'Bancos de couro',\n",
              "  'Ar condicionado',\n",
              "  'Sensor de estacionamento',\n",
              "  'Sensor crepuscular',\n",
              "  'Sensor de chuva'],\n",
              " ['Central multimídia',\n",
              "  'Teto panorâmico',\n",
              "  'Freios ABS',\n",
              "  '4 X 4',\n",
              "  'Painel digital',\n",
              "  'Piloto automático',\n",
              "  'Bancos de couro',\n",
              "  'Câmera de estacionamento'],\n",
              " ['Piloto automático',\n",
              "  'Controle de estabilidade',\n",
              "  'Sensor crepuscular',\n",
              "  'Freios ABS',\n",
              "  'Câmbio automático',\n",
              "  'Bancos de couro',\n",
              "  'Central multimídia',\n",
              "  'Vidros elétricos']]"
            ]
          },
          "metadata": {},
          "execution_count": 112
        }
      ],
      "source": [
        "dados = [ \n",
        "    ['Rodas de liga', 'Travas elétricas', 'Piloto automático', 'Bancos de couro', 'Ar condicionado', 'Sensor de estacionamento', 'Sensor crepuscular', 'Sensor de chuva'],\n",
        "    ['Central multimídia', 'Teto panorâmico', 'Freios ABS', '4 X 4', 'Painel digital', 'Piloto automático', 'Bancos de couro', 'Câmera de estacionamento'],\n",
        "    ['Piloto automático', 'Controle de estabilidade', 'Sensor crepuscular', 'Freios ABS', 'Câmbio automático', 'Bancos de couro', 'Central multimídia', 'Vidros elétricos']\n",
        "]\n",
        "dados"
      ]
    },
    {
      "cell_type": "code",
      "execution_count": 113,
      "metadata": {
        "id": "pLgxwApVltop",
        "colab": {
          "base_uri": "https://localhost:8080/"
        },
        "outputId": "26c69812-00f8-4dfd-92ee-516aa28dfeef"
      },
      "outputs": [
        {
          "output_type": "stream",
          "name": "stdout",
          "text": [
            "['Rodas de liga', 'Travas elétricas', 'Piloto automático', 'Bancos de couro', 'Ar condicionado', 'Sensor de estacionamento', 'Sensor crepuscular', 'Sensor de chuva']\n",
            "['Central multimídia', 'Teto panorâmico', 'Freios ABS', '4 X 4', 'Painel digital', 'Piloto automático', 'Bancos de couro', 'Câmera de estacionamento']\n",
            "['Piloto automático', 'Controle de estabilidade', 'Sensor crepuscular', 'Freios ABS', 'Câmbio automático', 'Bancos de couro', 'Central multimídia', 'Vidros elétricos']\n"
          ]
        }
      ],
      "source": [
        "for lista in dados:\n",
        "  print(lista)"
      ]
    },
    {
      "cell_type": "code",
      "execution_count": 114,
      "metadata": {
        "id": "OYnDRvcYltor",
        "colab": {
          "base_uri": "https://localhost:8080/"
        },
        "outputId": "8edd9858-ce1a-453a-9469-389e7b70492a"
      },
      "outputs": [
        {
          "output_type": "stream",
          "name": "stdout",
          "text": [
            "Rodas de liga\n",
            "Travas elétricas\n",
            "Piloto automático\n",
            "Bancos de couro\n",
            "Ar condicionado\n",
            "Sensor de estacionamento\n",
            "Sensor crepuscular\n",
            "Sensor de chuva\n",
            "Central multimídia\n",
            "Teto panorâmico\n",
            "Freios ABS\n",
            "4 X 4\n",
            "Painel digital\n",
            "Piloto automático\n",
            "Bancos de couro\n",
            "Câmera de estacionamento\n",
            "Piloto automático\n",
            "Controle de estabilidade\n",
            "Sensor crepuscular\n",
            "Freios ABS\n",
            "Câmbio automático\n",
            "Bancos de couro\n",
            "Central multimídia\n",
            "Vidros elétricos\n"
          ]
        }
      ],
      "source": [
        "for lista in dados:\n",
        "  for item in lista:\n",
        "    print(item)"
      ]
    },
    {
      "cell_type": "code",
      "execution_count": 115,
      "metadata": {
        "id": "DbJa5_cJltos",
        "colab": {
          "base_uri": "https://localhost:8080/"
        },
        "outputId": "362bb295-42dc-4812-cf8d-65d71be1026c"
      },
      "outputs": [
        {
          "output_type": "execute_result",
          "data": {
            "text/plain": [
              "['Rodas de liga',\n",
              " 'Travas elétricas',\n",
              " 'Piloto automático',\n",
              " 'Bancos de couro',\n",
              " 'Ar condicionado',\n",
              " 'Sensor de estacionamento',\n",
              " 'Sensor crepuscular',\n",
              " 'Sensor de chuva',\n",
              " 'Central multimídia',\n",
              " 'Teto panorâmico',\n",
              " 'Freios ABS',\n",
              " '4 X 4',\n",
              " 'Painel digital',\n",
              " 'Piloto automático',\n",
              " 'Bancos de couro',\n",
              " 'Câmera de estacionamento',\n",
              " 'Piloto automático',\n",
              " 'Controle de estabilidade',\n",
              " 'Sensor crepuscular',\n",
              " 'Freios ABS',\n",
              " 'Câmbio automático',\n",
              " 'Bancos de couro',\n",
              " 'Central multimídia',\n",
              " 'Vidros elétricos']"
            ]
          },
          "metadata": {},
          "execution_count": 115
        }
      ],
      "source": [
        "Acessorios = []\n",
        "\n",
        "for lista in dados:\n",
        "  for item in lista:\n",
        "    Acessorios.append(item)\n",
        "\n",
        "Acessorios"
      ]
    },
    {
      "cell_type": "code",
      "source": [
        ""
      ],
      "metadata": {
        "id": "70ToQLs1Irhk"
      },
      "execution_count": 115,
      "outputs": []
    },
    {
      "cell_type": "markdown",
      "metadata": {
        "id": "RrGAOy1rn1Dj"
      },
      "source": [
        "## *set()*\n",
        "\n",
        "https://docs.python.org/3.6/library/stdtypes.html#types-set\n",
        "\n",
        "https://docs.python.org/3.6/library/functions.html#func-set"
      ]
    },
    {
      "cell_type": "code",
      "execution_count": 116,
      "metadata": {
        "id": "CuB-9ClSltos",
        "colab": {
          "base_uri": "https://localhost:8080/"
        },
        "outputId": "964fd13a-882a-4546-a83a-342ad302c161"
      },
      "outputs": [
        {
          "output_type": "execute_result",
          "data": {
            "text/plain": [
              "['Freios ABS',\n",
              " 'Sensor crepuscular',\n",
              " 'Controle de estabilidade',\n",
              " 'Rodas de liga',\n",
              " 'Piloto automático',\n",
              " 'Central multimídia',\n",
              " 'Painel digital',\n",
              " 'Câmera de estacionamento',\n",
              " 'Teto panorâmico',\n",
              " 'Sensor de estacionamento',\n",
              " 'Bancos de couro',\n",
              " 'Ar condicionado',\n",
              " '4 X 4',\n",
              " 'Câmbio automático',\n",
              " 'Vidros elétricos',\n",
              " 'Travas elétricas',\n",
              " 'Sensor de chuva']"
            ]
          },
          "metadata": {},
          "execution_count": 116
        }
      ],
      "source": [
        "\n",
        "list(set(Acessorios))"
      ]
    },
    {
      "cell_type": "markdown",
      "metadata": {
        "id": "9hHKKABhltot"
      },
      "source": [
        "### List comprehensions"
      ]
    },
    {
      "cell_type": "code",
      "execution_count": 125,
      "metadata": {
        "id": "T6t79LTlltot",
        "colab": {
          "base_uri": "https://localhost:8080/"
        },
        "outputId": "036cb6cf-36e9-4cb6-c1f6-933c49eb4f5b"
      },
      "outputs": [
        {
          "output_type": "execute_result",
          "data": {
            "text/plain": [
              "['Rodas de liga',\n",
              " 'Travas elétricas',\n",
              " 'Piloto automático',\n",
              " 'Bancos de couro',\n",
              " 'Ar condicionado',\n",
              " 'Sensor de estacionamento',\n",
              " 'Sensor crepuscular',\n",
              " 'Sensor de chuva',\n",
              " 'Central multimídia',\n",
              " 'Teto panorâmico',\n",
              " 'Freios ABS',\n",
              " '4 X 4',\n",
              " 'Painel digital',\n",
              " 'Piloto automático',\n",
              " 'Bancos de couro',\n",
              " 'Câmera de estacionamento',\n",
              " 'Piloto automático',\n",
              " 'Controle de estabilidade',\n",
              " 'Sensor crepuscular',\n",
              " 'Freios ABS',\n",
              " 'Câmbio automático',\n",
              " 'Bancos de couro',\n",
              " 'Central multimídia',\n",
              " 'Vidros elétricos']"
            ]
          },
          "metadata": {},
          "execution_count": 125
        }
      ],
      "source": [
        "[item for lista in dados for item in lista]"
      ]
    },
    {
      "cell_type": "code",
      "source": [
        "list(set([item for lista in dados for item in lista]))"
      ],
      "metadata": {
        "colab": {
          "base_uri": "https://localhost:8080/"
        },
        "id": "LAFY1IfeLPf_",
        "outputId": "1b6dda9d-12ef-4bb1-b952-954548f4f4cb"
      },
      "execution_count": 126,
      "outputs": [
        {
          "output_type": "execute_result",
          "data": {
            "text/plain": [
              "['Freios ABS',\n",
              " 'Sensor crepuscular',\n",
              " 'Controle de estabilidade',\n",
              " 'Rodas de liga',\n",
              " 'Piloto automático',\n",
              " 'Central multimídia',\n",
              " 'Painel digital',\n",
              " 'Câmera de estacionamento',\n",
              " 'Teto panorâmico',\n",
              " 'Sensor de estacionamento',\n",
              " 'Bancos de couro',\n",
              " 'Ar condicionado',\n",
              " '4 X 4',\n",
              " 'Câmbio automático',\n",
              " 'Vidros elétricos',\n",
              " 'Travas elétricas',\n",
              " 'Sensor de chuva']"
            ]
          },
          "metadata": {},
          "execution_count": 126
        }
      ]
    },
    {
      "cell_type": "code",
      "source": [
        "dados = [ \n",
        "    ['A', 'B', 'C'],\n",
        "    ['D', 'E', 'F'],\n",
        "    ['G', 'H', 'I']\n",
        "]\n",
        "\n",
        "[item for lista in dados for item in lista]"
      ],
      "metadata": {
        "colab": {
          "base_uri": "https://localhost:8080/"
        },
        "id": "BOdOU3jDL0sA",
        "outputId": "a47eba59-d047-4cfa-deac-d04ff0afa51e"
      },
      "execution_count": 130,
      "outputs": [
        {
          "output_type": "execute_result",
          "data": {
            "text/plain": [
              "['A', 'B', 'C', 'D', 'E', 'F', 'G', 'H', 'I']"
            ]
          },
          "metadata": {},
          "execution_count": 130
        }
      ]
    },
    {
      "cell_type": "code",
      "source": [
        "result_2 = []\n",
        "for lista in dados:\n",
        "    result_2 += lista\n",
        "result_2"
      ],
      "metadata": {
        "colab": {
          "base_uri": "https://localhost:8080/"
        },
        "id": "tRxWSPNvMDKE",
        "outputId": "abd292f0-5f20-4588-f25c-0edd01cc8446"
      },
      "execution_count": 128,
      "outputs": [
        {
          "output_type": "execute_result",
          "data": {
            "text/plain": [
              "['A', 'B', 'C', 'D', 'E', 'F', 'G', 'H', 'I']"
            ]
          },
          "metadata": {},
          "execution_count": 128
        }
      ]
    },
    {
      "cell_type": "markdown",
      "metadata": {
        "id": "cJ4fPdj5ltou"
      },
      "source": [
        "# 4.3 Instrução *if*\n",
        "\n",
        "#### Formato padrão\n",
        "\n",
        "```\n",
        "if <condição>:\n",
        "     <instruções caso a condição seja verdadeira>\n",
        "```"
      ]
    },
    {
      "cell_type": "markdown",
      "metadata": {
        "id": "bqOYDJiWltou"
      },
      "source": [
        "### Operadores de comparação: $==$, $!=$, $>$, $<$, $>=$, $<=$\n",
        "### e\n",
        "### Operadores lógicos: $and$, $or$, $not$"
      ]
    },
    {
      "cell_type": "code",
      "execution_count": 146,
      "metadata": {
        "id": "5eY_XPmrltov",
        "colab": {
          "base_uri": "https://localhost:8080/"
        },
        "outputId": "f9e4db66-b11c-4a02-d9dd-64df181da34e"
      },
      "outputs": [
        {
          "output_type": "execute_result",
          "data": {
            "text/plain": [
              "[['Jetta Variant', 2003, False],\n",
              " ['Passat', 1991, False],\n",
              " ['Crossfox', 1990, False],\n",
              " ['DS5', 2019, True],\n",
              " ['Aston Martin DB4', 2006, False],\n",
              " ['Palio Weekend', 2012, False],\n",
              " ['A5', 2019, True],\n",
              " ['Série 3 Cabrio', 2009, False],\n",
              " ['Dodge Jorney', 2019, False],\n",
              " ['Carens', 2011, False]]"
            ]
          },
          "metadata": {},
          "execution_count": 146
        }
      ],
      "source": [
        "# 1º item da lista - Nome do veículo\n",
        "# 2º item da lista - Ano de fabricação\n",
        "# 3º item da lista - Veículo é zero km?\n",
        "\n",
        "dados = [\n",
        "    ['Jetta Variant', 2003, False],\n",
        "    ['Passat', 1991, False],\n",
        "    ['Crossfox', 1990, False],\n",
        "    ['DS5', 2019, True],\n",
        "    ['Aston Martin DB4', 2006, False],\n",
        "    ['Palio Weekend', 2012, False],\n",
        "    ['A5', 2019, True],\n",
        "    ['Série 3 Cabrio', 2009, False],\n",
        "    ['Dodge Jorney', 2019, False],\n",
        "    ['Carens', 2011, False]\n",
        "]\n",
        "dados"
      ]
    },
    {
      "cell_type": "code",
      "execution_count": 142,
      "metadata": {
        "id": "nyb0iDH1ltoy",
        "colab": {
          "base_uri": "https://localhost:8080/"
        },
        "outputId": "f9f56adc-831c-4adb-b905-b0b78cf4bba9"
      },
      "outputs": [
        {
          "output_type": "execute_result",
          "data": {
            "text/plain": [
              "[['DS5', 2019, True], ['A5', 2019, True]]"
            ]
          },
          "metadata": {},
          "execution_count": 142
        }
      ],
      "source": [
        "zero_km_Y = []\n",
        "\n",
        "for lista in dados:\n",
        "  if(lista[2] == True):\n",
        "    zero_km_Y.append(lista)\n",
        "zero_km_Y"
      ]
    },
    {
      "cell_type": "code",
      "execution_count": 143,
      "metadata": {
        "id": "5MlITJppltoy",
        "colab": {
          "base_uri": "https://localhost:8080/"
        },
        "outputId": "68e1f949-c3c6-4ec3-be42-94d69db84905"
      },
      "outputs": [
        {
          "output_type": "execute_result",
          "data": {
            "text/plain": [
              "[['Jetta Variant', 2003, False],\n",
              " ['Passat', 1991, False],\n",
              " ['Crossfox', 1990, False],\n",
              " ['Aston Martin DB4', 2006, False],\n",
              " ['Palio Weekend', 2012, False],\n",
              " ['Série 3 Cabrio', 2009, False],\n",
              " ['Dodge Jorney', 2019, False],\n",
              " ['Carens', 2011, False]]"
            ]
          },
          "metadata": {},
          "execution_count": 143
        }
      ],
      "source": [
        "zero_km_N = []\n",
        "\n",
        "for lista in dados:\n",
        "  if(lista[2] == False):\n",
        "    zero_km_N.append(lista)\n",
        "zero_km_N"
      ]
    },
    {
      "cell_type": "markdown",
      "metadata": {
        "id": "51Js0kXD0aRH"
      },
      "source": [
        "### List comprehensions"
      ]
    },
    {
      "cell_type": "code",
      "execution_count": 144,
      "metadata": {
        "id": "Ly4QUX5J0aRI",
        "colab": {
          "base_uri": "https://localhost:8080/"
        },
        "outputId": "3f6f8f75-87fd-4480-87ed-5b9a19c8f7e9"
      },
      "outputs": [
        {
          "output_type": "execute_result",
          "data": {
            "text/plain": [
              "[['DS5', 2019, True], ['A5', 2019, True]]"
            ]
          },
          "metadata": {},
          "execution_count": 144
        }
      ],
      "source": [
        "[lista for lista in dados if lista[2] == True]"
      ]
    },
    {
      "cell_type": "markdown",
      "metadata": {
        "id": "CKjrvO5Tltoz"
      },
      "source": [
        "# 4.4 Instruções *if-else* e *if-elif-else*\n",
        "\n",
        "#### Formato padrão\n",
        "\n",
        "```\n",
        "if <condição>:\n",
        "    <instruções caso a condição seja verdadeira>\n",
        "else:\n",
        "    <instruções caso a condição não seja verdadeira>\n",
        "```"
      ]
    },
    {
      "cell_type": "code",
      "execution_count": 151,
      "metadata": {
        "id": "K_VORb47ltoz",
        "colab": {
          "base_uri": "https://localhost:8080/"
        },
        "outputId": "25f52b2d-10c5-4dac-fc68-3a39a42173fe"
      },
      "outputs": [
        {
          "output_type": "execute_result",
          "data": {
            "text/plain": [
              "[['DS5', 2019, True], ['A5', 2019, True]]"
            ]
          },
          "metadata": {},
          "execution_count": 151
        }
      ],
      "source": [
        "zero_km_Y, zero_km_N = [], []\n",
        "\n",
        "for lista in dados:\n",
        "  if(lista[2] == True):\n",
        "    zero_km_Y.append(lista)\n",
        "  else:\n",
        "    zero_km_N.append(lista)\n",
        "\n",
        "zero_km_Y\n"
      ]
    },
    {
      "cell_type": "code",
      "execution_count": 152,
      "metadata": {
        "id": "vhz5T7jDlto1",
        "colab": {
          "base_uri": "https://localhost:8080/"
        },
        "outputId": "38bd1e10-7852-4fd9-9fb5-354df7e502c1"
      },
      "outputs": [
        {
          "output_type": "execute_result",
          "data": {
            "text/plain": [
              "[['Jetta Variant', 2003, False],\n",
              " ['Passat', 1991, False],\n",
              " ['Crossfox', 1990, False],\n",
              " ['Aston Martin DB4', 2006, False],\n",
              " ['Palio Weekend', 2012, False],\n",
              " ['Série 3 Cabrio', 2009, False],\n",
              " ['Dodge Jorney', 2019, False],\n",
              " ['Carens', 2011, False]]"
            ]
          },
          "metadata": {},
          "execution_count": 152
        }
      ],
      "source": [
        "zero_km_N"
      ]
    },
    {
      "cell_type": "code",
      "execution_count": 117,
      "metadata": {
        "id": "XlvlpPjhlto1"
      },
      "outputs": [],
      "source": [
        ""
      ]
    },
    {
      "cell_type": "markdown",
      "metadata": {
        "id": "Z2-8WeN1lto2"
      },
      "source": [
        "#### Formato padrão\n",
        "\n",
        "```\n",
        "if <condição 1>:\n",
        "    <instruções caso a condição 1 seja verdadeira>\n",
        "elif <condição 2>:\n",
        "    <instruções caso a condição 2 seja verdadeira>\n",
        "elif <condição 3>:\n",
        "    <instruções caso a condição 3 seja verdadeira>\n",
        "                        .\n",
        "                        .\n",
        "                        .\n",
        "else:\n",
        "    <instruções caso as condições anteriores não sejam verdadeiras>\n",
        "```"
      ]
    },
    {
      "cell_type": "code",
      "execution_count": 117,
      "metadata": {
        "id": "ggrbaB4Tlto2"
      },
      "outputs": [],
      "source": [
        ""
      ]
    },
    {
      "cell_type": "code",
      "execution_count": 154,
      "metadata": {
        "id": "KJgRc1F9lto3",
        "colab": {
          "base_uri": "https://localhost:8080/"
        },
        "outputId": "4fe01377-ad7f-41dc-d1cf-db213fe8d4cd"
      },
      "outputs": [
        {
          "output_type": "stream",
          "name": "stdout",
          "text": [
            "AND\n",
            "(True and True) o resultado é: True\n",
            "(True and False) o resultado é: False\n",
            "(False and True) o resultado é: False\n",
            "(False and False) o resultado é: False\n"
          ]
        }
      ],
      "source": [
        "print('AND')\n",
        "print(f'(True and True) o resultado é: {True and True}')\n",
        "print(f'(True and False) o resultado é: {True and False}')\n",
        "print(f'(False and True) o resultado é: {False and True}')\n",
        "print(f'(False and False) o resultado é: {False and False}')"
      ]
    },
    {
      "cell_type": "code",
      "execution_count": 155,
      "metadata": {
        "id": "sb0mSh-o0aRM",
        "colab": {
          "base_uri": "https://localhost:8080/"
        },
        "outputId": "6a4bb539-89b8-43d3-fdb4-9d6bc1300bd5"
      },
      "outputs": [
        {
          "output_type": "stream",
          "name": "stdout",
          "text": [
            "OR\n",
            "(True or True) o resultado é: True\n",
            "(True or False) o resultado é: True\n",
            "(False or True) o resultado é: True\n",
            "(False or False) o resultado é: False\n"
          ]
        }
      ],
      "source": [
        "print('OR')\n",
        "print(f'(True or True) o resultado é: {True or True}')\n",
        "print(f'(True or False) o resultado é: {True or False}')\n",
        "print(f'(False or True) o resultado é: {False or True}')\n",
        "print(f'(False or False) o resultado é: {False or False}')"
      ]
    },
    {
      "cell_type": "code",
      "execution_count": 153,
      "metadata": {
        "id": "AfNdTPzElto3",
        "colab": {
          "base_uri": "https://localhost:8080/"
        },
        "outputId": "12193d43-afbb-40ce-dd92-61bc072fb7ab"
      },
      "outputs": [
        {
          "output_type": "execute_result",
          "data": {
            "text/plain": [
              "[['Jetta Variant', 2003, False],\n",
              " ['Passat', 1991, False],\n",
              " ['Crossfox', 1990, False],\n",
              " ['DS5', 2019, True],\n",
              " ['Aston Martin DB4', 2006, False],\n",
              " ['Palio Weekend', 2012, False],\n",
              " ['A5', 2019, True],\n",
              " ['Série 3 Cabrio', 2009, False],\n",
              " ['Dodge Jorney', 2019, False],\n",
              " ['Carens', 2011, False]]"
            ]
          },
          "metadata": {},
          "execution_count": 153
        }
      ],
      "source": [
        "dados"
      ]
    },
    {
      "cell_type": "code",
      "execution_count": 163,
      "metadata": {
        "id": "5bN7SuvTlto4"
      },
      "outputs": [],
      "source": [
        "A, B, C, = [], [], []\n",
        "\n",
        "for lista in dados:\n",
        "  if(lista[1] <= 2000):\n",
        "    A.append(lista)\n",
        "  # elif(lista[1] >2000 and lista[1] <= 2010):   \n",
        "  elif(2000 < lista[1] <= 2010):    \n",
        "    B.append(lista)\n",
        "  else:\n",
        "    C.append(lista)"
      ]
    },
    {
      "cell_type": "code",
      "execution_count": 164,
      "metadata": {
        "id": "dDEl3Vfglto4",
        "colab": {
          "base_uri": "https://localhost:8080/"
        },
        "outputId": "c5711bf4-cc56-49aa-d1eb-456153d110cb"
      },
      "outputs": [
        {
          "output_type": "execute_result",
          "data": {
            "text/plain": [
              "[['Passat', 1991, False], ['Crossfox', 1990, False]]"
            ]
          },
          "metadata": {},
          "execution_count": 164
        }
      ],
      "source": [
        "A"
      ]
    },
    {
      "cell_type": "code",
      "execution_count": 165,
      "metadata": {
        "id": "Ot4HLQlelto5",
        "colab": {
          "base_uri": "https://localhost:8080/"
        },
        "outputId": "c9816b0e-89ee-46d1-a19c-a5d70beade7a"
      },
      "outputs": [
        {
          "output_type": "execute_result",
          "data": {
            "text/plain": [
              "[['Jetta Variant', 2003, False],\n",
              " ['Aston Martin DB4', 2006, False],\n",
              " ['Série 3 Cabrio', 2009, False]]"
            ]
          },
          "metadata": {},
          "execution_count": 165
        }
      ],
      "source": [
        "B"
      ]
    },
    {
      "cell_type": "code",
      "execution_count": 166,
      "metadata": {
        "id": "FN26ZBKJlto5",
        "colab": {
          "base_uri": "https://localhost:8080/"
        },
        "outputId": "413ef5f0-3004-4aa3-f36c-bdb3ef2f1b69"
      },
      "outputs": [
        {
          "output_type": "execute_result",
          "data": {
            "text/plain": [
              "[['DS5', 2019, True],\n",
              " ['Palio Weekend', 2012, False],\n",
              " ['A5', 2019, True],\n",
              " ['Dodge Jorney', 2019, False],\n",
              " ['Carens', 2011, False]]"
            ]
          },
          "metadata": {},
          "execution_count": 166
        }
      ],
      "source": [
        "C"
      ]
    },
    {
      "cell_type": "markdown",
      "metadata": {
        "id": "aRfQfubxlto6"
      },
      "source": [
        "# <font color=green> 5. NUMPY BÁSICO\n",
        "---\n",
        "\n",
        "Numpy é a abreviação de Numerical Python e é um dos pacotes mais importantes para processamento numérico em Python. Numpy oferece a base para a maioria dos pacotes de aplicações científicas que utilizem dados numéricos em Python (estruturas de dados e algoritmos). Pode-se destacar os seguintes recursos que o pacote Numpy contém:\n",
        "\n",
        "- Um poderoso objeto array multidimensional;\n",
        "- Funções matemáticas sofisticadas para operações com arrays sem a necessidade de utilização de laços *for*;\n",
        "- Recursos de algebra linear e geração de números aleatórios\n",
        "\n",
        "Além de seus óbvios usos científicos, o pacote NumPy também é muito utilizado em análise de dados como um eficiente contêiner multidimensional de dados genéricos para transporte entre diversos algoritmos e bibliotecas em Python.\n",
        "\n",
        "**Versão:** 1.16.5\n",
        "\n",
        "**Instalação:** https://scipy.org/install.html\n",
        "\n",
        "**Documentação:** https://numpy.org/doc/1.16/"
      ]
    },
    {
      "cell_type": "markdown",
      "metadata": {
        "id": "RtG2-g1ultme"
      },
      "source": [
        "### Pacotes\n",
        "\n",
        "Existem diversos pacotes Python disponíveis para download na internet. Cada pacote tem como objetivo a solução de determinado tipo de problema e para isso são desenvolvidos novos tipos, funções e métodos.\n",
        "\n",
        "Alguns pacotes são bastante utilizados em um contexto de ciência de dados como por exemplo:\n",
        "\n",
        "- Numpy\n",
        "- Pandas\n",
        "- Scikit-learn\n",
        "- Matplotlib\n",
        "\n",
        "Alguns pacotes não são distribuídos com a instalação default do Python. Neste caso devemos instalar os pacotes que necessitamos em nosso sistema para podermos utilizar suas funcionalidades."
      ]
    },
    {
      "cell_type": "markdown",
      "metadata": {
        "id": "b8prsQjmltme"
      },
      "source": [
        "### Importando todo o pacote"
      ]
    },
    {
      "cell_type": "code",
      "execution_count": 167,
      "metadata": {
        "id": "lP0tqXHLltmf"
      },
      "outputs": [],
      "source": [
        "import numpy as np"
      ]
    },
    {
      "cell_type": "markdown",
      "metadata": {
        "id": "9kt5UmTvLTpR"
      },
      "source": [
        "https://numpy.org/doc/1.16/reference/generated/numpy.arange.html"
      ]
    },
    {
      "cell_type": "code",
      "execution_count": 169,
      "metadata": {
        "id": "Y40UP3K7ltmg",
        "colab": {
          "base_uri": "https://localhost:8080/"
        },
        "outputId": "24bf05f0-2419-4bad-f97a-25486750be43"
      },
      "outputs": [
        {
          "output_type": "execute_result",
          "data": {
            "text/plain": [
              "array([0, 1, 2, 3, 4, 5, 6, 7, 8, 9])"
            ]
          },
          "metadata": {},
          "execution_count": 169
        }
      ],
      "source": [
        "np.arange(10)"
      ]
    },
    {
      "cell_type": "markdown",
      "metadata": {
        "id": "84-53f4Lltmh"
      },
      "source": [
        "### Importando todo o pacote e atribuindo um novo nome "
      ]
    },
    {
      "cell_type": "code",
      "execution_count": 119,
      "metadata": {
        "id": "CzESWck7ltmi"
      },
      "outputs": [],
      "source": [
        ""
      ]
    },
    {
      "cell_type": "code",
      "execution_count": 119,
      "metadata": {
        "id": "RC7Dr5Viltmj"
      },
      "outputs": [],
      "source": [
        ""
      ]
    },
    {
      "cell_type": "markdown",
      "metadata": {
        "id": "WWawttSpltml"
      },
      "source": [
        "### Importando parte do pacote"
      ]
    },
    {
      "cell_type": "code",
      "execution_count": 170,
      "metadata": {
        "id": "8kTeo3Ltltmo"
      },
      "outputs": [],
      "source": [
        "from numpy import arange"
      ]
    },
    {
      "cell_type": "code",
      "execution_count": 171,
      "metadata": {
        "id": "4LPnpiEwltmt",
        "colab": {
          "base_uri": "https://localhost:8080/"
        },
        "outputId": "4f6555fe-d537-4371-dcde-4bcbcc42f0f7"
      },
      "outputs": [
        {
          "output_type": "execute_result",
          "data": {
            "text/plain": [
              "array([0, 1, 2, 3, 4, 5, 6, 7, 8, 9])"
            ]
          },
          "metadata": {},
          "execution_count": 171
        }
      ],
      "source": [
        "arange(10)"
      ]
    },
    {
      "cell_type": "markdown",
      "metadata": {
        "id": "VSmffnCklto6"
      },
      "source": [
        "# 5.1 Criando arrays Numpy"
      ]
    },
    {
      "cell_type": "code",
      "execution_count": 176,
      "metadata": {
        "id": "Wqpin_-Plto8",
        "colab": {
          "base_uri": "https://localhost:8080/"
        },
        "outputId": "466d47c5-dbaf-44ab-9618-7c289a037487"
      },
      "outputs": [
        {
          "output_type": "execute_result",
          "data": {
            "text/plain": [
              "array([1000, 5000, 9000, 8000])"
            ]
          },
          "metadata": {},
          "execution_count": 176
        }
      ],
      "source": [
        "km = np.array([1000, 5000, 9000, 8000])\n",
        "km"
      ]
    },
    {
      "cell_type": "markdown",
      "metadata": {
        "id": "ock4Ku-Ulto8"
      },
      "source": [
        "### A partir de listas\n",
        "\n",
        "https://numpy.org/doc/1.16/user/basics.creation.html"
      ]
    },
    {
      "cell_type": "code",
      "execution_count": 119,
      "metadata": {
        "id": "82H-09CQlto9"
      },
      "outputs": [],
      "source": [
        ""
      ]
    },
    {
      "cell_type": "code",
      "execution_count": 119,
      "metadata": {
        "id": "8VYE3JSYlto9"
      },
      "outputs": [],
      "source": [
        ""
      ]
    },
    {
      "cell_type": "code",
      "execution_count": 119,
      "metadata": {
        "id": "OBsa5Cfplto-"
      },
      "outputs": [],
      "source": [
        ""
      ]
    },
    {
      "cell_type": "markdown",
      "metadata": {
        "id": "RfQ3jJSAlto-"
      },
      "source": [
        "https://numpy.org/doc/1.16/user/basics.types.html"
      ]
    },
    {
      "cell_type": "code",
      "execution_count": 177,
      "metadata": {
        "id": "6yLpkJcAlto-",
        "colab": {
          "base_uri": "https://localhost:8080/"
        },
        "outputId": "6538c70c-9dbc-4a15-d9ca-b75ac2045ee0"
      },
      "outputs": [
        {
          "output_type": "execute_result",
          "data": {
            "text/plain": [
              "dtype('int64')"
            ]
          },
          "metadata": {},
          "execution_count": 177
        }
      ],
      "source": [
        "km.dtype"
      ]
    },
    {
      "cell_type": "markdown",
      "metadata": {
        "id": "1pFx86QPlto_"
      },
      "source": [
        "### A partir de dados externos\n",
        "\n",
        "https://numpy.org/doc/1.16/reference/generated/numpy.loadtxt.html"
      ]
    },
    {
      "cell_type": "code",
      "execution_count": 178,
      "metadata": {
        "id": "26pQLNgrlto_",
        "colab": {
          "base_uri": "https://localhost:8080/"
        },
        "outputId": "a45bacde-8f92-44fc-f45e-1c2c017c7b9e"
      },
      "outputs": [
        {
          "output_type": "execute_result",
          "data": {
            "text/plain": [
              "array([ 44410,   5712,  37123,      0,  25757,  10728,      0,  77599,\n",
              "        99197,  37978,  12859,   8052,  89773,      0,  41457, 115607,\n",
              "        46449,      0,  37086,  15173, 101193,      0,  98079, 102959,\n",
              "            0,      0,   5795,      0,  58848,  94381,  30163,  53332,\n",
              "        17720,  33808,  90684,  43975,      0,      0,   5526,      0,\n",
              "        93415,  40762,      0,  86302,      0,   9755,  69945,   2395,\n",
              "            0,  80349,  85554,  50496,  67716,  93947,  35345,  81007,\n",
              "       119513,      0,      0,      0,      0,      0, 118895,  48509,\n",
              "       100912,  95649,      0,  90495,      0,  29132,  23802,  84992,\n",
              "        54395,  26731,  44329, 118236, 113808,    610,      0,      0,\n",
              "        12887,  79607,  90924,  42733,      0,      0, 117714, 113885,\n",
              "            0,  30511,  74867, 119760,   8356,  64247,  88661,   4539,\n",
              "       110116,  33215,  92001,      0,  81708,  70641,      0,  91277,\n",
              "        26544,  52596,  47503,  89056,  28834, 110564,  56638,  17357,\n",
              "        74015,  15196,      0,  10821,      0,      0,   9595,  99052,\n",
              "        52389, 119945,  96005,  31639,      0,  80187,      0,  58212,\n",
              "        61672,  32017,      0,  56944,      0,  86519,   4821, 101025,\n",
              "        30705,      0,  32555, 103389,      0,  55289,      0,      0,\n",
              "       115930,  66437,  96800,  14237,  19896, 113045, 114942,   3173,\n",
              "        83611,  25356,  88634,   2314,   2627,  52034,      0,      0,\n",
              "        79577, 108201,  76453,  57683,  96610, 109001,  26212,  45971,\n",
              "        49182,  49907,  38620,  60996,  73914, 107392,   9146,      0,\n",
              "        17924,      0, 116949,  20476,  52804,   8849,  91724,  32056,\n",
              "        74886,      0,      0,  52189,  83559,      0,  20328,      0,\n",
              "        75577,  33659, 104341,  25510,  18965,  87161,   6652,  55738,\n",
              "            0,      0,      0,  64320,      0,  68678,  71697,      0,\n",
              "        34783,  33772,  85127,  13606,  35647,  95128,  14046,  41194,\n",
              "            0,  96100, 103900,  43814,  24638,      0, 110966,  15987,\n",
              "        53369,  10077,  71544,    107,   8394,  41498, 116002, 100858,\n",
              "        67475,   8497,   4420,      0,  58537,      0,      0, 112016,\n",
              "        91840, 112787,      0,      0,   9293,      0,  55083,  48796,\n",
              "            0,  89685,  85384,  98108,  71280,  27505,  29981,  52637,\n",
              "         7685,  50188])"
            ]
          },
          "metadata": {},
          "execution_count": 178
        }
      ],
      "source": [
        "km = np.loadtxt(fname = 'carros-km.txt', dtype = int)\n",
        "km"
      ]
    },
    {
      "cell_type": "code",
      "execution_count": 179,
      "metadata": {
        "id": "FoP42bdpltpA",
        "scrolled": true,
        "colab": {
          "base_uri": "https://localhost:8080/"
        },
        "outputId": "56b5fa24-2910-4341-9904-8fd976dc8325"
      },
      "outputs": [
        {
          "output_type": "execute_result",
          "data": {
            "text/plain": [
              "dtype('int64')"
            ]
          },
          "metadata": {},
          "execution_count": 179
        }
      ],
      "source": [
        "km.dtype"
      ]
    },
    {
      "cell_type": "code",
      "execution_count": 119,
      "metadata": {
        "id": "MNPjZJbYltpA"
      },
      "outputs": [],
      "source": [
        ""
      ]
    },
    {
      "cell_type": "markdown",
      "metadata": {
        "id": "_wnTg0wJltpB"
      },
      "source": [
        "### Arrays com duas dimensões"
      ]
    },
    {
      "cell_type": "code",
      "execution_count": 180,
      "metadata": {
        "id": "Gt1dL27GltpB",
        "scrolled": true,
        "colab": {
          "base_uri": "https://localhost:8080/"
        },
        "outputId": "3dc6e0dc-838c-4e11-d4fc-c49f8d50da04"
      },
      "outputs": [
        {
          "output_type": "execute_result",
          "data": {
            "text/plain": [
              "[['Rodas de liga',\n",
              "  'Travas elétricas',\n",
              "  'Piloto automático',\n",
              "  'Bancos de couro',\n",
              "  'Ar condicionado',\n",
              "  'Sensor de estacionamento',\n",
              "  'Sensor crepuscular',\n",
              "  'Sensor de chuva'],\n",
              " ['Central multimídia',\n",
              "  'Teto panorâmico',\n",
              "  'Freios ABS',\n",
              "  '4 X 4',\n",
              "  'Painel digital',\n",
              "  'Piloto automático',\n",
              "  'Bancos de couro',\n",
              "  'Câmera de estacionamento'],\n",
              " ['Piloto automático',\n",
              "  'Controle de estabilidade',\n",
              "  'Sensor crepuscular',\n",
              "  'Freios ABS',\n",
              "  'Câmbio automático',\n",
              "  'Bancos de couro',\n",
              "  'Central multimídia',\n",
              "  'Vidros elétricos']]"
            ]
          },
          "metadata": {},
          "execution_count": 180
        }
      ],
      "source": [
        "dados = [ \n",
        "    ['Rodas de liga', 'Travas elétricas', 'Piloto automático', 'Bancos de couro', 'Ar condicionado', 'Sensor de estacionamento', 'Sensor crepuscular', 'Sensor de chuva'],\n",
        "    ['Central multimídia', 'Teto panorâmico', 'Freios ABS', '4 X 4', 'Painel digital', 'Piloto automático', 'Bancos de couro', 'Câmera de estacionamento'],\n",
        "    ['Piloto automático', 'Controle de estabilidade', 'Sensor crepuscular', 'Freios ABS', 'Câmbio automático', 'Bancos de couro', 'Central multimídia', 'Vidros elétricos']\n",
        "]\n",
        "dados"
      ]
    },
    {
      "cell_type": "code",
      "execution_count": 181,
      "metadata": {
        "id": "IlbYeZPkltpC"
      },
      "outputs": [],
      "source": [
        "Acessorios = np.array(dados)"
      ]
    },
    {
      "cell_type": "code",
      "execution_count": 182,
      "metadata": {
        "id": "FgjmWozgltpD",
        "scrolled": true,
        "colab": {
          "base_uri": "https://localhost:8080/"
        },
        "outputId": "73bf1812-946e-42d6-9211-52f979ff0252"
      },
      "outputs": [
        {
          "output_type": "execute_result",
          "data": {
            "text/plain": [
              "array([['Rodas de liga', 'Travas elétricas', 'Piloto automático',\n",
              "        'Bancos de couro', 'Ar condicionado', 'Sensor de estacionamento',\n",
              "        'Sensor crepuscular', 'Sensor de chuva'],\n",
              "       ['Central multimídia', 'Teto panorâmico', 'Freios ABS', '4 X 4',\n",
              "        'Painel digital', 'Piloto automático', 'Bancos de couro',\n",
              "        'Câmera de estacionamento'],\n",
              "       ['Piloto automático', 'Controle de estabilidade',\n",
              "        'Sensor crepuscular', 'Freios ABS', 'Câmbio automático',\n",
              "        'Bancos de couro', 'Central multimídia', 'Vidros elétricos']],\n",
              "      dtype='<U24')"
            ]
          },
          "metadata": {},
          "execution_count": 182
        }
      ],
      "source": [
        "Acessorios"
      ]
    },
    {
      "cell_type": "code",
      "execution_count": 183,
      "metadata": {
        "id": "TDM9HskUltpD",
        "colab": {
          "base_uri": "https://localhost:8080/"
        },
        "outputId": "3d6d951f-1430-4dee-842a-59a5a756177a"
      },
      "outputs": [
        {
          "output_type": "execute_result",
          "data": {
            "text/plain": [
              "(258,)"
            ]
          },
          "metadata": {},
          "execution_count": 183
        }
      ],
      "source": [
        "km.shape"
      ]
    },
    {
      "cell_type": "code",
      "execution_count": 184,
      "metadata": {
        "id": "bBmnzpF5ltpE",
        "colab": {
          "base_uri": "https://localhost:8080/"
        },
        "outputId": "ee7e1293-90fe-4046-dade-e4771d0f7c86"
      },
      "outputs": [
        {
          "output_type": "execute_result",
          "data": {
            "text/plain": [
              "(3, 8)"
            ]
          },
          "metadata": {},
          "execution_count": 184
        }
      ],
      "source": [
        "Acessorios.shape"
      ]
    },
    {
      "cell_type": "markdown",
      "metadata": {
        "id": "cPbkST9pltpE"
      },
      "source": [
        "### Comparando desempenho com listas"
      ]
    },
    {
      "cell_type": "code",
      "execution_count": 187,
      "metadata": {
        "id": "tTPC-G4vltpE"
      },
      "outputs": [],
      "source": [
        "np_array = np.arange(1000000)"
      ]
    },
    {
      "cell_type": "code",
      "execution_count": 185,
      "metadata": {
        "id": "PIC-ndg9ltpF"
      },
      "outputs": [],
      "source": [
        "py_list = list(range(1000000))"
      ]
    },
    {
      "cell_type": "code",
      "execution_count": 188,
      "metadata": {
        "id": "vXy57nk2ltpF",
        "colab": {
          "base_uri": "https://localhost:8080/"
        },
        "outputId": "d4a83abb-d645-4731-ab2f-034eb24274d5"
      },
      "outputs": [
        {
          "output_type": "stream",
          "name": "stdout",
          "text": [
            "CPU times: user 70.5 ms, sys: 0 ns, total: 70.5 ms\n",
            "Wall time: 72.6 ms\n"
          ]
        }
      ],
      "source": [
        "%time for _ in range(100): np_array *=2"
      ]
    },
    {
      "cell_type": "code",
      "execution_count": 189,
      "metadata": {
        "id": "I94lVgCRltpG",
        "colab": {
          "base_uri": "https://localhost:8080/"
        },
        "outputId": "2cd847cc-decb-4556-967e-05e4e85f2f61"
      },
      "outputs": [
        {
          "output_type": "stream",
          "name": "stdout",
          "text": [
            "CPU times: user 9.38 s, sys: 2.29 s, total: 11.7 s\n",
            "Wall time: 11.7 s\n"
          ]
        }
      ],
      "source": [
        "%time for _ in range(100): py_list = [x * 2 for x in py_list]"
      ]
    },
    {
      "cell_type": "markdown",
      "metadata": {
        "id": "ul4MuKyTltpG"
      },
      "source": [
        "# 5.2 Operações aritméticas com arrays Numpy"
      ]
    },
    {
      "cell_type": "markdown",
      "metadata": {
        "id": "QwnxO_rYltpH"
      },
      "source": [
        "### Operações entre arrays e constantes"
      ]
    },
    {
      "cell_type": "code",
      "execution_count": 193,
      "metadata": {
        "id": "63KVHPK0ltpH"
      },
      "outputs": [],
      "source": [
        "km = [44410., 5712., 37123., 0., 25757.]\n",
        "anos = [2003, 1991, 1990, 2019, 2006]"
      ]
    },
    {
      "cell_type": "code",
      "execution_count": 197,
      "metadata": {
        "id": "AryIZaBIltpH"
      },
      "outputs": [],
      "source": [
        "# idade = 2019 - anos"
      ]
    },
    {
      "cell_type": "code",
      "execution_count": 252,
      "metadata": {
        "id": "s8GvEk4HltpI"
      },
      "outputs": [],
      "source": [
        "km = np.array([44410., 5712., 37123., 0., 25757.])\n",
        "anos = np.array([2003, 1991, 1990, 2019, 2006])"
      ]
    },
    {
      "cell_type": "code",
      "execution_count": 196,
      "metadata": {
        "id": "aUnYV7OultpI",
        "colab": {
          "base_uri": "https://localhost:8080/"
        },
        "outputId": "f5da6360-a897-4bf3-f1bb-35c31d666f17"
      },
      "outputs": [
        {
          "output_type": "execute_result",
          "data": {
            "text/plain": [
              "array([16, 28, 29,  0, 13])"
            ]
          },
          "metadata": {},
          "execution_count": 196
        }
      ],
      "source": [
        "idade = 2019 - anos\n",
        "idade"
      ]
    },
    {
      "cell_type": "code",
      "execution_count": 122,
      "metadata": {
        "id": "vg5yZ9IpltpJ"
      },
      "outputs": [],
      "source": [
        ""
      ]
    },
    {
      "cell_type": "markdown",
      "metadata": {
        "id": "qn1PUsM9ltpJ"
      },
      "source": [
        "### Operações entre arrays"
      ]
    },
    {
      "cell_type": "code",
      "execution_count": 198,
      "metadata": {
        "id": "gU_d5aZkltpJ",
        "colab": {
          "base_uri": "https://localhost:8080/"
        },
        "outputId": "56c3c138-ed71-4076-d40f-aadfb80c6b78"
      },
      "outputs": [
        {
          "output_type": "stream",
          "name": "stderr",
          "text": [
            "/usr/local/lib/python3.7/dist-packages/ipykernel_launcher.py:1: RuntimeWarning: invalid value encountered in true_divide\n",
            "  \"\"\"Entry point for launching an IPython kernel.\n"
          ]
        }
      ],
      "source": [
        "km_media = km / idade"
      ]
    },
    {
      "cell_type": "code",
      "execution_count": 199,
      "metadata": {
        "id": "U9DXntUEltpK",
        "colab": {
          "base_uri": "https://localhost:8080/"
        },
        "outputId": "57f7df80-327f-4cb1-d129-3a9046f710a7"
      },
      "outputs": [
        {
          "output_type": "execute_result",
          "data": {
            "text/plain": [
              "array([2775.625     ,  204.        , 1280.10344828,           nan,\n",
              "       1981.30769231])"
            ]
          },
          "metadata": {},
          "execution_count": 199
        }
      ],
      "source": [
        "km_media"
      ]
    },
    {
      "cell_type": "code",
      "execution_count": 122,
      "metadata": {
        "id": "n0rPxgY1ltpL"
      },
      "outputs": [],
      "source": [
        ""
      ]
    },
    {
      "cell_type": "markdown",
      "metadata": {
        "id": "o4-gsGICltpN"
      },
      "source": [
        "### Operações com arrays de duas dimensões"
      ]
    },
    {
      "cell_type": "code",
      "execution_count": 253,
      "metadata": {
        "id": "VT71Pbb3ltpN"
      },
      "outputs": [],
      "source": [
        "dados = np.array([km, anos])"
      ]
    },
    {
      "cell_type": "code",
      "execution_count": 202,
      "metadata": {
        "id": "bgDe00q8ltpO",
        "colab": {
          "base_uri": "https://localhost:8080/"
        },
        "outputId": "2f357fdd-5b58-4068-bbf9-23bacd2d9546"
      },
      "outputs": [
        {
          "output_type": "execute_result",
          "data": {
            "text/plain": [
              "array([[44410.,  5712., 37123.,     0., 25757.],\n",
              "       [ 2003.,  1991.,  1990.,  2019.,  2006.]])"
            ]
          },
          "metadata": {},
          "execution_count": 202
        }
      ],
      "source": [
        "dados"
      ]
    },
    {
      "cell_type": "code",
      "execution_count": 203,
      "metadata": {
        "id": "jIQU2ugKltpP",
        "colab": {
          "base_uri": "https://localhost:8080/"
        },
        "outputId": "b1b54915-4082-481f-ea0f-db0502fb2cbd"
      },
      "outputs": [
        {
          "output_type": "execute_result",
          "data": {
            "text/plain": [
              "(2, 5)"
            ]
          },
          "metadata": {},
          "execution_count": 203
        }
      ],
      "source": [
        "dados.shape"
      ]
    },
    {
      "cell_type": "markdown",
      "metadata": {
        "id": "dsgz-E5ZltpP"
      },
      "source": [
        "![1410-img01.png](https://caelum-online-public.s3.amazonaws.com/1410-pythondatascience/01/1410-img01.png)"
      ]
    },
    {
      "cell_type": "code",
      "execution_count": 204,
      "metadata": {
        "id": "imANn6HultpQ",
        "colab": {
          "base_uri": "https://localhost:8080/"
        },
        "outputId": "dd53e902-ba2f-49b8-ff0c-4f302b89057c"
      },
      "outputs": [
        {
          "output_type": "execute_result",
          "data": {
            "text/plain": [
              "array([44410.,  5712., 37123.,     0., 25757.])"
            ]
          },
          "metadata": {},
          "execution_count": 204
        }
      ],
      "source": [
        "dados[0]"
      ]
    },
    {
      "cell_type": "code",
      "execution_count": 205,
      "metadata": {
        "id": "Nkp9ljkvltpQ",
        "colab": {
          "base_uri": "https://localhost:8080/"
        },
        "outputId": "9e9794c4-c011-4f6a-ed7e-0a4f6aaf23bd"
      },
      "outputs": [
        {
          "output_type": "execute_result",
          "data": {
            "text/plain": [
              "array([2003., 1991., 1990., 2019., 2006.])"
            ]
          },
          "metadata": {},
          "execution_count": 205
        }
      ],
      "source": [
        "dados[1]"
      ]
    },
    {
      "cell_type": "code",
      "execution_count": 206,
      "metadata": {
        "id": "njJ2z3HJltpR",
        "colab": {
          "base_uri": "https://localhost:8080/"
        },
        "outputId": "bebe619d-3d45-48e8-d2e7-e25aeb4172ea"
      },
      "outputs": [
        {
          "output_type": "stream",
          "name": "stderr",
          "text": [
            "/usr/local/lib/python3.7/dist-packages/ipykernel_launcher.py:1: RuntimeWarning: invalid value encountered in true_divide\n",
            "  \"\"\"Entry point for launching an IPython kernel.\n"
          ]
        }
      ],
      "source": [
        "km_media = dados[0]/ (2019 - dados[1])"
      ]
    },
    {
      "cell_type": "markdown",
      "metadata": {
        "id": "4CAwtS0-ltpR"
      },
      "source": [
        "# 5.3 Seleções com arrays Numpy"
      ]
    },
    {
      "cell_type": "markdown",
      "metadata": {
        "id": "QDAT1vODltpS"
      },
      "source": [
        "![1410-img01.png](https://caelum-online-public.s3.amazonaws.com/1410-pythondatascience/01/1410-img01.png)"
      ]
    },
    {
      "cell_type": "code",
      "execution_count": 207,
      "metadata": {
        "id": "nZpPGS2TltpS"
      },
      "outputs": [],
      "source": [
        ""
      ]
    },
    {
      "cell_type": "markdown",
      "metadata": {
        "id": "b--BIPcOltpT"
      },
      "source": [
        "![1410-img02.png](https://caelum-online-public.s3.amazonaws.com/1410-pythondatascience/01/1410-img02.png)"
      ]
    },
    {
      "cell_type": "markdown",
      "metadata": {
        "id": "86-hOHa7ltpT"
      },
      "source": [
        "### Indexação \n",
        "\n",
        "<font color=red>**Observação:**</font> A indexação tem origem no zero."
      ]
    },
    {
      "cell_type": "code",
      "execution_count": 209,
      "metadata": {
        "id": "mr0Q_X0JltpT",
        "colab": {
          "base_uri": "https://localhost:8080/"
        },
        "outputId": "c703f670-2e06-4acc-bc30-c3db95f80171"
      },
      "outputs": [
        {
          "output_type": "execute_result",
          "data": {
            "text/plain": [
              "array([0, 1, 2, 3, 4, 5, 6, 7, 8, 9])"
            ]
          },
          "metadata": {},
          "execution_count": 209
        }
      ],
      "source": [
        "contador = np.arange(10)\n",
        "contador"
      ]
    },
    {
      "cell_type": "code",
      "execution_count": 210,
      "metadata": {
        "id": "VxiR_IgdltpU",
        "colab": {
          "base_uri": "https://localhost:8080/"
        },
        "outputId": "0c0f77b5-5818-4c09-bfee-6cbd444abb41"
      },
      "outputs": [
        {
          "output_type": "execute_result",
          "data": {
            "text/plain": [
              "0"
            ]
          },
          "metadata": {},
          "execution_count": 210
        }
      ],
      "source": [
        "contador[0]"
      ]
    },
    {
      "cell_type": "code",
      "execution_count": 211,
      "metadata": {
        "id": "xGDomIyAltpU",
        "colab": {
          "base_uri": "https://localhost:8080/"
        },
        "outputId": "41cab681-d2d3-4bf7-d373-d1bae6d89a6f"
      },
      "outputs": [
        {
          "output_type": "execute_result",
          "data": {
            "text/plain": [
              "5"
            ]
          },
          "metadata": {},
          "execution_count": 211
        }
      ],
      "source": [
        "item = 6\n",
        "index = item - 1\n",
        "contador[index]"
      ]
    },
    {
      "cell_type": "code",
      "execution_count": 212,
      "metadata": {
        "id": "QEO5Za5PltpV",
        "colab": {
          "base_uri": "https://localhost:8080/"
        },
        "outputId": "654c0ff0-4092-4300-c3c6-eb99f5f1df16"
      },
      "outputs": [
        {
          "output_type": "execute_result",
          "data": {
            "text/plain": [
              "9"
            ]
          },
          "metadata": {},
          "execution_count": 212
        }
      ],
      "source": [
        "contador[-1]"
      ]
    },
    {
      "cell_type": "code",
      "execution_count": 213,
      "metadata": {
        "id": "rvkeMK8KltpV",
        "colab": {
          "base_uri": "https://localhost:8080/"
        },
        "outputId": "c47cf5c0-44b4-437f-824b-b892f28531e0"
      },
      "outputs": [
        {
          "output_type": "execute_result",
          "data": {
            "text/plain": [
              "array([44410.,  5712., 37123.,     0., 25757.])"
            ]
          },
          "metadata": {},
          "execution_count": 213
        }
      ],
      "source": [
        "dados[0]"
      ]
    },
    {
      "cell_type": "code",
      "execution_count": 214,
      "metadata": {
        "id": "X8c-lJRJltpW",
        "colab": {
          "base_uri": "https://localhost:8080/"
        },
        "outputId": "f3342653-efde-4e36-f1d9-5cb280aedf64"
      },
      "outputs": [
        {
          "output_type": "execute_result",
          "data": {
            "text/plain": [
              "array([2003., 1991., 1990., 2019., 2006.])"
            ]
          },
          "metadata": {},
          "execution_count": 214
        }
      ],
      "source": [
        "dados[1]"
      ]
    },
    {
      "cell_type": "markdown",
      "metadata": {
        "id": "fCWUSI1zltpZ"
      },
      "source": [
        "## <font color=green>**Dica:**</font>\n",
        "### *ndarray[ linha ][ coluna ]* ou *ndarray[ linha, coluna ]*"
      ]
    },
    {
      "cell_type": "code",
      "execution_count": 215,
      "metadata": {
        "id": "Nxc3uY-ZltpZ",
        "colab": {
          "base_uri": "https://localhost:8080/"
        },
        "outputId": "d28d6739-8f7e-4464-aaf8-08191cd8aca3"
      },
      "outputs": [
        {
          "output_type": "execute_result",
          "data": {
            "text/plain": [
              "1990.0"
            ]
          },
          "metadata": {},
          "execution_count": 215
        }
      ],
      "source": [
        "dados[1, 2]"
      ]
    },
    {
      "cell_type": "code",
      "execution_count": 216,
      "metadata": {
        "id": "xp8ByjualtpZ",
        "colab": {
          "base_uri": "https://localhost:8080/"
        },
        "outputId": "092f8122-3171-4840-c520-d78830415170"
      },
      "outputs": [
        {
          "output_type": "execute_result",
          "data": {
            "text/plain": [
              "1990.0"
            ]
          },
          "metadata": {},
          "execution_count": 216
        }
      ],
      "source": [
        "dados [1][2]"
      ]
    },
    {
      "cell_type": "markdown",
      "metadata": {
        "id": "7osmTUC4ltpa"
      },
      "source": [
        " ### Fatiamentos\n",
        " \n",
        "A sintaxe para realizar fatiamento em um array Numpy é $i : j : k$ onde $i$ é o índice inicial, $j$ é o índice de parada, e $k$ é o indicador de passo ($k\\neq0$)\n",
        " \n",
        "<font color=red>**Observação:**</font> Nos fatiamentos (*slices*) o item com índice i é **incluído** e o item com índice j **não é incluído** no resultado."
      ]
    },
    {
      "cell_type": "markdown",
      "metadata": {
        "id": "HEx4TbNlltpa"
      },
      "source": [
        "![1410-img01.png](https://caelum-online-public.s3.amazonaws.com/1410-pythondatascience/01/1410-img01.png)"
      ]
    },
    {
      "cell_type": "code",
      "execution_count": 218,
      "metadata": {
        "id": "tlaD1SENltpb",
        "colab": {
          "base_uri": "https://localhost:8080/"
        },
        "outputId": "41fefb7a-9888-4080-f9ff-384a4b88bf87"
      },
      "outputs": [
        {
          "output_type": "execute_result",
          "data": {
            "text/plain": [
              "array([0, 1, 2, 3, 4, 5, 6, 7, 8, 9])"
            ]
          },
          "metadata": {},
          "execution_count": 218
        }
      ],
      "source": [
        "contador = np.arange(10)\n",
        "contador"
      ]
    },
    {
      "cell_type": "code",
      "execution_count": 219,
      "metadata": {
        "id": "vXLIO1cVltpc",
        "colab": {
          "base_uri": "https://localhost:8080/"
        },
        "outputId": "0a3e9ff3-9fae-460e-a0f2-04a9dc5c03bb"
      },
      "outputs": [
        {
          "output_type": "execute_result",
          "data": {
            "text/plain": [
              "array([1, 2, 3])"
            ]
          },
          "metadata": {},
          "execution_count": 219
        }
      ],
      "source": [
        "contador[1:4]"
      ]
    },
    {
      "cell_type": "code",
      "execution_count": 220,
      "metadata": {
        "id": "kYLgsQcHltpc",
        "colab": {
          "base_uri": "https://localhost:8080/"
        },
        "outputId": "dc3e8acc-723e-49d9-b5b9-dd7c2beb564c"
      },
      "outputs": [
        {
          "output_type": "execute_result",
          "data": {
            "text/plain": [
              "array([1, 3, 5, 7])"
            ]
          },
          "metadata": {},
          "execution_count": 220
        }
      ],
      "source": [
        "contador[1:8:2]\n"
      ]
    },
    {
      "cell_type": "code",
      "execution_count": 221,
      "metadata": {
        "id": "H2MJpIasltpd",
        "colab": {
          "base_uri": "https://localhost:8080/"
        },
        "outputId": "2ef4f09e-3433-4226-9e4e-a1edfff43084"
      },
      "outputs": [
        {
          "output_type": "execute_result",
          "data": {
            "text/plain": [
              "array([0, 2, 4, 6, 8])"
            ]
          },
          "metadata": {},
          "execution_count": 221
        }
      ],
      "source": [
        "contador[::2]"
      ]
    },
    {
      "cell_type": "code",
      "execution_count": 222,
      "metadata": {
        "id": "YVzf4fNCltpe",
        "colab": {
          "base_uri": "https://localhost:8080/"
        },
        "outputId": "2907600a-846f-4524-ab2e-fe60585e1457"
      },
      "outputs": [
        {
          "output_type": "execute_result",
          "data": {
            "text/plain": [
              "array([1, 3, 5, 7, 9])"
            ]
          },
          "metadata": {},
          "execution_count": 222
        }
      ],
      "source": [
        "contador[1::2]"
      ]
    },
    {
      "cell_type": "code",
      "execution_count": 223,
      "metadata": {
        "id": "bPyQsUFPltpf",
        "colab": {
          "base_uri": "https://localhost:8080/"
        },
        "outputId": "f122ccd9-bd81-4247-a4e3-32e36de7ae9e"
      },
      "outputs": [
        {
          "output_type": "execute_result",
          "data": {
            "text/plain": [
              "array([[ 5712., 37123.,     0.],\n",
              "       [ 1991.,  1990.,  2019.]])"
            ]
          },
          "metadata": {},
          "execution_count": 223
        }
      ],
      "source": [
        "dados[:, 1:4]"
      ]
    },
    {
      "cell_type": "code",
      "execution_count": 224,
      "metadata": {
        "id": "IRxfixG-ltpg",
        "colab": {
          "base_uri": "https://localhost:8080/"
        },
        "outputId": "49500e3b-ef3c-4c38-fc06-717f25b596ca"
      },
      "outputs": [
        {
          "output_type": "execute_result",
          "data": {
            "text/plain": [
              "array([[ 5712., 37123.],\n",
              "       [ 1991.,  1990.]])"
            ]
          },
          "metadata": {},
          "execution_count": 224
        }
      ],
      "source": [
        "dados[:, 1:3]"
      ]
    },
    {
      "cell_type": "code",
      "execution_count": 225,
      "metadata": {
        "id": "wfoJ84haltph",
        "colab": {
          "base_uri": "https://localhost:8080/"
        },
        "outputId": "c974b306-08f5-4779-e3d1-6927aeec3e67"
      },
      "outputs": [
        {
          "output_type": "execute_result",
          "data": {
            "text/plain": [
              "array([ 5712., 37123.])"
            ]
          },
          "metadata": {},
          "execution_count": 225
        }
      ],
      "source": [
        "dados[:, 1:3][0]\n"
      ]
    },
    {
      "cell_type": "code",
      "execution_count": 228,
      "metadata": {
        "id": "UeejSXUAltph",
        "colab": {
          "base_uri": "https://localhost:8080/"
        },
        "outputId": "dc443c34-d65b-41d2-e45d-71b32a2e9976"
      },
      "outputs": [
        {
          "output_type": "execute_result",
          "data": {
            "text/plain": [
              "array([ 184.25806452, 1160.09375   ])"
            ]
          },
          "metadata": {},
          "execution_count": 228
        }
      ],
      "source": [
        "dados[:, 1:3][0] / (2022 - dados[:, 1:3][1])\n"
      ]
    },
    {
      "cell_type": "markdown",
      "metadata": {
        "id": "-fW4EXIqltpi"
      },
      "source": [
        "### Indexação com array booleano\n",
        "\n",
        "<font color=red>**Observação:**</font> Seleciona um grupo de linhas e colunas segundo os rótulos ou um array booleano."
      ]
    },
    {
      "cell_type": "code",
      "execution_count": 229,
      "metadata": {
        "id": "MgmH-rCSltpi",
        "colab": {
          "base_uri": "https://localhost:8080/"
        },
        "outputId": "d64c91e3-f9d2-43fb-a914-5ed39723f4c4"
      },
      "outputs": [
        {
          "output_type": "execute_result",
          "data": {
            "text/plain": [
              "array([0, 1, 2, 3, 4, 5, 6, 7, 8, 9])"
            ]
          },
          "metadata": {},
          "execution_count": 229
        }
      ],
      "source": [
        "contador = np.arange(10)\n",
        "contador"
      ]
    },
    {
      "cell_type": "code",
      "execution_count": 230,
      "metadata": {
        "id": "HN1i-BlLltpj",
        "colab": {
          "base_uri": "https://localhost:8080/"
        },
        "outputId": "7a8069a3-d3d8-4ab8-ae77-b2e4e75eb32a"
      },
      "outputs": [
        {
          "output_type": "execute_result",
          "data": {
            "text/plain": [
              "array([False, False, False, False, False, False,  True,  True,  True,\n",
              "        True])"
            ]
          },
          "metadata": {},
          "execution_count": 230
        }
      ],
      "source": [
        "contador > 5"
      ]
    },
    {
      "cell_type": "code",
      "execution_count": 231,
      "metadata": {
        "id": "iXJa9tL4ltpj",
        "colab": {
          "base_uri": "https://localhost:8080/"
        },
        "outputId": "08c1430e-88c0-4d93-dd3a-88766e2d7a7f"
      },
      "outputs": [
        {
          "output_type": "execute_result",
          "data": {
            "text/plain": [
              "array([6, 7, 8, 9])"
            ]
          },
          "metadata": {},
          "execution_count": 231
        }
      ],
      "source": [
        "contador[contador > 5]\n"
      ]
    },
    {
      "cell_type": "code",
      "execution_count": 234,
      "metadata": {
        "id": "54gH6X5eltpk",
        "colab": {
          "base_uri": "https://localhost:8080/"
        },
        "outputId": "245d5ab7-5dd4-4a3f-833c-73c209f80acd"
      },
      "outputs": [
        {
          "output_type": "execute_result",
          "data": {
            "text/plain": [
              "array([6, 7, 8, 9])"
            ]
          },
          "metadata": {},
          "execution_count": 234
        }
      ],
      "source": [
        "contador[[False, False, False, False, False, False,  True,  True,  True,\n",
        "        True]]"
      ]
    },
    {
      "cell_type": "code",
      "execution_count": 235,
      "metadata": {
        "id": "F3z6zMELltpk",
        "colab": {
          "base_uri": "https://localhost:8080/"
        },
        "outputId": "1e5027b0-2a22-49ba-99c9-15e3669df021"
      },
      "outputs": [
        {
          "output_type": "execute_result",
          "data": {
            "text/plain": [
              "array([[44410.,  5712., 37123.,     0., 25757.],\n",
              "       [ 2003.,  1991.,  1990.,  2019.,  2006.]])"
            ]
          },
          "metadata": {},
          "execution_count": 235
        }
      ],
      "source": [
        "dados"
      ]
    },
    {
      "cell_type": "code",
      "execution_count": 236,
      "metadata": {
        "id": "pk8A68z1ltpl",
        "colab": {
          "base_uri": "https://localhost:8080/"
        },
        "outputId": "0cd4c2b0-aadb-4892-ccc6-cdbbab9893b6"
      },
      "outputs": [
        {
          "output_type": "execute_result",
          "data": {
            "text/plain": [
              "array([ True, False, False,  True,  True])"
            ]
          },
          "metadata": {},
          "execution_count": 236
        }
      ],
      "source": [
        "dados[1] > 2000"
      ]
    },
    {
      "cell_type": "code",
      "execution_count": 239,
      "metadata": {
        "id": "WUVMN29_ltpm",
        "colab": {
          "base_uri": "https://localhost:8080/"
        },
        "outputId": "1f2e73d4-a9f7-4037-c7b1-562338eeeccf"
      },
      "outputs": [
        {
          "output_type": "execute_result",
          "data": {
            "text/plain": [
              "array([[44410.,     0., 25757.],\n",
              "       [ 2003.,  2019.,  2006.]])"
            ]
          },
          "metadata": {},
          "execution_count": 239
        }
      ],
      "source": [
        "dados[:, dados[1] > 2000]"
      ]
    },
    {
      "cell_type": "code",
      "source": [
        "km_medio_00 = dados[0, dados[1] > 2000] / (2022 - dados[1, dados[1] > 2000])\n",
        "km_medio_00"
      ],
      "metadata": {
        "colab": {
          "base_uri": "https://localhost:8080/"
        },
        "id": "qqUihlruarAw",
        "outputId": "9289f1ca-8238-4245-ec4c-bc1e1196855b"
      },
      "execution_count": 245,
      "outputs": [
        {
          "output_type": "execute_result",
          "data": {
            "text/plain": [
              "array([2337.36842105,    0.        , 1609.8125    ])"
            ]
          },
          "metadata": {},
          "execution_count": 245
        }
      ]
    },
    {
      "cell_type": "code",
      "source": [
        "dados = np.array(\n",
        "    [\n",
        "        ['Roberto', 'casado', 'masculino'],\n",
        "        ['Sheila', 'solteira', 'feminino'],\n",
        "        ['Bruno', 'solteiro', 'masculino'],\n",
        "        ['Rita', 'casada', 'feminino']\n",
        "    ]\n",
        ")\n",
        "\n",
        "dados[0::2, :2]"
      ],
      "metadata": {
        "colab": {
          "base_uri": "https://localhost:8080/"
        },
        "id": "QHf1s8OhcGmK",
        "outputId": "92392fcb-4c8f-47d4-c0c2-0d8d7f6a1140"
      },
      "execution_count": 251,
      "outputs": [
        {
          "output_type": "execute_result",
          "data": {
            "text/plain": [
              "array([['Roberto', 'casado'],\n",
              "       ['Bruno', 'solteiro']], dtype='<U9')"
            ]
          },
          "metadata": {},
          "execution_count": 251
        }
      ]
    },
    {
      "cell_type": "markdown",
      "metadata": {
        "id": "Acw1DffHltpn"
      },
      "source": [
        "# 5.4 Atributos e métodos de arrays Numpy"
      ]
    },
    {
      "cell_type": "markdown",
      "metadata": {
        "id": "RBnSne6Eltpo"
      },
      "source": [
        "### Atributos\n",
        "\n",
        "https://numpy.org/doc/1.16/reference/arrays.ndarray.html#array-attributes"
      ]
    },
    {
      "cell_type": "code",
      "execution_count": 254,
      "metadata": {
        "id": "stjvD6m8ltpo",
        "colab": {
          "base_uri": "https://localhost:8080/"
        },
        "outputId": "e6824525-3133-4c4c-e9d8-c47fe55c0d10"
      },
      "outputs": [
        {
          "output_type": "execute_result",
          "data": {
            "text/plain": [
              "array([[44410.,  5712., 37123.,     0., 25757.],\n",
              "       [ 2003.,  1991.,  1990.,  2019.,  2006.]])"
            ]
          },
          "metadata": {},
          "execution_count": 254
        }
      ],
      "source": [
        "dados"
      ]
    },
    {
      "cell_type": "markdown",
      "metadata": {
        "id": "uKqPxg2Zltpo"
      },
      "source": [
        "## *ndarray.shape*\n",
        "\n",
        "Retorna uma tupla com as dimensões do array."
      ]
    },
    {
      "cell_type": "code",
      "execution_count": 255,
      "metadata": {
        "id": "gmaZhF04ltpp",
        "colab": {
          "base_uri": "https://localhost:8080/"
        },
        "outputId": "279ee98e-a6f1-4dd1-f75b-1eb9672ded1c"
      },
      "outputs": [
        {
          "output_type": "execute_result",
          "data": {
            "text/plain": [
              "(2, 5)"
            ]
          },
          "metadata": {},
          "execution_count": 255
        }
      ],
      "source": [
        "dados.shape"
      ]
    },
    {
      "cell_type": "markdown",
      "metadata": {
        "id": "XaY6oXkmltpp"
      },
      "source": [
        "## *ndarray.ndim*\n",
        "\n",
        "Retorna o número de dimensões do array."
      ]
    },
    {
      "cell_type": "code",
      "execution_count": 256,
      "metadata": {
        "id": "inJ4HDjaltpq",
        "colab": {
          "base_uri": "https://localhost:8080/"
        },
        "outputId": "543bb72f-80ee-44c4-add1-ab5a3d87955a"
      },
      "outputs": [
        {
          "output_type": "execute_result",
          "data": {
            "text/plain": [
              "2"
            ]
          },
          "metadata": {},
          "execution_count": 256
        }
      ],
      "source": [
        "dados.ndim"
      ]
    },
    {
      "cell_type": "code",
      "source": [
        ""
      ],
      "metadata": {
        "id": "Jf3hLcv1dPJq"
      },
      "execution_count": null,
      "outputs": []
    },
    {
      "cell_type": "markdown",
      "metadata": {
        "id": "ESgVt5xOltpq"
      },
      "source": [
        "## *ndarray.size*\n",
        "\n",
        "Retorna o número de elementos do array."
      ]
    },
    {
      "cell_type": "code",
      "execution_count": 257,
      "metadata": {
        "id": "BWr4efoiltpq",
        "colab": {
          "base_uri": "https://localhost:8080/"
        },
        "outputId": "74fb66a5-9da8-4b5c-9154-272d87218264"
      },
      "outputs": [
        {
          "output_type": "execute_result",
          "data": {
            "text/plain": [
              "10"
            ]
          },
          "metadata": {},
          "execution_count": 257
        }
      ],
      "source": [
        "dados.size"
      ]
    },
    {
      "cell_type": "markdown",
      "metadata": {
        "id": "Ox8JlBM3ltpr"
      },
      "source": [
        "## *ndarray.dtype*\n",
        "\n",
        "Retorna o tipo de dados dos elementos do array."
      ]
    },
    {
      "cell_type": "code",
      "execution_count": 258,
      "metadata": {
        "id": "npiL84Vfltpu",
        "colab": {
          "base_uri": "https://localhost:8080/"
        },
        "outputId": "7ca06a17-6f8c-491f-905d-2bd895362106"
      },
      "outputs": [
        {
          "output_type": "execute_result",
          "data": {
            "text/plain": [
              "dtype('float64')"
            ]
          },
          "metadata": {},
          "execution_count": 258
        }
      ],
      "source": [
        "dados.dtype"
      ]
    },
    {
      "cell_type": "markdown",
      "metadata": {
        "id": "j7uPN16oltpv"
      },
      "source": [
        "## *ndarray.T*\n",
        "\n",
        "Retorna o array transposto, isto é, converte linhas em colunas e vice versa."
      ]
    },
    {
      "cell_type": "code",
      "execution_count": 259,
      "metadata": {
        "id": "bLjrrx56ltpv",
        "colab": {
          "base_uri": "https://localhost:8080/"
        },
        "outputId": "10409c8b-6673-4664-eb13-56c2a214f7be"
      },
      "outputs": [
        {
          "output_type": "execute_result",
          "data": {
            "text/plain": [
              "array([[44410.,  2003.],\n",
              "       [ 5712.,  1991.],\n",
              "       [37123.,  1990.],\n",
              "       [    0.,  2019.],\n",
              "       [25757.,  2006.]])"
            ]
          },
          "metadata": {},
          "execution_count": 259
        }
      ],
      "source": [
        "dados.T"
      ]
    },
    {
      "cell_type": "code",
      "execution_count": 261,
      "metadata": {
        "id": "5A9SlJQvltpw",
        "colab": {
          "base_uri": "https://localhost:8080/"
        },
        "outputId": "6e820233-8943-4bb5-91ae-06e4a8f97528"
      },
      "outputs": [
        {
          "output_type": "execute_result",
          "data": {
            "text/plain": [
              "array([[44410.,  2003.],\n",
              "       [ 5712.,  1991.],\n",
              "       [37123.,  1990.],\n",
              "       [    0.,  2019.],\n",
              "       [25757.,  2006.]])"
            ]
          },
          "metadata": {},
          "execution_count": 261
        }
      ],
      "source": [
        "dados.transpose()"
      ]
    },
    {
      "cell_type": "markdown",
      "metadata": {
        "id": "e9r6ryTrltpw"
      },
      "source": [
        "### Métodos\n",
        "\n",
        "https://numpy.org/doc/1.16/reference/arrays.ndarray.html#array-methods"
      ]
    },
    {
      "cell_type": "markdown",
      "metadata": {
        "id": "SR9KYy-0ltpw"
      },
      "source": [
        "## *ndarray.tolist()*\n",
        "\n",
        "Retorna o array como uma lista Python."
      ]
    },
    {
      "cell_type": "code",
      "execution_count": 280,
      "metadata": {
        "id": "C2aTAwOXltpw",
        "colab": {
          "base_uri": "https://localhost:8080/"
        },
        "outputId": "3e403d3c-51b6-4f9d-f52a-73606ee45d46"
      },
      "outputs": [
        {
          "output_type": "execute_result",
          "data": {
            "text/plain": [
              "[[44410.0, 5712.0, 37123.0, 0.0, 25757.0],\n",
              " [2003.0, 1991.0, 1990.0, 2019.0, 2006.0]]"
            ]
          },
          "metadata": {},
          "execution_count": 280
        }
      ],
      "source": [
        "dados.tolist()"
      ]
    },
    {
      "cell_type": "markdown",
      "metadata": {
        "id": "bHxcxugPltpx"
      },
      "source": [
        "## *ndarray.reshape(shape[, order])*\n",
        "\n",
        "Retorna um array que contém os mesmos dados com uma nova forma."
      ]
    },
    {
      "cell_type": "code",
      "execution_count": 263,
      "metadata": {
        "id": "lwESxO71ltpx",
        "colab": {
          "base_uri": "https://localhost:8080/"
        },
        "outputId": "f15df76c-a28c-4d53-8be9-07534233d627"
      },
      "outputs": [
        {
          "output_type": "execute_result",
          "data": {
            "text/plain": [
              "array([0, 1, 2, 3, 4, 5, 6, 7, 8, 9])"
            ]
          },
          "metadata": {},
          "execution_count": 263
        }
      ],
      "source": [
        "contador = np.arange(10)\n",
        "contador"
      ]
    },
    {
      "cell_type": "code",
      "execution_count": 264,
      "metadata": {
        "id": "sh9poyfzltpy",
        "colab": {
          "base_uri": "https://localhost:8080/"
        },
        "outputId": "708d2f48-aa98-476c-a72f-d2032dfe32f6"
      },
      "outputs": [
        {
          "output_type": "execute_result",
          "data": {
            "text/plain": [
              "array([[0, 1],\n",
              "       [2, 3],\n",
              "       [4, 5],\n",
              "       [6, 7],\n",
              "       [8, 9]])"
            ]
          },
          "metadata": {},
          "execution_count": 264
        }
      ],
      "source": [
        "contador.reshape((5,2))"
      ]
    },
    {
      "cell_type": "code",
      "execution_count": 265,
      "metadata": {
        "id": "5332Xu8-ltpy",
        "colab": {
          "base_uri": "https://localhost:8080/"
        },
        "outputId": "efeed8eb-5ec1-4bfb-9c19-b93fa11ffdbd"
      },
      "outputs": [
        {
          "output_type": "execute_result",
          "data": {
            "text/plain": [
              "array([[0, 1],\n",
              "       [2, 3],\n",
              "       [4, 5],\n",
              "       [6, 7],\n",
              "       [8, 9]])"
            ]
          },
          "metadata": {},
          "execution_count": 265
        }
      ],
      "source": [
        "contador.reshape((5,2), order='C')"
      ]
    },
    {
      "cell_type": "code",
      "execution_count": 266,
      "metadata": {
        "id": "2RoZvbgHltpz",
        "colab": {
          "base_uri": "https://localhost:8080/"
        },
        "outputId": "b3129042-a755-4f50-f6d3-3e8d856076f9"
      },
      "outputs": [
        {
          "output_type": "execute_result",
          "data": {
            "text/plain": [
              "array([[0, 5],\n",
              "       [1, 6],\n",
              "       [2, 7],\n",
              "       [3, 8],\n",
              "       [4, 9]])"
            ]
          },
          "metadata": {},
          "execution_count": 266
        }
      ],
      "source": [
        "contador.reshape((5,2), order='F')"
      ]
    },
    {
      "cell_type": "code",
      "execution_count": 267,
      "metadata": {
        "id": "6q0dJZ-dltp0"
      },
      "outputs": [],
      "source": [
        "km = [44410, 5712, 37123, 0, 25757]\n",
        "anos = [2003, 1991, 1990, 2019, 2006]"
      ]
    },
    {
      "cell_type": "code",
      "execution_count": 269,
      "metadata": {
        "id": "bs56aGrkltp0",
        "colab": {
          "base_uri": "https://localhost:8080/"
        },
        "outputId": "35ec47da-e245-4e9b-bce9-cffbe28aed38"
      },
      "outputs": [
        {
          "output_type": "execute_result",
          "data": {
            "text/plain": [
              "[44410, 5712, 37123, 0, 25757, 2003, 1991, 1990, 2019, 2006]"
            ]
          },
          "metadata": {},
          "execution_count": 269
        }
      ],
      "source": [
        "info_carros = km + anos\n",
        "info_carros"
      ]
    },
    {
      "cell_type": "code",
      "execution_count": 270,
      "metadata": {
        "id": "s_GkTk2fltp1",
        "colab": {
          "base_uri": "https://localhost:8080/"
        },
        "outputId": "6893c585-c0d2-4ca1-b598-6f77fe99707f"
      },
      "outputs": [
        {
          "output_type": "execute_result",
          "data": {
            "text/plain": [
              "array([[44410,  5712, 37123,     0, 25757],\n",
              "       [ 2003,  1991,  1990,  2019,  2006]])"
            ]
          },
          "metadata": {},
          "execution_count": 270
        }
      ],
      "source": [
        "np.array(info_carros).reshape((2,5))"
      ]
    },
    {
      "cell_type": "code",
      "execution_count": 272,
      "metadata": {
        "id": "xodm8DVZltp1",
        "colab": {
          "base_uri": "https://localhost:8080/"
        },
        "outputId": "87a9e304-644c-431f-d770-fe14eb87939f"
      },
      "outputs": [
        {
          "output_type": "execute_result",
          "data": {
            "text/plain": [
              "array([[44410,  2003],\n",
              "       [ 5712,  1991],\n",
              "       [37123,  1990],\n",
              "       [    0,  2019],\n",
              "       [25757,  2006]])"
            ]
          },
          "metadata": {},
          "execution_count": 272
        }
      ],
      "source": [
        "np.array(info_carros).reshape((5,2), order='F')\n"
      ]
    },
    {
      "cell_type": "markdown",
      "metadata": {
        "id": "Tdj5iArbltp2"
      },
      "source": [
        "## *ndarray.resize(new_shape[, refcheck])*\n",
        "\n",
        "Altera a forma e o tamanho do array."
      ]
    },
    {
      "cell_type": "code",
      "execution_count": 274,
      "metadata": {
        "id": "vB2zxCDtltp2",
        "colab": {
          "base_uri": "https://localhost:8080/"
        },
        "outputId": "cd0c2ecc-5136-416a-b96f-4d803b85768a"
      },
      "outputs": [
        {
          "output_type": "execute_result",
          "data": {
            "text/plain": [
              "array([[44410.,  5712., 37123.,     0., 25757.],\n",
              "       [ 2003.,  1991.,  1990.,  2019.,  2006.]])"
            ]
          },
          "metadata": {},
          "execution_count": 274
        }
      ],
      "source": [
        "dados_new = dados.copy()\n",
        "dados_new"
      ]
    },
    {
      "cell_type": "code",
      "execution_count": 277,
      "metadata": {
        "id": "IMv0m4Multp2"
      },
      "outputs": [],
      "source": [
        "# dados_new.resize((3,5))"
      ]
    },
    {
      "cell_type": "code",
      "execution_count": 276,
      "metadata": {
        "id": "wpAi9928ltp3"
      },
      "outputs": [],
      "source": [
        "dados_new.resize((3,5), refcheck=False)"
      ]
    },
    {
      "cell_type": "code",
      "execution_count": 278,
      "metadata": {
        "id": "CJyuKqaFltp3",
        "colab": {
          "base_uri": "https://localhost:8080/"
        },
        "outputId": "6b70bc10-4bcc-4058-8a3b-77153d6e659b"
      },
      "outputs": [
        {
          "output_type": "execute_result",
          "data": {
            "text/plain": [
              "array([[44410.,  5712., 37123.,     0., 25757.],\n",
              "       [ 2003.,  1991.,  1990.,  2019.,  2006.],\n",
              "       [    0.,     0.,     0.,     0.,     0.]])"
            ]
          },
          "metadata": {},
          "execution_count": 278
        }
      ],
      "source": [
        "dados_new"
      ]
    },
    {
      "cell_type": "code",
      "execution_count": 281,
      "metadata": {
        "id": "bj_iPZAultp4",
        "colab": {
          "base_uri": "https://localhost:8080/"
        },
        "outputId": "10b2421a-dcee-4e65-b34f-64e3cc4f165c"
      },
      "outputs": [
        {
          "output_type": "execute_result",
          "data": {
            "text/plain": [
              "array([[44410.        ,  5712.        , 37123.        ,     0.        ,\n",
              "        25757.        ],\n",
              "       [ 2003.        ,  1991.        ,  1990.        ,  2019.        ,\n",
              "         2006.        ],\n",
              "       [ 2337.36842105,   184.25806452,  1160.09375   ,     0.        ,\n",
              "         1609.8125    ]])"
            ]
          },
          "metadata": {},
          "execution_count": 281
        }
      ],
      "source": [
        "dados_new[2] = dados_new[0] / (2022 - dados_new[1])\n",
        "dados_new"
      ]
    },
    {
      "cell_type": "markdown",
      "metadata": {
        "id": "GPSk7Q_Dltp4"
      },
      "source": [
        "# 5.5 Estatísticas com arrays Numpy\n",
        "\n",
        "https://numpy.org/doc/1.16/reference/arrays.ndarray.html#calculation\n",
        "\n",
        "e\n",
        "\n",
        "https://numpy.org/doc/1.16/reference/routines.statistics.html\n",
        "\n",
        "e\n",
        "\n",
        "https://numpy.org/doc/1.16/reference/routines.math.html"
      ]
    },
    {
      "cell_type": "code",
      "execution_count": 282,
      "metadata": {
        "id": "RH2u1orXltp5"
      },
      "outputs": [],
      "source": [
        "anos = np.loadtxt(fname = \"carros-anos.txt\", dtype = int)\n",
        "km = np.loadtxt(fname = \"carros-km.txt\")\n",
        "valor = np.loadtxt(fname = \"carros-valor.txt\")"
      ]
    },
    {
      "cell_type": "code",
      "execution_count": 283,
      "metadata": {
        "id": "wbITF7r6ltp5",
        "colab": {
          "base_uri": "https://localhost:8080/"
        },
        "outputId": "6d2da79e-8ab8-4b10-f3cf-73df0d0f333d"
      },
      "outputs": [
        {
          "output_type": "execute_result",
          "data": {
            "text/plain": [
              "(258,)"
            ]
          },
          "metadata": {},
          "execution_count": 283
        }
      ],
      "source": [
        "anos.shape"
      ]
    },
    {
      "cell_type": "markdown",
      "metadata": {
        "id": "U_x3SOVDltp7"
      },
      "source": [
        "https://numpy.org/doc/1.16/reference/generated/numpy.column_stack.html"
      ]
    },
    {
      "cell_type": "code",
      "execution_count": 287,
      "metadata": {
        "id": "wefxl-XBltp8",
        "colab": {
          "base_uri": "https://localhost:8080/"
        },
        "outputId": "9d377c2b-3bc5-4c16-c4f3-e0cc51378161"
      },
      "outputs": [
        {
          "output_type": "execute_result",
          "data": {
            "text/plain": [
              "array([[2.0030000e+03, 4.4410000e+04, 8.8078640e+04],\n",
              "       [1.9910000e+03, 5.7120000e+03, 1.0616194e+05],\n",
              "       [1.9900000e+03, 3.7123000e+04, 7.2832160e+04],\n",
              "       [2.0190000e+03, 0.0000000e+00, 1.2454907e+05],\n",
              "       [2.0060000e+03, 2.5757000e+04, 9.2612100e+04],\n",
              "       [2.0120000e+03, 1.0728000e+04, 9.7497730e+04],\n",
              "       [2.0190000e+03, 0.0000000e+00, 5.6445200e+04],\n",
              "       [2.0090000e+03, 7.7599000e+04, 1.1231044e+05],\n",
              "       [2.0100000e+03, 9.9197000e+04, 1.2071627e+05],\n",
              "       [2.0110000e+03, 3.7978000e+04, 7.6566490e+04],\n",
              "       [2.0020000e+03, 1.2859000e+04, 7.1647590e+04],\n",
              "       [2.0070000e+03, 8.0520000e+03, 7.3919530e+04],\n",
              "       [2.0010000e+03, 8.9773000e+04, 1.1273299e+05],\n",
              "       [2.0190000e+03, 0.0000000e+00, 5.3183380e+04],\n",
              "       [2.0090000e+03, 4.1457000e+04, 1.2748842e+05],\n",
              "       [2.0160000e+03, 1.1560700e+05, 5.9910400e+04],\n",
              "       [2.0120000e+03, 4.6449000e+04, 6.1118590e+04],\n",
              "       [2.0190000e+03, 0.0000000e+00, 8.8552390e+04],\n",
              "       [2.0160000e+03, 3.7086000e+04, 6.2696690e+04],\n",
              "       [2.0170000e+03, 1.5173000e+04, 1.0172630e+05],\n",
              "       [2.0020000e+03, 1.0119300e+05, 1.0614738e+05],\n",
              "       [2.0190000e+03, 0.0000000e+00, 9.4564400e+04],\n",
              "       [1.9940000e+03, 9.8079000e+04, 1.3352984e+05],\n",
              "       [1.9910000e+03, 1.0295900e+05, 1.2568465e+05],\n",
              "       [2.0190000e+03, 0.0000000e+00, 1.2159621e+05],\n",
              "       [2.0190000e+03, 0.0000000e+00, 7.1367100e+04],\n",
              "       [2.0160000e+03, 5.7950000e+03, 9.5347750e+04],\n",
              "       [2.0190000e+03, 0.0000000e+00, 1.0543284e+05],\n",
              "       [2.0020000e+03, 5.8848000e+04, 5.7045270e+04],\n",
              "       [1.9910000e+03, 9.4381000e+04, 1.2043270e+05],\n",
              "       [1.9970000e+03, 3.0163000e+04, 7.0707200e+04],\n",
              "       [1.9950000e+03, 5.3332000e+04, 6.9105180e+04],\n",
              "       [2.0180000e+03, 1.7720000e+04, 5.9358690e+04],\n",
              "       [1.9910000e+03, 3.3808000e+04, 6.5955400e+04],\n",
              "       [2.0140000e+03, 9.0684000e+04, 6.0017030e+04],\n",
              "       [1.9950000e+03, 4.3975000e+04, 1.1890952e+05],\n",
              "       [2.0190000e+03, 0.0000000e+00, 5.1606590e+04],\n",
              "       [2.0190000e+03, 0.0000000e+00, 1.2328187e+05],\n",
              "       [2.0090000e+03, 5.5260000e+03, 6.9770180e+04],\n",
              "       [2.0190000e+03, 0.0000000e+00, 1.0260954e+05],\n",
              "       [2.0130000e+03, 9.3415000e+04, 6.7997190e+04],\n",
              "       [2.0030000e+03, 4.0762000e+04, 1.3523529e+05],\n",
              "       [2.0190000e+03, 0.0000000e+00, 8.6641340e+04],\n",
              "       [2.0020000e+03, 8.6302000e+04, 1.3681839e+05],\n",
              "       [2.0190000e+03, 0.0000000e+00, 1.1762673e+05],\n",
              "       [2.0020000e+03, 9.7550000e+03, 5.6208700e+04],\n",
              "       [2.0040000e+03, 6.9945000e+04, 8.4222650e+04],\n",
              "       [2.0010000e+03, 2.3950000e+03, 9.0781650e+04],\n",
              "       [2.0190000e+03, 0.0000000e+00, 6.4701100e+04],\n",
              "       [2.0030000e+03, 8.0349000e+04, 1.2635049e+05],\n",
              "       [2.0090000e+03, 8.5554000e+04, 1.4815289e+05],\n",
              "       [2.0060000e+03, 5.0496000e+04, 1.3229883e+05],\n",
              "       [2.0000000e+03, 6.7716000e+04, 1.3762763e+05],\n",
              "       [2.0060000e+03, 9.3947000e+04, 8.0422710e+04],\n",
              "       [2.0100000e+03, 3.5345000e+04, 5.6373990e+04],\n",
              "       [1.9940000e+03, 8.1007000e+04, 7.0846030e+04],\n",
              "       [2.0070000e+03, 1.1951300e+05, 1.2869423e+05],\n",
              "       [2.0190000e+03, 0.0000000e+00, 1.3332919e+05],\n",
              "       [2.0190000e+03, 0.0000000e+00, 1.3196143e+05],\n",
              "       [2.0190000e+03, 0.0000000e+00, 1.1203327e+05],\n",
              "       [2.0190000e+03, 0.0000000e+00, 8.1399350e+04],\n",
              "       [2.0190000e+03, 0.0000000e+00, 9.7163100e+04],\n",
              "       [2.0170000e+03, 1.1889500e+05, 6.6007160e+04],\n",
              "       [2.0110000e+03, 4.8509000e+04, 1.2877622e+05],\n",
              "       [2.0010000e+03, 1.0091200e+05, 1.4262302e+05],\n",
              "       [1.9960000e+03, 9.5649000e+04, 1.3693013e+05],\n",
              "       [2.0190000e+03, 0.0000000e+00, 6.6526610e+04],\n",
              "       [1.9940000e+03, 9.0495000e+04, 1.1415487e+05],\n",
              "       [2.0190000e+03, 0.0000000e+00, 1.4239275e+05],\n",
              "       [2.0070000e+03, 2.9132000e+04, 1.4671691e+05],\n",
              "       [1.9940000e+03, 2.3802000e+04, 1.2248568e+05],\n",
              "       [2.0070000e+03, 8.4992000e+04, 9.7951030e+04],\n",
              "       [1.9970000e+03, 5.4395000e+04, 7.8283490e+04],\n",
              "       [2.0060000e+03, 2.6731000e+04, 8.3434040e+04],\n",
              "       [2.0130000e+03, 4.4329000e+04, 7.7836230e+04],\n",
              "       [1.9940000e+03, 1.1823600e+05, 6.0813920e+04],\n",
              "       [2.0080000e+03, 1.1380800e+05, 9.1353860e+04],\n",
              "       [2.0080000e+03, 6.1000000e+02, 1.1628121e+05],\n",
              "       [2.0190000e+03, 0.0000000e+00, 1.4519770e+05],\n",
              "       [2.0190000e+03, 0.0000000e+00, 5.0742100e+04],\n",
              "       [1.9990000e+03, 1.2887000e+04, 7.3033530e+04],\n",
              "       [2.0070000e+03, 7.9607000e+04, 5.4332870e+04],\n",
              "       [1.9930000e+03, 9.0924000e+04, 5.2207450e+04],\n",
              "       [1.9950000e+03, 4.2733000e+04, 6.3578500e+04],\n",
              "       [2.0190000e+03, 0.0000000e+00, 6.4507720e+04],\n",
              "       [2.0190000e+03, 0.0000000e+00, 1.1507559e+05],\n",
              "       [2.0160000e+03, 1.1771400e+05, 1.3303060e+05],\n",
              "       [2.0110000e+03, 1.1388500e+05, 1.4159186e+05],\n",
              "       [2.0190000e+03, 0.0000000e+00, 1.0038028e+05],\n",
              "       [2.0020000e+03, 3.0511000e+04, 9.6369040e+04],\n",
              "       [2.0130000e+03, 7.4867000e+04, 1.4260384e+05],\n",
              "       [2.0170000e+03, 1.1976000e+05, 1.1770967e+05],\n",
              "       [2.0160000e+03, 8.3560000e+03, 1.0224154e+05],\n",
              "       [2.0080000e+03, 6.4247000e+04, 9.6065380e+04],\n",
              "       [2.0180000e+03, 8.8661000e+04, 5.3894610e+04],\n",
              "       [2.0030000e+03, 4.5390000e+03, 1.2391178e+05],\n",
              "       [2.0030000e+03, 1.1011600e+05, 1.0199635e+05],\n",
              "       [2.0040000e+03, 3.3215000e+04, 8.3431660e+04],\n",
              "       [2.0100000e+03, 9.2001000e+04, 1.2297563e+05],\n",
              "       [2.0190000e+03, 0.0000000e+00, 9.3227730e+04],\n",
              "       [2.0060000e+03, 8.1708000e+04, 5.8762650e+04],\n",
              "       [2.0010000e+03, 7.0641000e+04, 1.3954967e+05],\n",
              "       [2.0190000e+03, 0.0000000e+00, 1.2201642e+05],\n",
              "       [2.0150000e+03, 9.1277000e+04, 7.2731980e+04],\n",
              "       [2.0180000e+03, 2.6544000e+04, 8.8416540e+04],\n",
              "       [2.0170000e+03, 5.2596000e+04, 7.3873420e+04],\n",
              "       [1.9920000e+03, 4.7503000e+04, 7.0709340e+04],\n",
              "       [2.0010000e+03, 8.9056000e+04, 1.1530650e+05],\n",
              "       [1.9930000e+03, 2.8834000e+04, 5.5924630e+04],\n",
              "       [1.9950000e+03, 1.1056400e+05, 8.5052260e+04],\n",
              "       [2.0030000e+03, 5.6638000e+04, 5.6646340e+04],\n",
              "       [2.0140000e+03, 1.7357000e+04, 1.3894688e+05],\n",
              "       [2.0080000e+03, 7.4015000e+04, 1.0825672e+05],\n",
              "       [2.0130000e+03, 1.5196000e+04, 5.8979300e+04],\n",
              "       [2.0190000e+03, 0.0000000e+00, 1.1472768e+05],\n",
              "       [2.0170000e+03, 1.0821000e+04, 1.3966148e+05],\n",
              "       [2.0190000e+03, 0.0000000e+00, 8.0382240e+04],\n",
              "       [2.0190000e+03, 0.0000000e+00, 1.4915717e+05],\n",
              "       [2.0060000e+03, 9.5950000e+03, 8.7830410e+04],\n",
              "       [2.0150000e+03, 9.9052000e+04, 1.4356822e+05],\n",
              "       [2.0070000e+03, 5.2389000e+04, 1.3817185e+05],\n",
              "       [2.0050000e+03, 1.1994500e+05, 1.1578495e+05],\n",
              "       [2.0170000e+03, 9.6005000e+04, 1.4650899e+05],\n",
              "       [1.9980000e+03, 3.1639000e+04, 1.3767023e+05],\n",
              "       [2.0190000e+03, 0.0000000e+00, 1.3859727e+05],\n",
              "       [1.9990000e+03, 8.0187000e+04, 1.4762781e+05],\n",
              "       [2.0190000e+03, 0.0000000e+00, 6.2999020e+04],\n",
              "       [2.0090000e+03, 5.8212000e+04, 9.1242440e+04],\n",
              "       [2.0030000e+03, 6.1672000e+04, 1.4948992e+05],\n",
              "       [1.9940000e+03, 3.2017000e+04, 6.3529950e+04],\n",
              "       [2.0190000e+03, 0.0000000e+00, 5.8525410e+04],\n",
              "       [1.9940000e+03, 5.6944000e+04, 9.0345050e+04],\n",
              "       [2.0190000e+03, 0.0000000e+00, 1.4777087e+05],\n",
              "       [2.0150000e+03, 8.6519000e+04, 1.0661771e+05],\n",
              "       [1.9960000e+03, 4.8210000e+03, 1.0492988e+05],\n",
              "       [1.9970000e+03, 1.0102500e+05, 1.0071245e+05],\n",
              "       [1.9930000e+03, 3.0705000e+04, 1.4198293e+05],\n",
              "       [2.0190000e+03, 0.0000000e+00, 1.0403879e+05],\n",
              "       [1.9920000e+03, 3.2555000e+04, 8.8501540e+04],\n",
              "       [1.9950000e+03, 1.0338900e+05, 7.9782020e+04],\n",
              "       [2.0190000e+03, 0.0000000e+00, 8.6224100e+04],\n",
              "       [1.9900000e+03, 5.5289000e+04, 1.0359618e+05],\n",
              "       [2.0190000e+03, 0.0000000e+00, 1.4899647e+05],\n",
              "       [2.0190000e+03, 0.0000000e+00, 6.0948010e+04],\n",
              "       [1.9910000e+03, 1.1593000e+05, 6.9535440e+04],\n",
              "       [1.9900000e+03, 6.6437000e+04, 1.1113033e+05],\n",
              "       [2.0120000e+03, 9.6800000e+04, 6.5847690e+04],\n",
              "       [2.0070000e+03, 1.4237000e+04, 7.8096060e+04],\n",
              "       [2.0130000e+03, 1.9896000e+04, 6.9219890e+04],\n",
              "       [2.0000000e+03, 1.1304500e+05, 1.4411891e+05],\n",
              "       [2.0020000e+03, 1.1494200e+05, 7.7397050e+04],\n",
              "       [1.9960000e+03, 3.1730000e+03, 6.8974250e+04],\n",
              "       [1.9960000e+03, 8.3611000e+04, 1.2523130e+05],\n",
              "       [2.0150000e+03, 2.5356000e+04, 8.5501120e+04],\n",
              "       [1.9930000e+03, 8.8634000e+04, 1.3711621e+05],\n",
              "       [2.0130000e+03, 2.3140000e+03, 1.3882381e+05],\n",
              "       [2.0130000e+03, 2.6270000e+03, 1.1796195e+05],\n",
              "       [2.0090000e+03, 5.2034000e+04, 1.3266232e+05],\n",
              "       [2.0190000e+03, 0.0000000e+00, 1.4640579e+05],\n",
              "       [2.0190000e+03, 0.0000000e+00, 8.1999210e+04],\n",
              "       [2.0020000e+03, 7.9577000e+04, 1.4093460e+05],\n",
              "       [1.9970000e+03, 1.0820100e+05, 8.2366810e+04],\n",
              "       [1.9980000e+03, 7.6453000e+04, 7.0424110e+04],\n",
              "       [2.0040000e+03, 5.7683000e+04, 5.3620310e+04],\n",
              "       [1.9960000e+03, 9.6610000e+04, 7.3389180e+04],\n",
              "       [2.0150000e+03, 1.0900100e+05, 1.1161812e+05],\n",
              "       [2.0160000e+03, 2.6212000e+04, 1.1218737e+05],\n",
              "       [2.0050000e+03, 4.5971000e+04, 1.2081257e+05],\n",
              "       [1.9990000e+03, 4.9182000e+04, 1.1603104e+05],\n",
              "       [1.9950000e+03, 4.9907000e+04, 1.2539811e+05],\n",
              "       [1.9930000e+03, 3.8620000e+04, 7.6101470e+04],\n",
              "       [2.0040000e+03, 6.0996000e+04, 7.5263240e+04],\n",
              "       [2.0130000e+03, 7.3914000e+04, 1.4738776e+05],\n",
              "       [1.9980000e+03, 1.0739200e+05, 8.5311400e+04],\n",
              "       [2.0180000e+03, 9.1460000e+03, 5.4388110e+04],\n",
              "       [2.0190000e+03, 0.0000000e+00, 1.2415665e+05],\n",
              "       [2.0180000e+03, 1.7924000e+04, 1.4620334e+05],\n",
              "       [2.0190000e+03, 0.0000000e+00, 5.6453940e+04],\n",
              "       [1.9900000e+03, 1.1694900e+05, 6.8873790e+04],\n",
              "       [2.0090000e+03, 2.0476000e+04, 9.1667610e+04],\n",
              "       [1.9900000e+03, 5.2804000e+04, 9.3776520e+04],\n",
              "       [2.0060000e+03, 8.8490000e+03, 6.6433820e+04],\n",
              "       [2.0020000e+03, 9.1724000e+04, 1.0905927e+05],\n",
              "       [1.9910000e+03, 3.2056000e+04, 1.2206997e+05],\n",
              "       [1.9920000e+03, 7.4886000e+04, 1.1309032e+05],\n",
              "       [2.0190000e+03, 0.0000000e+00, 8.9401100e+04],\n",
              "       [2.0190000e+03, 0.0000000e+00, 5.6842790e+04],\n",
              "       [2.0050000e+03, 5.2189000e+04, 1.4667671e+05],\n",
              "       [2.0100000e+03, 8.3559000e+04, 8.9511960e+04],\n",
              "       [2.0190000e+03, 0.0000000e+00, 9.7290180e+04],\n",
              "       [2.0160000e+03, 2.0328000e+04, 1.2067356e+05],\n",
              "       [2.0190000e+03, 0.0000000e+00, 1.1443494e+05],\n",
              "       [2.0100000e+03, 7.5577000e+04, 1.3954669e+05],\n",
              "       [1.9940000e+03, 3.3659000e+04, 9.5078160e+04],\n",
              "       [2.0010000e+03, 1.0434100e+05, 6.8091770e+04],\n",
              "       [2.0140000e+03, 2.5510000e+04, 6.1496970e+04],\n",
              "       [1.9960000e+03, 1.8965000e+04, 1.3966930e+05],\n",
              "       [1.9930000e+03, 8.7161000e+04, 8.0661390e+04],\n",
              "       [1.9930000e+03, 6.6520000e+03, 6.1783650e+04],\n",
              "       [2.0010000e+03, 5.5738000e+04, 5.2805910e+04],\n",
              "       [2.0190000e+03, 0.0000000e+00, 1.2702475e+05],\n",
              "       [2.0190000e+03, 0.0000000e+00, 1.3554300e+05],\n",
              "       [2.0190000e+03, 0.0000000e+00, 1.2170873e+05],\n",
              "       [2.0070000e+03, 6.4320000e+04, 1.0734268e+05],\n",
              "       [2.0190000e+03, 0.0000000e+00, 5.7888100e+04],\n",
              "       [2.0160000e+03, 6.8678000e+04, 1.1816148e+05],\n",
              "       [2.0140000e+03, 7.1697000e+04, 1.4249906e+05],\n",
              "       [2.0190000e+03, 0.0000000e+00, 1.2839611e+05],\n",
              "       [2.0150000e+03, 3.4783000e+04, 1.1235061e+05],\n",
              "       [2.0150000e+03, 3.3772000e+04, 1.2466138e+05],\n",
              "       [1.9960000e+03, 8.5127000e+04, 5.4263160e+04],\n",
              "       [2.0020000e+03, 1.3606000e+04, 6.2041320e+04],\n",
              "       [2.0050000e+03, 3.5647000e+04, 1.2929611e+05],\n",
              "       [1.9950000e+03, 9.5128000e+04, 6.0998330e+04],\n",
              "       [1.9990000e+03, 1.4046000e+04, 5.8008500e+04],\n",
              "       [2.0050000e+03, 4.1194000e+04, 8.2304190e+04],\n",
              "       [2.0190000e+03, 0.0000000e+00, 1.1453174e+05],\n",
              "       [1.9970000e+03, 9.6100000e+04, 1.2856561e+05],\n",
              "       [1.9900000e+03, 1.0390000e+05, 1.2648826e+05],\n",
              "       [2.0010000e+03, 4.3814000e+04, 1.1907455e+05],\n",
              "       [2.0130000e+03, 2.4638000e+04, 1.3023804e+05],\n",
              "       [2.0190000e+03, 0.0000000e+00, 1.1576017e+05],\n",
              "       [2.0170000e+03, 1.1096600e+05, 1.2124800e+05],\n",
              "       [2.0110000e+03, 1.5987000e+04, 9.8156350e+04],\n",
              "       [2.0050000e+03, 5.3369000e+04, 1.1214680e+05],\n",
              "       [2.0070000e+03, 1.0077000e+04, 1.0272963e+05],\n",
              "       [1.9930000e+03, 7.1544000e+04, 1.4108335e+05],\n",
              "       [1.9910000e+03, 1.0700000e+02, 1.0296876e+05],\n",
              "       [1.9910000e+03, 8.3940000e+03, 7.6310010e+04],\n",
              "       [1.9970000e+03, 4.1498000e+04, 1.2048174e+05],\n",
              "       [2.0000000e+03, 1.1600200e+05, 5.4559180e+04],\n",
              "       [2.0070000e+03, 1.0085800e+05, 9.2957640e+04],\n",
              "       [2.0060000e+03, 6.7475000e+04, 1.2781006e+05],\n",
              "       [2.0150000e+03, 8.4970000e+03, 7.3311750e+04],\n",
              "       [2.0080000e+03, 4.4200000e+03, 6.5138030e+04],\n",
              "       [2.0190000e+03, 0.0000000e+00, 9.0141470e+04],\n",
              "       [1.9960000e+03, 5.8537000e+04, 7.1160360e+04],\n",
              "       [2.0190000e+03, 0.0000000e+00, 6.7539790e+04],\n",
              "       [2.0190000e+03, 0.0000000e+00, 6.7664860e+04],\n",
              "       [2.0140000e+03, 1.1201600e+05, 6.8652160e+04],\n",
              "       [2.0040000e+03, 9.1840000e+04, 1.1472874e+05],\n",
              "       [2.0080000e+03, 1.1278700e+05, 1.4164508e+05],\n",
              "       [2.0190000e+03, 0.0000000e+00, 1.2624784e+05],\n",
              "       [2.0190000e+03, 0.0000000e+00, 1.2885221e+05],\n",
              "       [2.0120000e+03, 9.2930000e+03, 1.3238476e+05],\n",
              "       [2.0190000e+03, 0.0000000e+00, 1.2941533e+05],\n",
              "       [1.9960000e+03, 5.5083000e+04, 8.9536820e+04],\n",
              "       [2.0110000e+03, 4.8796000e+04, 8.7975300e+04],\n",
              "       [2.0190000e+03, 0.0000000e+00, 7.7675790e+04],\n",
              "       [2.0100000e+03, 8.9685000e+04, 5.8881670e+04],\n",
              "       [2.0070000e+03, 8.5384000e+04, 5.5081990e+04],\n",
              "       [1.9940000e+03, 9.8108000e+04, 1.1882644e+05],\n",
              "       [2.0070000e+03, 7.1280000e+04, 1.3762762e+05],\n",
              "       [2.0140000e+03, 2.7505000e+04, 5.1759580e+04],\n",
              "       [1.9910000e+03, 2.9981000e+04, 5.1667060e+04],\n",
              "       [2.0020000e+03, 5.2637000e+04, 6.8934030e+04],\n",
              "       [1.9960000e+03, 7.6850000e+03, 1.2211090e+05],\n",
              "       [1.9920000e+03, 5.0188000e+04, 9.0381470e+04]])"
            ]
          },
          "metadata": {},
          "execution_count": 287
        }
      ],
      "source": [
        "dataset = np.column_stack((anos, km, valor))\n",
        "dataset"
      ]
    },
    {
      "cell_type": "code",
      "execution_count": 288,
      "metadata": {
        "id": "OzDTTmj8ltp_",
        "scrolled": true,
        "colab": {
          "base_uri": "https://localhost:8080/"
        },
        "outputId": "dbf7386f-8ad8-4494-b0f7-d50b27130699"
      },
      "outputs": [
        {
          "output_type": "execute_result",
          "data": {
            "text/plain": [
              "(258, 3)"
            ]
          },
          "metadata": {},
          "execution_count": 288
        }
      ],
      "source": [
        "dataset.shape"
      ]
    },
    {
      "cell_type": "markdown",
      "metadata": {
        "id": "Me6yUU_RltqA"
      },
      "source": [
        "## *np.mean()*\n",
        "\n",
        "Retorna a média dos elementos do array ao longo do eixo especificado."
      ]
    },
    {
      "cell_type": "code",
      "execution_count": 289,
      "metadata": {
        "id": "MNEKcP38ltqA",
        "colab": {
          "base_uri": "https://localhost:8080/"
        },
        "outputId": "54bfaa6c-4345-4574-93f1-a3a6cfe604aa"
      },
      "outputs": [
        {
          "output_type": "execute_result",
          "data": {
            "text/plain": [
              "48489.14648578811"
            ]
          },
          "metadata": {},
          "execution_count": 289
        }
      ],
      "source": [
        "np.mean(dataset)"
      ]
    },
    {
      "cell_type": "code",
      "execution_count": 290,
      "metadata": {
        "id": "sekHQ84zltqB",
        "colab": {
          "base_uri": "https://localhost:8080/"
        },
        "outputId": "30503cb9-e669-4e1c-e395-6184ccd9b853"
      },
      "outputs": [
        {
          "output_type": "execute_result",
          "data": {
            "text/plain": [
              "array([ 2007.51162791, 44499.41472868, 98960.51310078])"
            ]
          },
          "metadata": {},
          "execution_count": 290
        }
      ],
      "source": [
        "np.mean(dataset, axis = 0)"
      ]
    },
    {
      "cell_type": "code",
      "execution_count": 291,
      "metadata": {
        "id": "RpyETIVSltqC",
        "colab": {
          "base_uri": "https://localhost:8080/"
        },
        "outputId": "49786d57-b071-4ad8-aed2-93f84871fb1c"
      },
      "outputs": [
        {
          "output_type": "execute_result",
          "data": {
            "text/plain": [
              "44499.41472868217"
            ]
          },
          "metadata": {},
          "execution_count": 291
        }
      ],
      "source": [
        "np.mean(dataset[:,1])"
      ]
    },
    {
      "cell_type": "code",
      "execution_count": 292,
      "metadata": {
        "id": "_-kpcTI8ltqD",
        "scrolled": true,
        "colab": {
          "base_uri": "https://localhost:8080/"
        },
        "outputId": "57645223-cc30-4aad-82b9-92f8387d0833"
      },
      "outputs": [
        {
          "output_type": "execute_result",
          "data": {
            "text/plain": [
              "98960.51310077519"
            ]
          },
          "metadata": {},
          "execution_count": 292
        }
      ],
      "source": [
        "np.mean(dataset[:,2])"
      ]
    },
    {
      "cell_type": "markdown",
      "metadata": {
        "id": "71jViVBUltqE"
      },
      "source": [
        "## *np.std()*\n",
        "\n",
        "Retorna o desvio padrão dos elementos do array ao longo do eixo especificado."
      ]
    },
    {
      "cell_type": "code",
      "execution_count": 294,
      "metadata": {
        "id": "lEwUbPx2ltqE",
        "scrolled": true,
        "colab": {
          "base_uri": "https://localhost:8080/"
        },
        "outputId": "83cfb292-e2dd-420b-eae8-5ca4beb5ff4d"
      },
      "outputs": [
        {
          "output_type": "execute_result",
          "data": {
            "text/plain": [
              "29754.101150388564"
            ]
          },
          "metadata": {},
          "execution_count": 294
        }
      ],
      "source": [
        "np.std(dataset[:, 2])"
      ]
    },
    {
      "cell_type": "markdown",
      "metadata": {
        "id": "JTUH-vAeltqG"
      },
      "source": [
        "## *ndarray.sum()*\n",
        "\n",
        "Retorna a soma dos elementos do array ao longo do eixo especificado."
      ]
    },
    {
      "cell_type": "code",
      "execution_count": 295,
      "metadata": {
        "id": "jIi3yoaWltqG",
        "colab": {
          "base_uri": "https://localhost:8080/"
        },
        "outputId": "7001e138-6819-4e3a-d96f-5983b0e0f893"
      },
      "outputs": [
        {
          "output_type": "execute_result",
          "data": {
            "text/plain": [
              "array([  517938.        , 11480849.        , 25531812.37999999])"
            ]
          },
          "metadata": {},
          "execution_count": 295
        }
      ],
      "source": [
        "dataset.sum(axis = 0)"
      ]
    },
    {
      "cell_type": "code",
      "execution_count": 296,
      "metadata": {
        "id": "X3QYbdYLltqH",
        "colab": {
          "base_uri": "https://localhost:8080/"
        },
        "outputId": "44b90ae2-0590-4ea2-9565-758804030dea"
      },
      "outputs": [
        {
          "output_type": "execute_result",
          "data": {
            "text/plain": [
              "11480849.0"
            ]
          },
          "metadata": {},
          "execution_count": 296
        }
      ],
      "source": [
        "dataset[:, 1].sum()"
      ]
    },
    {
      "cell_type": "markdown",
      "metadata": {
        "id": "WbBD5ixaltqH"
      },
      "source": [
        "## *np.sum()*\n",
        "\n",
        "Retorna a soma dos elementos do array ao longo do eixo especificado."
      ]
    },
    {
      "cell_type": "code",
      "execution_count": 297,
      "metadata": {
        "id": "omB6kgWgltqH",
        "colab": {
          "base_uri": "https://localhost:8080/"
        },
        "outputId": "6b8436bb-0e7a-43c3-a23d-c4a092fa05c1"
      },
      "outputs": [
        {
          "output_type": "execute_result",
          "data": {
            "text/plain": [
              "array([  517938.        , 11480849.        , 25531812.37999999])"
            ]
          },
          "metadata": {},
          "execution_count": 297
        }
      ],
      "source": [
        "np.sum(dataset, axis = 0)"
      ]
    },
    {
      "cell_type": "code",
      "execution_count": 298,
      "metadata": {
        "id": "LiD4G3kQltqI",
        "colab": {
          "base_uri": "https://localhost:8080/"
        },
        "outputId": "51ada2b5-7931-4a7e-e583-7c6211c44fa8"
      },
      "outputs": [
        {
          "output_type": "execute_result",
          "data": {
            "text/plain": [
              "25531812.38"
            ]
          },
          "metadata": {},
          "execution_count": 298
        }
      ],
      "source": [
        "np.sum(dataset[:, 2])"
      ]
    }
  ],
  "metadata": {
    "colab": {
      "name": "Python_Data_Science_Numpy.ipynb",
      "provenance": [],
      "collapsed_sections": [
        "wMdUsAq4ltjs",
        "KdG5NmmGltj0",
        "qaVLKIeultkn",
        "fDBrHWSBltlB",
        "8--bcJ01ltm8",
        "8lSC0XEDltm-",
        "8zMZNsg2ltoU",
        "RtG2-g1ultme",
        "e9r6ryTrltpw"
      ],
      "toc_visible": true,
      "include_colab_link": true
    },
    "kernelspec": {
      "display_name": "Python 3",
      "language": "python",
      "name": "python3"
    },
    "language_info": {
      "codemirror_mode": {
        "name": "ipython",
        "version": 3
      },
      "file_extension": ".py",
      "mimetype": "text/x-python",
      "name": "python",
      "nbconvert_exporter": "python",
      "pygments_lexer": "ipython3",
      "version": "3.6.5"
    }
  },
  "nbformat": 4,
  "nbformat_minor": 0
}